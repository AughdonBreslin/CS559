{
 "cells": [
  {
   "cell_type": "markdown",
   "metadata": {},
   "source": [
    "## CS559 Summer21 Final Exam. (110 pts)\n",
    "### Due: August 24$^{th}$ Tuesday 6 PM\n",
    "### Exam Period: Three hours\n",
    "\n",
    "- **Late Submission Penalty**: Within the exam period, you are allowed to take the exam at any time at your convenience. However, the exam must be submitted within <u>**two hours**</u> from the exam starting time. Any late submissions will be penalized - **5 points for every 5 minutes.**\n",
    "- **Required File Submission**: Students must submit the exam in two formats - ***HTML*** and ***notebook***. <u>**If either file is missing, the exam will not be graded.**</u> Before the submission, please execute all codes in notebook.  \n",
    "- **Open Notes and Resource Usability**: Students may use the previous demonstration files provided in class and the lecture notes or textbooks. The use of the internet is prohibited. <u>**Any evidence of cheating or copying from outside resources will mark 0 on the final exam.**</u>\n",
    "- **Library Use**: You can use any built-in functions and libraries if the descriptions are not specified - some questions may require specific functions and libraries. "
   ]
  },
  {
   "cell_type": "markdown",
   "metadata": {},
   "source": [
    "### 1. Probability Theory: (15 pts)\n",
    "##### Work on notebook and provide answers in dataframes.\n",
    "This is a pure computation problem. You do not have use any built-in statistical functions and rather can just solve numerically. Please do not just provide answers. \n",
    "\n",
    "A grocery store sells apples from 3 different countries (country A, country B, and country C). All the apples from country A are sweet, while 60% of the apples from country B are sweet, and 40% of the apples from country C are sweet. Unfortunately, the sign in the grocery store that would normally indicate where the apples are from is missing. Nevertheless, you buy a bag of apples. Before tasting any apple, you believe that they are from country A with probability 0.6, country B with probability 0.3 and country C with probability 0.25. After tasting 6 apples, you noticed that 4 of them are sweet and 2 of them are not sweet."
   ]
  },
  {
   "cell_type": "markdown",
   "metadata": {},
   "source": [
    "#### 1-a: Bayesian learning: what is your posterior belief (after tasting the 6 apples mentioned above) that the apples are from each country? Find the prior, the likelihood, the unnormalized posterior, and the normalized posterior. (8 pts)"
   ]
  },
  {
   "cell_type": "code",
   "execution_count": 5,
   "metadata": {},
   "outputs": [],
   "source": [
    "import numpy as np\n",
    "## Type Priors\n",
    "PrA= .6\n",
    "PrB= .3\n",
    "PrC= .25\n",
    "\n",
    "## Type likelihood\n",
    "LiA=1\n",
    "LiB=.6\n",
    "LiC=.4"
   ]
  },
  {
   "cell_type": "code",
   "execution_count": 275,
   "metadata": {},
   "outputs": [],
   "source": [
    "## Calculate Unnormalized Posterior\n",
    "UnNormA=(15)*1*0\n",
    "UnNormB=(15) * .3**4 * .7**2\n",
    "UnNormC=(15) * .25**4 * .75**2\n",
    "\n",
    "psweet = 0*.6+UnNormB*.3+UnNormC*.25\n",
    "## Calculate Normalized Posterior\n",
    "NormA=UnNormA*.6/psweet\n",
    "NormB=UnNormB*.3/psweet\n",
    "NormC=UnNormC*.25/psweet"
   ]
  },
  {
   "cell_type": "code",
   "execution_count": 276,
   "metadata": {},
   "outputs": [
    {
     "name": "stdout",
     "output_type": "stream",
     "text": [
      "{'Country': ['A', 'B', 'C'], 'Prior': [0.6, 0.3, 0.25], 'Likelihood': [1, 0.6, 0.4], 'Unnormalized Posterior': [0, 0.05953499999999999, 0.032958984375], 'Normalized Posterior': [0.0, 0.6843038926087712, 0.31569610739122883]}\n"
     ]
    }
   ],
   "source": [
    "AnswerA={'Country':['A','B','C'],'Prior':[PrA, PrB, PrC],'Likelihood':[LiA,LiB,LiC],\n",
    "         'Unnormalized Posterior':[UnNormA,UnNormB,UnNormC],'Normalized Posterior':[NormA,NormB,NormC]}\n",
    "print(AnswerA)"
   ]
  },
  {
   "cell_type": "markdown",
   "metadata": {},
   "source": [
    "#### 1-b: What is the probability that the next apple that you will taste is sweet according to the Bayesian learning prediction $Pr(Sweet|4sweets,1\\sim sweet)$? (7 pts)"
   ]
  },
  {
   "cell_type": "code",
   "execution_count": 277,
   "metadata": {},
   "outputs": [
    {
     "name": "stdout",
     "output_type": "stream",
     "text": [
      "0.5368607785217543\n"
     ]
    }
   ],
   "source": [
    "#P(sweet | A) * P(A | 4 sweet, 1 unsweet) + P(sweet|B) * P(B|4 sweet, 1 unsweet) + P(sweet|C) * P(C | 4 sweet, 1 unsweet)\n",
    "ProbB=1*NormA+.6*NormB+.4*NormC\n",
    "print(ProbB)"
   ]
  },
  {
   "cell_type": "markdown",
   "metadata": {},
   "source": [
    "### 2. Probabilitic Classification [25 pts]\n",
    "\n",
    "2-a: Consider the following dataset. The input space has one dimension and there are two classes (+ and -): (0,+), (1,+), (0.9,+), (0.5,+), (1.5, -), (0.7, -), (1.2, -), (0.95,-).  Suppose that we are training a mixture of Gaussians model by maximum likelihood. In computations, use \"P\" for + and \"M\" for - classes. DO NOT USE ANY BUILT-IN FUNCTIONS. \n",
    "- What are the prior probabilities of each class Pr(+) and Pr(-)? [2pts]\n",
    "- What is the mean of the conditional distribution of each class and what is the variance (assuming that both class conditional distributions have the same variance)? [3 pts]\n",
    "- What is the probability $Pr(+|0.8)$? [5 pts]"
   ]
  },
  {
   "cell_type": "code",
   "execution_count": 14,
   "metadata": {},
   "outputs": [],
   "source": [
    "### Prior Probability Computation:\n",
    "PrP=.5\n",
    "PrM=.5\n",
    "\n",
    "### Compute mean of each class:\n",
    "meanP=(0+1+.9+.5)/4\n",
    "meanM=(1.5+.7+1.2+.95)/4\n",
    "\n",
    "### Compute variance of each class:\n",
    "varP=((0-meanP)**2+(1-meanP)**2+(.9-meanP)**2+(.5-meanP)**2)/(4-1)\n",
    "varM=((1.5-meanM)**2+(.7-meanM)**2+(1.2-meanM)**2+(.95-meanM)**2)/(4-1)\n",
    "\n",
    "### Compute variance\n",
    "meanT = (meanP+meanM)/2\n",
    "variance=((0-meanT)**2+(1-meanT)**2+(.9-meanT)**2+(.5-meanT)**2+\n",
    "         (1.5-meanT)**2+(.7-meanT)**2+(1.2-meanT)**2+(.95-meanT)**2)/(8-1)\n",
    "\n",
    "#P(+|.8) = P(.8|+)P(+)/P(.8)"
   ]
  },
  {
   "cell_type": "code",
   "execution_count": 15,
   "metadata": {},
   "outputs": [
    {
     "data": {
      "text/plain": [
       "{'Class': ['+', '-'],\n",
       " 'Prior': [0.5, 0.5],\n",
       " 'Mean': [0.6, 1.0875000000000001],\n",
       " 'Variance': [0.2066666666666667, 0.11729166666666668]}"
      ]
     },
     "execution_count": 15,
     "metadata": {},
     "output_type": "execute_result"
    }
   ],
   "source": [
    "Answer={'Class':['+','-'],'Prior':[PrP, PrM],'Mean':[meanP,meanM],'Variance':[varP,varM]}\n",
    "Answer"
   ]
  },
  {
   "cell_type": "code",
   "execution_count": 16,
   "metadata": {},
   "outputs": [
    {
     "name": "stdout",
     "output_type": "stream",
     "text": [
      "Variance is 0.20674107142857143\n"
     ]
    }
   ],
   "source": [
    "print(\"Variance is\",variance)"
   ]
  },
  {
   "cell_type": "markdown",
   "metadata": {},
   "source": [
    "2-b: Suppose that you trained a linear classification model on some training data and the resulting weights are $w_0=1$,$w_1=2$,$w_3=-3$. Assuming two classes (+ and -), a data point is predicted to belong to class + when $\\sigma(w^T x+w_0 )\\ge0.8$. Implement a function `my_class` that classifies the following data points - $(2,1)^T$, $(1,2)^T$, and $(0.5,-1)^T$ - and report the class of each point. `my_class` is a function that classifies individual point. You can use simple math functions but not *ML* algorithms, e.g., Logistic Regression, SVM, etc. [10 pts] "
   ]
  },
  {
   "cell_type": "code",
   "execution_count": 267,
   "metadata": {},
   "outputs": [],
   "source": [
    "import math\n",
    "def my_class(x,w):\n",
    "    z = w[1]*x[0]+w[2]*x[1] + w[0]\n",
    "    ans = 1 / (1 + math.exp(-z))\n",
    "    print(ans)\n",
    "    if ans >= 0.8:\n",
    "        return '+'\n",
    "    return '-'"
   ]
  },
  {
   "cell_type": "code",
   "execution_count": 268,
   "metadata": {},
   "outputs": [
    {
     "name": "stdout",
     "output_type": "stream",
     "text": [
      "[ 1  2 -3]\n",
      "0.8807970779778823\n",
      "0.04742587317756678\n",
      "0.9933071490757153\n"
     ]
    }
   ],
   "source": [
    "## Use my_class to verifty the class of each point\n",
    "w=np.array([1,2,-3])\n",
    "print(w)\n",
    "\n",
    "b1=my_class(np.array([2,1]),w)\n",
    "b2=my_class([1,2],w)\n",
    "b3=my_class([.5,-1],w)"
   ]
  },
  {
   "cell_type": "code",
   "execution_count": 270,
   "metadata": {},
   "outputs": [],
   "source": [
    "Answer={'Points':['(2,1)','(1,2)','(0.5,-1)'],'Class':[b1,b2,b3]}"
   ]
  },
  {
   "cell_type": "code",
   "execution_count": 271,
   "metadata": {},
   "outputs": [
    {
     "data": {
      "text/plain": [
       "{'Points': ['(2,1)', '(1,2)', '(0.5,-1'], 'Class': ['+', '-', '+']}"
      ]
     },
     "execution_count": 271,
     "metadata": {},
     "output_type": "execute_result"
    }
   ],
   "source": [
    "Answer"
   ]
  },
  {
   "cell_type": "markdown",
   "metadata": {},
   "source": [
    "2-c: Consider the following data set:\n",
    "\n",
    "|x|y|\n",
    "|---------|----|\n",
    "|(1,2)|+|\n",
    "|(-1,-1)|+|\n",
    "|(0,2)|-|\n",
    "|(1,0)|-|\n",
    "\n",
    "where the first two points belong to class + and the last two points belong to class −. Is it possible for a logistic regression classifier to correctly classify all points in this dataset? If yes, give weights that ensure correct classification? If no, explain why and describe an approach that could be used to modify the logistic regression classifier to correctly classify all those data points? [5 pts]"
   ]
  },
  {
   "cell_type": "code",
   "execution_count": null,
   "metadata": {},
   "outputs": [],
   "source": [
    "#Answer Here: NO the data is not linearly seperable because any line that groups the positive values will have one negative\n",
    "# on either side. Youd need to transform the data using a nonlinear mapping into a new plane where it would be linearly\n",
    "#separable"
   ]
  },
  {
   "cell_type": "markdown",
   "metadata": {},
   "source": [
    "### 3. Maximum Likelihood Estimation and Gradient Descent [25 pts]\n",
    "3-a: Consider a data set in which each data point $t_n$ is associated with a weighting factor $r_n>0$, so that the sum-of-squares error function becomes \n",
    "\n",
    "$$E_D(\\vec{w})=\\frac{1}{2}\\sum_{n=1}^Nr_n(t_n-\\vec{w}^T\\vec{x}_n)^2.$$\n",
    "Using the provided data `Q3_a.csv`, compute the solution $w^*$ that minimizes this error function when $r_n=1$. You can use numpy. [8 pts] \n"
   ]
  },
  {
   "cell_type": "code",
   "execution_count": 120,
   "metadata": {},
   "outputs": [],
   "source": [
    "import pandas as pd\n",
    "import numpy as np\n",
    "import matplotlib.pyplot as plt"
   ]
  },
  {
   "cell_type": "code",
   "execution_count": 121,
   "metadata": {},
   "outputs": [
    {
     "data": {
      "text/html": [
       "<div>\n",
       "<style scoped>\n",
       "    .dataframe tbody tr th:only-of-type {\n",
       "        vertical-align: middle;\n",
       "    }\n",
       "\n",
       "    .dataframe tbody tr th {\n",
       "        vertical-align: top;\n",
       "    }\n",
       "\n",
       "    .dataframe thead th {\n",
       "        text-align: right;\n",
       "    }\n",
       "</style>\n",
       "<table border=\"1\" class=\"dataframe\">\n",
       "  <thead>\n",
       "    <tr style=\"text-align: right;\">\n",
       "      <th></th>\n",
       "      <th>x</th>\n",
       "      <th>t</th>\n",
       "    </tr>\n",
       "  </thead>\n",
       "  <tbody>\n",
       "    <tr>\n",
       "      <th>0</th>\n",
       "      <td>3.421417</td>\n",
       "      <td>17.543762</td>\n",
       "    </tr>\n",
       "    <tr>\n",
       "      <th>1</th>\n",
       "      <td>3.426875</td>\n",
       "      <td>17.200615</td>\n",
       "    </tr>\n",
       "    <tr>\n",
       "      <th>2</th>\n",
       "      <td>3.427060</td>\n",
       "      <td>17.556409</td>\n",
       "    </tr>\n",
       "    <tr>\n",
       "      <th>3</th>\n",
       "      <td>3.433556</td>\n",
       "      <td>17.471299</td>\n",
       "    </tr>\n",
       "    <tr>\n",
       "      <th>4</th>\n",
       "      <td>3.441630</td>\n",
       "      <td>17.510311</td>\n",
       "    </tr>\n",
       "  </tbody>\n",
       "</table>\n",
       "</div>"
      ],
      "text/plain": [
       "          x          t\n",
       "0  3.421417  17.543762\n",
       "1  3.426875  17.200615\n",
       "2  3.427060  17.556409\n",
       "3  3.433556  17.471299\n",
       "4  3.441630  17.510311"
      ]
     },
     "execution_count": 121,
     "metadata": {},
     "output_type": "execute_result"
    }
   ],
   "source": [
    "Q3 = pd.read_csv('./Q3_a.csv')\n",
    "Q3.head(5)"
   ]
  },
  {
   "cell_type": "code",
   "execution_count": 125,
   "metadata": {},
   "outputs": [
    {
     "data": {
      "image/png": "[encoded data removed]",
      "text/plain": [
       "<Figure size 432x288 with 1 Axes>"
      ]
     },
     "metadata": {
      "needs_background": "light"
     },
     "output_type": "display_data"
    }
   ],
   "source": [
    "plt.plot(Q3['x'],Q3['t'])\n",
    "plt.show()"
   ]
  },
  {
   "cell_type": "code",
   "execution_count": 128,
   "metadata": {},
   "outputs": [
    {
     "data": {
      "text/plain": [
       "0.09946900955879749"
      ]
     },
     "execution_count": 128,
     "metadata": {},
     "output_type": "execute_result"
    }
   ],
   "source": [
    "Q3['xt']=Q3['x']*Q3['t']\n",
    "Q3['xx']=np.matmul(Q3['x'],np.transpose(Q3['x']))\n",
    "w=Q3['xt'].sum()/Q3['xx'].sum()\n",
    "w"
   ]
  },
  {
   "cell_type": "code",
   "execution_count": null,
   "metadata": {},
   "outputs": [],
   "source": []
  },
  {
   "cell_type": "markdown",
   "metadata": {},
   "source": [
    "3-b: Use `LinearRegression()` to confirm your answer from 3-a. You do not need to split the data. Train the model and determine $w^*$. [5 pts]"
   ]
  },
  {
   "cell_type": "code",
   "execution_count": 130,
   "metadata": {},
   "outputs": [],
   "source": [
    "from sklearn.linear_model import LinearRegression"
   ]
  },
  {
   "cell_type": "code",
   "execution_count": 131,
   "metadata": {},
   "outputs": [],
   "source": [
    "lr = LinearRegression(fit_intercept = False)"
   ]
  },
  {
   "cell_type": "code",
   "execution_count": 135,
   "metadata": {},
   "outputs": [
    {
     "data": {
      "text/plain": [
       "LinearRegression(fit_intercept=False)"
      ]
     },
     "execution_count": 135,
     "metadata": {},
     "output_type": "execute_result"
    }
   ],
   "source": [
    "X = np.array(list(zip(Q3[\"x\"])))\n",
    "y = np.array(list(zip(Q3[\"t\"])))\n",
    "lr.fit(X,y)"
   ]
  },
  {
   "cell_type": "code",
   "execution_count": 137,
   "metadata": {},
   "outputs": [
    {
     "data": {
      "text/plain": [
       "0.8167677280562933"
      ]
     },
     "execution_count": 137,
     "metadata": {},
     "output_type": "execute_result"
    }
   ],
   "source": [
    "lr.score(X,y)"
   ]
  },
  {
   "cell_type": "code",
   "execution_count": null,
   "metadata": {},
   "outputs": [],
   "source": []
  },
  {
   "cell_type": "markdown",
   "metadata": {},
   "source": [
    "3-b: Load `Q3_b.csv`. This is a polynomial function $t(x)$.\n",
    "Implement a function that finds maximum $t$ using gradient descent idea. Keep in mind that gradient descent finds a local minimum of a differentiable function by taking repeated steps in the opposite direction of the apporximate gradient of the function at the current point. If the stepping takes in the direction of gradient, it will lead to a local maximum of that function. This procedure is known as **gradient ascent**.\n",
    "You can use `np.polyfit(x,y,degree)[i]`, where $i$ is an integer, to find the coefficients. [12 pts]"
   ]
  },
  {
   "cell_type": "code",
   "execution_count": 139,
   "metadata": {},
   "outputs": [],
   "source": [
    "Q3b = pd.read_csv('./Q3_b.csv')"
   ]
  },
  {
   "cell_type": "code",
   "execution_count": 141,
   "metadata": {},
   "outputs": [
    {
     "data": {
      "image/png": "[encoded data removed]",
      "text/plain": [
       "<Figure size 432x288 with 1 Axes>"
      ]
     },
     "metadata": {
      "needs_background": "light"
     },
     "output_type": "display_data"
    }
   ],
   "source": [
    "plt.plot(Q3b['x'],Q3b['t'])\n",
    "plt.show()"
   ]
  },
  {
   "cell_type": "code",
   "execution_count": 163,
   "metadata": {},
   "outputs": [
    {
     "data": {
      "text/plain": [
       "-1.155020449622058e-15"
      ]
     },
     "execution_count": 163,
     "metadata": {},
     "output_type": "execute_result"
    }
   ],
   "source": [
    "X = np.array(list(Q3b[\"x\"]))\n",
    "y = np.array(list(zip(Q3b[\"t\"])))\n",
    "fit = np.polyfit(X,y,2)\n",
    "fit[2,0]"
   ]
  },
  {
   "cell_type": "code",
   "execution_count": 260,
   "metadata": {},
   "outputs": [
    {
     "name": "stdout",
     "output_type": "stream",
     "text": [
      "80.81633000000137 0.8163265306122385\n"
     ]
    }
   ],
   "source": [
    "def find_max_t():\n",
    "    xmax=0\n",
    "    tmax=0\n",
    "    #.812 .818\n",
    "    for x in np.arange(40.812,40.818,.00001):\n",
    "        gradient = fit[0,0]*x**2+fit[1,0]*x+fit[2,0]\n",
    "        if(gradient>tmax):\n",
    "            tmax=gradient\n",
    "            xmax=x+40\n",
    "    \n",
    "    print(xmax,tmax)\n",
    "find_max_t()"
   ]
  },
  {
   "cell_type": "markdown",
   "metadata": {},
   "source": [
    "### 4. Data Preprocessing. (10 pts)\n",
    "This question involves data preprocessing that needs to be done before modeling. The data comes from a global company, including orders from 2012 to 2015. Import the dataset `Orders.csv`."
   ]
  },
  {
   "cell_type": "markdown",
   "metadata": {},
   "source": [
    "4-a. Check `Profit` and `Sales` in the dataset, convert these two columns to numeric type and name them `New Profit` and \"New Sales\", respectively. (5 pts)"
   ]
  },
  {
   "cell_type": "code",
   "execution_count": 169,
   "metadata": {},
   "outputs": [],
   "source": [
    "import pandas as pd\n",
    "import numpy as np\n",
    "from matplotlib import pyplot as plt"
   ]
  },
  {
   "cell_type": "code",
   "execution_count": 170,
   "metadata": {},
   "outputs": [
    {
     "data": {
      "text/html": [
       "<div>\n",
       "<style scoped>\n",
       "    .dataframe tbody tr th:only-of-type {\n",
       "        vertical-align: middle;\n",
       "    }\n",
       "\n",
       "    .dataframe tbody tr th {\n",
       "        vertical-align: top;\n",
       "    }\n",
       "\n",
       "    .dataframe thead th {\n",
       "        text-align: right;\n",
       "    }\n",
       "</style>\n",
       "<table border=\"1\" class=\"dataframe\">\n",
       "  <thead>\n",
       "    <tr style=\"text-align: right;\">\n",
       "      <th></th>\n",
       "      <th>row.id</th>\n",
       "      <th>order.id</th>\n",
       "      <th>order.date</th>\n",
       "      <th>ship.date</th>\n",
       "      <th>ship.mode</th>\n",
       "      <th>customer.id</th>\n",
       "      <th>customer.name</th>\n",
       "      <th>segment</th>\n",
       "      <th>postal.code</th>\n",
       "      <th>city</th>\n",
       "      <th>...</th>\n",
       "      <th>product.id</th>\n",
       "      <th>category</th>\n",
       "      <th>sub.category</th>\n",
       "      <th>product.name</th>\n",
       "      <th>sales</th>\n",
       "      <th>quantity</th>\n",
       "      <th>discount</th>\n",
       "      <th>profit</th>\n",
       "      <th>shipping.cost</th>\n",
       "      <th>order.priority</th>\n",
       "    </tr>\n",
       "  </thead>\n",
       "  <tbody>\n",
       "    <tr>\n",
       "      <th>0</th>\n",
       "      <td>40098</td>\n",
       "      <td>CA-2014-AB10015140-41954</td>\n",
       "      <td>11/11/14</td>\n",
       "      <td>11/13/14</td>\n",
       "      <td>First Class</td>\n",
       "      <td>AB-100151402</td>\n",
       "      <td>Aaron Bergman</td>\n",
       "      <td>Consumer</td>\n",
       "      <td>73120.0</td>\n",
       "      <td>Oklahoma City</td>\n",
       "      <td>...</td>\n",
       "      <td>TEC-PH-5816</td>\n",
       "      <td>Technology</td>\n",
       "      <td>Phones</td>\n",
       "      <td>Samsung Convoy 3</td>\n",
       "      <td>$221.98</td>\n",
       "      <td>2</td>\n",
       "      <td>0.0</td>\n",
       "      <td>$62.15</td>\n",
       "      <td>40.77</td>\n",
       "      <td>High</td>\n",
       "    </tr>\n",
       "    <tr>\n",
       "      <th>1</th>\n",
       "      <td>26341</td>\n",
       "      <td>IN-2014-JR162107-41675</td>\n",
       "      <td>2/5/14</td>\n",
       "      <td>2/7/14</td>\n",
       "      <td>Second Class</td>\n",
       "      <td>JR-162107</td>\n",
       "      <td>Justin Ritter</td>\n",
       "      <td>Corporate</td>\n",
       "      <td>NaN</td>\n",
       "      <td>Wollongong</td>\n",
       "      <td>...</td>\n",
       "      <td>FUR-CH-5379</td>\n",
       "      <td>Furniture</td>\n",
       "      <td>Chairs</td>\n",
       "      <td>Novimex Executive Leather Armchair, Black</td>\n",
       "      <td>$3,709.40</td>\n",
       "      <td>9</td>\n",
       "      <td>0.1</td>\n",
       "      <td>-$288.77</td>\n",
       "      <td>923.63</td>\n",
       "      <td>Critical</td>\n",
       "    </tr>\n",
       "    <tr>\n",
       "      <th>2</th>\n",
       "      <td>25330</td>\n",
       "      <td>IN-2014-CR127307-41929</td>\n",
       "      <td>10/17/14</td>\n",
       "      <td>10/18/14</td>\n",
       "      <td>First Class</td>\n",
       "      <td>CR-127307</td>\n",
       "      <td>Craig Reiter</td>\n",
       "      <td>Consumer</td>\n",
       "      <td>NaN</td>\n",
       "      <td>Brisbane</td>\n",
       "      <td>...</td>\n",
       "      <td>TEC-PH-5356</td>\n",
       "      <td>Technology</td>\n",
       "      <td>Phones</td>\n",
       "      <td>Nokia Smart Phone, with Caller ID</td>\n",
       "      <td>$5,175.17</td>\n",
       "      <td>9</td>\n",
       "      <td>0.1</td>\n",
       "      <td>$919.97</td>\n",
       "      <td>915.49</td>\n",
       "      <td>Medium</td>\n",
       "    </tr>\n",
       "    <tr>\n",
       "      <th>3</th>\n",
       "      <td>13524</td>\n",
       "      <td>ES-2014-KM1637548-41667</td>\n",
       "      <td>1/28/14</td>\n",
       "      <td>1/30/14</td>\n",
       "      <td>First Class</td>\n",
       "      <td>KM-1637548</td>\n",
       "      <td>Katherine Murray</td>\n",
       "      <td>Home Office</td>\n",
       "      <td>NaN</td>\n",
       "      <td>Berlin</td>\n",
       "      <td>...</td>\n",
       "      <td>TEC-PH-5267</td>\n",
       "      <td>Technology</td>\n",
       "      <td>Phones</td>\n",
       "      <td>Motorola Smart Phone, Cordless</td>\n",
       "      <td>$2,892.51</td>\n",
       "      <td>5</td>\n",
       "      <td>0.1</td>\n",
       "      <td>-$96.54</td>\n",
       "      <td>910.16</td>\n",
       "      <td>Medium</td>\n",
       "    </tr>\n",
       "    <tr>\n",
       "      <th>4</th>\n",
       "      <td>47221</td>\n",
       "      <td>SG-2014-RH9495111-41948</td>\n",
       "      <td>11/5/14</td>\n",
       "      <td>11/6/14</td>\n",
       "      <td>Same Day</td>\n",
       "      <td>RH-9495111</td>\n",
       "      <td>Rick Hansen</td>\n",
       "      <td>Consumer</td>\n",
       "      <td>NaN</td>\n",
       "      <td>Dakar</td>\n",
       "      <td>...</td>\n",
       "      <td>TEC-CO-6011</td>\n",
       "      <td>Technology</td>\n",
       "      <td>Copiers</td>\n",
       "      <td>Sharp Wireless Fax, High-Speed</td>\n",
       "      <td>$2,832.96</td>\n",
       "      <td>8</td>\n",
       "      <td>0.0</td>\n",
       "      <td>$311.52</td>\n",
       "      <td>903.04</td>\n",
       "      <td>Critical</td>\n",
       "    </tr>\n",
       "  </tbody>\n",
       "</table>\n",
       "<p>5 rows × 24 columns</p>\n",
       "</div>"
      ],
      "text/plain": [
       "   row.id                  order.id order.date ship.date     ship.mode  \\\n",
       "0   40098  CA-2014-AB10015140-41954   11/11/14  11/13/14   First Class   \n",
       "1   26341    IN-2014-JR162107-41675     2/5/14    2/7/14  Second Class   \n",
       "2   25330    IN-2014-CR127307-41929   10/17/14  10/18/14   First Class   \n",
       "3   13524   ES-2014-KM1637548-41667    1/28/14   1/30/14   First Class   \n",
       "4   47221   SG-2014-RH9495111-41948    11/5/14   11/6/14      Same Day   \n",
       "\n",
       "    customer.id     customer.name      segment  postal.code           city  \\\n",
       "0  AB-100151402     Aaron Bergman     Consumer      73120.0  Oklahoma City   \n",
       "1     JR-162107     Justin Ritter    Corporate          NaN     Wollongong   \n",
       "2     CR-127307      Craig Reiter     Consumer          NaN       Brisbane   \n",
       "3    KM-1637548  Katherine Murray  Home Office          NaN         Berlin   \n",
       "4    RH-9495111       Rick Hansen     Consumer          NaN          Dakar   \n",
       "\n",
       "   ...   product.id    category sub.category  \\\n",
       "0  ...  TEC-PH-5816  Technology       Phones   \n",
       "1  ...  FUR-CH-5379   Furniture       Chairs   \n",
       "2  ...  TEC-PH-5356  Technology       Phones   \n",
       "3  ...  TEC-PH-5267  Technology       Phones   \n",
       "4  ...  TEC-CO-6011  Technology      Copiers   \n",
       "\n",
       "                                product.name      sales quantity discount  \\\n",
       "0                           Samsung Convoy 3    $221.98        2      0.0   \n",
       "1  Novimex Executive Leather Armchair, Black  $3,709.40        9      0.1   \n",
       "2          Nokia Smart Phone, with Caller ID  $5,175.17        9      0.1   \n",
       "3             Motorola Smart Phone, Cordless  $2,892.51        5      0.1   \n",
       "4             Sharp Wireless Fax, High-Speed  $2,832.96        8      0.0   \n",
       "\n",
       "     profit shipping.cost  order.priority  \n",
       "0    $62.15         40.77            High  \n",
       "1  -$288.77        923.63        Critical  \n",
       "2   $919.97        915.49          Medium  \n",
       "3   -$96.54        910.16          Medium  \n",
       "4   $311.52        903.04        Critical  \n",
       "\n",
       "[5 rows x 24 columns]"
      ]
     },
     "execution_count": 170,
     "metadata": {},
     "output_type": "execute_result"
    }
   ],
   "source": [
    "order_data = pd.read_csv('Orders.csv')\n",
    "order_data.columns = order_data.columns.str.lower()\n",
    "order_data.head()"
   ]
  },
  {
   "cell_type": "code",
   "execution_count": 176,
   "metadata": {},
   "outputs": [
    {
     "data": {
      "text/html": [
       "<div>\n",
       "<style scoped>\n",
       "    .dataframe tbody tr th:only-of-type {\n",
       "        vertical-align: middle;\n",
       "    }\n",
       "\n",
       "    .dataframe tbody tr th {\n",
       "        vertical-align: top;\n",
       "    }\n",
       "\n",
       "    .dataframe thead th {\n",
       "        text-align: right;\n",
       "    }\n",
       "</style>\n",
       "<table border=\"1\" class=\"dataframe\">\n",
       "  <thead>\n",
       "    <tr style=\"text-align: right;\">\n",
       "      <th></th>\n",
       "      <th>row.id</th>\n",
       "      <th>order.id</th>\n",
       "      <th>order.date</th>\n",
       "      <th>ship.date</th>\n",
       "      <th>ship.mode</th>\n",
       "      <th>customer.id</th>\n",
       "      <th>customer.name</th>\n",
       "      <th>segment</th>\n",
       "      <th>postal.code</th>\n",
       "      <th>city</th>\n",
       "      <th>...</th>\n",
       "      <th>sub.category</th>\n",
       "      <th>product.name</th>\n",
       "      <th>sales</th>\n",
       "      <th>quantity</th>\n",
       "      <th>discount</th>\n",
       "      <th>profit</th>\n",
       "      <th>shipping.cost</th>\n",
       "      <th>order.priority</th>\n",
       "      <th>new_profit</th>\n",
       "      <th>new_sales</th>\n",
       "    </tr>\n",
       "  </thead>\n",
       "  <tbody>\n",
       "    <tr>\n",
       "      <th>0</th>\n",
       "      <td>40098</td>\n",
       "      <td>CA-2014-AB10015140-41954</td>\n",
       "      <td>11/11/14</td>\n",
       "      <td>11/13/14</td>\n",
       "      <td>First Class</td>\n",
       "      <td>AB-100151402</td>\n",
       "      <td>Aaron Bergman</td>\n",
       "      <td>Consumer</td>\n",
       "      <td>73120.0</td>\n",
       "      <td>Oklahoma City</td>\n",
       "      <td>...</td>\n",
       "      <td>Phones</td>\n",
       "      <td>Samsung Convoy 3</td>\n",
       "      <td>$221.98</td>\n",
       "      <td>2</td>\n",
       "      <td>0.0</td>\n",
       "      <td>$62.15</td>\n",
       "      <td>40.770</td>\n",
       "      <td>High</td>\n",
       "      <td>62.15</td>\n",
       "      <td>221.98</td>\n",
       "    </tr>\n",
       "    <tr>\n",
       "      <th>1</th>\n",
       "      <td>26341</td>\n",
       "      <td>IN-2014-JR162107-41675</td>\n",
       "      <td>2/5/14</td>\n",
       "      <td>2/7/14</td>\n",
       "      <td>Second Class</td>\n",
       "      <td>JR-162107</td>\n",
       "      <td>Justin Ritter</td>\n",
       "      <td>Corporate</td>\n",
       "      <td>NaN</td>\n",
       "      <td>Wollongong</td>\n",
       "      <td>...</td>\n",
       "      <td>Chairs</td>\n",
       "      <td>Novimex Executive Leather Armchair, Black</td>\n",
       "      <td>$3,709.40</td>\n",
       "      <td>9</td>\n",
       "      <td>0.1</td>\n",
       "      <td>-$288.77</td>\n",
       "      <td>923.630</td>\n",
       "      <td>Critical</td>\n",
       "      <td>-288.77</td>\n",
       "      <td>3709.40</td>\n",
       "    </tr>\n",
       "    <tr>\n",
       "      <th>2</th>\n",
       "      <td>25330</td>\n",
       "      <td>IN-2014-CR127307-41929</td>\n",
       "      <td>10/17/14</td>\n",
       "      <td>10/18/14</td>\n",
       "      <td>First Class</td>\n",
       "      <td>CR-127307</td>\n",
       "      <td>Craig Reiter</td>\n",
       "      <td>Consumer</td>\n",
       "      <td>NaN</td>\n",
       "      <td>Brisbane</td>\n",
       "      <td>...</td>\n",
       "      <td>Phones</td>\n",
       "      <td>Nokia Smart Phone, with Caller ID</td>\n",
       "      <td>$5,175.17</td>\n",
       "      <td>9</td>\n",
       "      <td>0.1</td>\n",
       "      <td>$919.97</td>\n",
       "      <td>915.490</td>\n",
       "      <td>Medium</td>\n",
       "      <td>919.97</td>\n",
       "      <td>5175.17</td>\n",
       "    </tr>\n",
       "    <tr>\n",
       "      <th>3</th>\n",
       "      <td>13524</td>\n",
       "      <td>ES-2014-KM1637548-41667</td>\n",
       "      <td>1/28/14</td>\n",
       "      <td>1/30/14</td>\n",
       "      <td>First Class</td>\n",
       "      <td>KM-1637548</td>\n",
       "      <td>Katherine Murray</td>\n",
       "      <td>Home Office</td>\n",
       "      <td>NaN</td>\n",
       "      <td>Berlin</td>\n",
       "      <td>...</td>\n",
       "      <td>Phones</td>\n",
       "      <td>Motorola Smart Phone, Cordless</td>\n",
       "      <td>$2,892.51</td>\n",
       "      <td>5</td>\n",
       "      <td>0.1</td>\n",
       "      <td>-$96.54</td>\n",
       "      <td>910.160</td>\n",
       "      <td>Medium</td>\n",
       "      <td>-96.54</td>\n",
       "      <td>2892.51</td>\n",
       "    </tr>\n",
       "    <tr>\n",
       "      <th>4</th>\n",
       "      <td>47221</td>\n",
       "      <td>SG-2014-RH9495111-41948</td>\n",
       "      <td>11/5/14</td>\n",
       "      <td>11/6/14</td>\n",
       "      <td>Same Day</td>\n",
       "      <td>RH-9495111</td>\n",
       "      <td>Rick Hansen</td>\n",
       "      <td>Consumer</td>\n",
       "      <td>NaN</td>\n",
       "      <td>Dakar</td>\n",
       "      <td>...</td>\n",
       "      <td>Copiers</td>\n",
       "      <td>Sharp Wireless Fax, High-Speed</td>\n",
       "      <td>$2,832.96</td>\n",
       "      <td>8</td>\n",
       "      <td>0.0</td>\n",
       "      <td>$311.52</td>\n",
       "      <td>903.040</td>\n",
       "      <td>Critical</td>\n",
       "      <td>311.52</td>\n",
       "      <td>2832.96</td>\n",
       "    </tr>\n",
       "    <tr>\n",
       "      <th>...</th>\n",
       "      <td>...</td>\n",
       "      <td>...</td>\n",
       "      <td>...</td>\n",
       "      <td>...</td>\n",
       "      <td>...</td>\n",
       "      <td>...</td>\n",
       "      <td>...</td>\n",
       "      <td>...</td>\n",
       "      <td>...</td>\n",
       "      <td>...</td>\n",
       "      <td>...</td>\n",
       "      <td>...</td>\n",
       "      <td>...</td>\n",
       "      <td>...</td>\n",
       "      <td>...</td>\n",
       "      <td>...</td>\n",
       "      <td>...</td>\n",
       "      <td>...</td>\n",
       "      <td>...</td>\n",
       "      <td>...</td>\n",
       "      <td>...</td>\n",
       "    </tr>\n",
       "    <tr>\n",
       "      <th>51285</th>\n",
       "      <td>29002</td>\n",
       "      <td>IN-2015-KE1642066-42174</td>\n",
       "      <td>6/19/15</td>\n",
       "      <td>6/19/15</td>\n",
       "      <td>Same Day</td>\n",
       "      <td>KE-1642066</td>\n",
       "      <td>Katrina Edelman</td>\n",
       "      <td>Corporate</td>\n",
       "      <td>NaN</td>\n",
       "      <td>Kure</td>\n",
       "      <td>...</td>\n",
       "      <td>Fasteners</td>\n",
       "      <td>Advantus Thumb Tacks, 12 Pack</td>\n",
       "      <td>$65.10</td>\n",
       "      <td>5</td>\n",
       "      <td>0.0</td>\n",
       "      <td>$4.50</td>\n",
       "      <td>1.010</td>\n",
       "      <td>Medium</td>\n",
       "      <td>4.50</td>\n",
       "      <td>65.10</td>\n",
       "    </tr>\n",
       "    <tr>\n",
       "      <th>51286</th>\n",
       "      <td>34337</td>\n",
       "      <td>US-2014-ZD21925140-41765</td>\n",
       "      <td>5/6/14</td>\n",
       "      <td>5/10/14</td>\n",
       "      <td>Standard Class</td>\n",
       "      <td>ZD-219251408</td>\n",
       "      <td>Zuschuss Donatelli</td>\n",
       "      <td>Consumer</td>\n",
       "      <td>37421.0</td>\n",
       "      <td>Chattanooga</td>\n",
       "      <td>...</td>\n",
       "      <td>Furnishings</td>\n",
       "      <td>Eldon Image Series Desk Accessories, Burgundy</td>\n",
       "      <td>$16.72</td>\n",
       "      <td>5</td>\n",
       "      <td>0.2</td>\n",
       "      <td>$3.34</td>\n",
       "      <td>1.930</td>\n",
       "      <td>High</td>\n",
       "      <td>3.34</td>\n",
       "      <td>16.72</td>\n",
       "    </tr>\n",
       "    <tr>\n",
       "      <th>51287</th>\n",
       "      <td>31315</td>\n",
       "      <td>CA-2012-ZD21925140-41147</td>\n",
       "      <td>8/26/12</td>\n",
       "      <td>8/31/12</td>\n",
       "      <td>Second Class</td>\n",
       "      <td>ZD-219251404</td>\n",
       "      <td>Zuschuss Donatelli</td>\n",
       "      <td>Consumer</td>\n",
       "      <td>94109.0</td>\n",
       "      <td>San Francisco</td>\n",
       "      <td>...</td>\n",
       "      <td>Art</td>\n",
       "      <td>Newell 341</td>\n",
       "      <td>$8.56</td>\n",
       "      <td>2</td>\n",
       "      <td>0.0</td>\n",
       "      <td>$2.48</td>\n",
       "      <td>1.580</td>\n",
       "      <td>High</td>\n",
       "      <td>2.48</td>\n",
       "      <td>8.56</td>\n",
       "    </tr>\n",
       "    <tr>\n",
       "      <th>51288</th>\n",
       "      <td>9596</td>\n",
       "      <td>MX-2013-RB1979518-41322</td>\n",
       "      <td>2/17/13</td>\n",
       "      <td>2/21/13</td>\n",
       "      <td>Standard Class</td>\n",
       "      <td>RB-1979518</td>\n",
       "      <td>Ross Baird</td>\n",
       "      <td>Home Office</td>\n",
       "      <td>NaN</td>\n",
       "      <td>Valinhos</td>\n",
       "      <td>...</td>\n",
       "      <td>Binders</td>\n",
       "      <td>Acco Index Tab, Economy</td>\n",
       "      <td>$13.44</td>\n",
       "      <td>2</td>\n",
       "      <td>0.0</td>\n",
       "      <td>$2.40</td>\n",
       "      <td>1.003</td>\n",
       "      <td>Medium</td>\n",
       "      <td>2.40</td>\n",
       "      <td>13.44</td>\n",
       "    </tr>\n",
       "    <tr>\n",
       "      <th>51289</th>\n",
       "      <td>6147</td>\n",
       "      <td>MX-2013-MC1810093-41416</td>\n",
       "      <td>5/22/13</td>\n",
       "      <td>5/26/13</td>\n",
       "      <td>Second Class</td>\n",
       "      <td>MC-1810093</td>\n",
       "      <td>Mick Crebagga</td>\n",
       "      <td>Consumer</td>\n",
       "      <td>NaN</td>\n",
       "      <td>Tipitapa</td>\n",
       "      <td>...</td>\n",
       "      <td>Paper</td>\n",
       "      <td>Eaton Computer Printout Paper, 8.5 x 11</td>\n",
       "      <td>$61.38</td>\n",
       "      <td>3</td>\n",
       "      <td>0.0</td>\n",
       "      <td>$1.80</td>\n",
       "      <td>1.002</td>\n",
       "      <td>High</td>\n",
       "      <td>1.80</td>\n",
       "      <td>61.38</td>\n",
       "    </tr>\n",
       "  </tbody>\n",
       "</table>\n",
       "<p>51290 rows × 26 columns</p>\n",
       "</div>"
      ],
      "text/plain": [
       "       row.id                  order.id order.date ship.date       ship.mode  \\\n",
       "0       40098  CA-2014-AB10015140-41954   11/11/14  11/13/14     First Class   \n",
       "1       26341    IN-2014-JR162107-41675     2/5/14    2/7/14    Second Class   \n",
       "2       25330    IN-2014-CR127307-41929   10/17/14  10/18/14     First Class   \n",
       "3       13524   ES-2014-KM1637548-41667    1/28/14   1/30/14     First Class   \n",
       "4       47221   SG-2014-RH9495111-41948    11/5/14   11/6/14        Same Day   \n",
       "...       ...                       ...        ...       ...             ...   \n",
       "51285   29002   IN-2015-KE1642066-42174    6/19/15   6/19/15        Same Day   \n",
       "51286   34337  US-2014-ZD21925140-41765     5/6/14   5/10/14  Standard Class   \n",
       "51287   31315  CA-2012-ZD21925140-41147    8/26/12   8/31/12    Second Class   \n",
       "51288    9596   MX-2013-RB1979518-41322    2/17/13   2/21/13  Standard Class   \n",
       "51289    6147   MX-2013-MC1810093-41416    5/22/13   5/26/13    Second Class   \n",
       "\n",
       "        customer.id       customer.name      segment  postal.code  \\\n",
       "0      AB-100151402       Aaron Bergman     Consumer      73120.0   \n",
       "1         JR-162107       Justin Ritter    Corporate          NaN   \n",
       "2         CR-127307        Craig Reiter     Consumer          NaN   \n",
       "3        KM-1637548    Katherine Murray  Home Office          NaN   \n",
       "4        RH-9495111         Rick Hansen     Consumer          NaN   \n",
       "...             ...                 ...          ...          ...   \n",
       "51285    KE-1642066     Katrina Edelman    Corporate          NaN   \n",
       "51286  ZD-219251408  Zuschuss Donatelli     Consumer      37421.0   \n",
       "51287  ZD-219251404  Zuschuss Donatelli     Consumer      94109.0   \n",
       "51288    RB-1979518          Ross Baird  Home Office          NaN   \n",
       "51289    MC-1810093       Mick Crebagga     Consumer          NaN   \n",
       "\n",
       "                city  ... sub.category  \\\n",
       "0      Oklahoma City  ...       Phones   \n",
       "1         Wollongong  ...       Chairs   \n",
       "2           Brisbane  ...       Phones   \n",
       "3             Berlin  ...       Phones   \n",
       "4              Dakar  ...      Copiers   \n",
       "...              ...  ...          ...   \n",
       "51285           Kure  ...    Fasteners   \n",
       "51286    Chattanooga  ...  Furnishings   \n",
       "51287  San Francisco  ...          Art   \n",
       "51288       Valinhos  ...      Binders   \n",
       "51289       Tipitapa  ...        Paper   \n",
       "\n",
       "                                        product.name      sales quantity  \\\n",
       "0                                   Samsung Convoy 3    $221.98        2   \n",
       "1          Novimex Executive Leather Armchair, Black  $3,709.40        9   \n",
       "2                  Nokia Smart Phone, with Caller ID  $5,175.17        9   \n",
       "3                     Motorola Smart Phone, Cordless  $2,892.51        5   \n",
       "4                     Sharp Wireless Fax, High-Speed  $2,832.96        8   \n",
       "...                                              ...        ...      ...   \n",
       "51285                  Advantus Thumb Tacks, 12 Pack     $65.10        5   \n",
       "51286  Eldon Image Series Desk Accessories, Burgundy     $16.72        5   \n",
       "51287                                     Newell 341      $8.56        2   \n",
       "51288                        Acco Index Tab, Economy     $13.44        2   \n",
       "51289        Eaton Computer Printout Paper, 8.5 x 11     $61.38        3   \n",
       "\n",
       "      discount    profit shipping.cost order.priority new_profit  new_sales  \n",
       "0          0.0    $62.15        40.770           High      62.15     221.98  \n",
       "1          0.1  -$288.77       923.630       Critical    -288.77    3709.40  \n",
       "2          0.1   $919.97       915.490         Medium     919.97    5175.17  \n",
       "3          0.1   -$96.54       910.160         Medium     -96.54    2892.51  \n",
       "4          0.0   $311.52       903.040       Critical     311.52    2832.96  \n",
       "...        ...       ...           ...            ...        ...        ...  \n",
       "51285      0.0     $4.50         1.010         Medium       4.50      65.10  \n",
       "51286      0.2     $3.34         1.930           High       3.34      16.72  \n",
       "51287      0.0     $2.48         1.580           High       2.48       8.56  \n",
       "51288      0.0     $2.40         1.003         Medium       2.40      13.44  \n",
       "51289      0.0     $1.80         1.002           High       1.80      61.38  \n",
       "\n",
       "[51290 rows x 26 columns]"
      ]
     },
     "execution_count": 176,
     "metadata": {},
     "output_type": "execute_result"
    }
   ],
   "source": [
    "order_data[\"new_profit\"]=order_data[\"profit\"].replace(['\\$','\\,'],'',regex=True).astype(float)\n",
    "order_data[\"new_sales\"]=order_data[\"sales\"].replace(['\\$','\\,'],'',regex=True).astype(float)\n",
    "order_data"
   ]
  },
  {
   "cell_type": "code",
   "execution_count": null,
   "metadata": {},
   "outputs": [],
   "source": []
  },
  {
   "cell_type": "code",
   "execution_count": 177,
   "metadata": {},
   "outputs": [
    {
     "data": {
      "text/html": [
       "<div>\n",
       "<style scoped>\n",
       "    .dataframe tbody tr th:only-of-type {\n",
       "        vertical-align: middle;\n",
       "    }\n",
       "\n",
       "    .dataframe tbody tr th {\n",
       "        vertical-align: top;\n",
       "    }\n",
       "\n",
       "    .dataframe thead th {\n",
       "        text-align: right;\n",
       "    }\n",
       "</style>\n",
       "<table border=\"1\" class=\"dataframe\">\n",
       "  <thead>\n",
       "    <tr style=\"text-align: right;\">\n",
       "      <th></th>\n",
       "      <th>profit</th>\n",
       "      <th>new_profit</th>\n",
       "      <th>sales</th>\n",
       "      <th>new_sales</th>\n",
       "    </tr>\n",
       "  </thead>\n",
       "  <tbody>\n",
       "    <tr>\n",
       "      <th>0</th>\n",
       "      <td>$62.15</td>\n",
       "      <td>62.15</td>\n",
       "      <td>$221.98</td>\n",
       "      <td>221.98</td>\n",
       "    </tr>\n",
       "    <tr>\n",
       "      <th>1</th>\n",
       "      <td>-$288.77</td>\n",
       "      <td>-288.77</td>\n",
       "      <td>$3,709.40</td>\n",
       "      <td>3709.40</td>\n",
       "    </tr>\n",
       "    <tr>\n",
       "      <th>2</th>\n",
       "      <td>$919.97</td>\n",
       "      <td>919.97</td>\n",
       "      <td>$5,175.17</td>\n",
       "      <td>5175.17</td>\n",
       "    </tr>\n",
       "    <tr>\n",
       "      <th>3</th>\n",
       "      <td>-$96.54</td>\n",
       "      <td>-96.54</td>\n",
       "      <td>$2,892.51</td>\n",
       "      <td>2892.51</td>\n",
       "    </tr>\n",
       "    <tr>\n",
       "      <th>4</th>\n",
       "      <td>$311.52</td>\n",
       "      <td>311.52</td>\n",
       "      <td>$2,832.96</td>\n",
       "      <td>2832.96</td>\n",
       "    </tr>\n",
       "  </tbody>\n",
       "</table>\n",
       "</div>"
      ],
      "text/plain": [
       "     profit  new_profit      sales  new_sales\n",
       "0    $62.15       62.15    $221.98     221.98\n",
       "1  -$288.77     -288.77  $3,709.40    3709.40\n",
       "2   $919.97      919.97  $5,175.17    5175.17\n",
       "3   -$96.54      -96.54  $2,892.51    2892.51\n",
       "4   $311.52      311.52  $2,832.96    2832.96"
      ]
     },
     "execution_count": 177,
     "metadata": {},
     "output_type": "execute_result"
    }
   ],
   "source": [
    "order_data[['profit','new_profit','sales','new_sales']].head(5)"
   ]
  },
  {
   "cell_type": "markdown",
   "metadata": {},
   "source": [
    "4-b. Retailers that depend on seasonal shoppers have a particularly challenging job when it comes to inventory management. Your manager is making plans for next year’s inventory. He wants you to answer the following questions: (5 pts)\n",
    "- Is there any seasonal sales trend in your company?\n",
    "- Is there any seasonal trend of different categories of products?"
   ]
  },
  {
   "cell_type": "code",
   "execution_count": 213,
   "metadata": {},
   "outputs": [],
   "source": [
    "date = pd.to_datetime(order_data['order.date'])\n",
    "year = list()\n",
    "for i in range(len(order_data)):\n",
    "    year.append(date[i].year)\n",
    "order_data['year'] = year\n",
    "month = list()\n",
    "for i in range(len(order_data)):\n",
    "    month.append(date[i].month)\n",
    "order_data['month'] = month\n",
    "season = list()\n",
    "for i in range(len(order_data)):\n",
    "    season.append((month[i]-1)//3)\n",
    "order_data['season'] = season"
   ]
  },
  {
   "cell_type": "code",
   "execution_count": 214,
   "metadata": {
    "scrolled": true
   },
   "outputs": [
    {
     "data": {
      "text/html": [
       "<div>\n",
       "<style scoped>\n",
       "    .dataframe tbody tr th:only-of-type {\n",
       "        vertical-align: middle;\n",
       "    }\n",
       "\n",
       "    .dataframe tbody tr th {\n",
       "        vertical-align: top;\n",
       "    }\n",
       "\n",
       "    .dataframe thead th {\n",
       "        text-align: right;\n",
       "    }\n",
       "</style>\n",
       "<table border=\"1\" class=\"dataframe\">\n",
       "  <thead>\n",
       "    <tr style=\"text-align: right;\">\n",
       "      <th></th>\n",
       "      <th>row.id</th>\n",
       "      <th>order.id</th>\n",
       "      <th>order.date</th>\n",
       "      <th>ship.date</th>\n",
       "      <th>ship.mode</th>\n",
       "      <th>customer.id</th>\n",
       "      <th>customer.name</th>\n",
       "      <th>segment</th>\n",
       "      <th>postal.code</th>\n",
       "      <th>city</th>\n",
       "      <th>...</th>\n",
       "      <th>quantity</th>\n",
       "      <th>discount</th>\n",
       "      <th>profit</th>\n",
       "      <th>shipping.cost</th>\n",
       "      <th>order.priority</th>\n",
       "      <th>new_profit</th>\n",
       "      <th>new_sales</th>\n",
       "      <th>year</th>\n",
       "      <th>month</th>\n",
       "      <th>season</th>\n",
       "    </tr>\n",
       "  </thead>\n",
       "  <tbody>\n",
       "    <tr>\n",
       "      <th>0</th>\n",
       "      <td>40098</td>\n",
       "      <td>CA-2014-AB10015140-41954</td>\n",
       "      <td>11/11/14</td>\n",
       "      <td>11/13/14</td>\n",
       "      <td>First Class</td>\n",
       "      <td>AB-100151402</td>\n",
       "      <td>Aaron Bergman</td>\n",
       "      <td>Consumer</td>\n",
       "      <td>73120.0</td>\n",
       "      <td>Oklahoma City</td>\n",
       "      <td>...</td>\n",
       "      <td>2</td>\n",
       "      <td>0.0</td>\n",
       "      <td>$62.15</td>\n",
       "      <td>40.770</td>\n",
       "      <td>High</td>\n",
       "      <td>62.15</td>\n",
       "      <td>221.98</td>\n",
       "      <td>2014</td>\n",
       "      <td>11</td>\n",
       "      <td>3</td>\n",
       "    </tr>\n",
       "    <tr>\n",
       "      <th>1</th>\n",
       "      <td>26341</td>\n",
       "      <td>IN-2014-JR162107-41675</td>\n",
       "      <td>2/5/14</td>\n",
       "      <td>2/7/14</td>\n",
       "      <td>Second Class</td>\n",
       "      <td>JR-162107</td>\n",
       "      <td>Justin Ritter</td>\n",
       "      <td>Corporate</td>\n",
       "      <td>NaN</td>\n",
       "      <td>Wollongong</td>\n",
       "      <td>...</td>\n",
       "      <td>9</td>\n",
       "      <td>0.1</td>\n",
       "      <td>-$288.77</td>\n",
       "      <td>923.630</td>\n",
       "      <td>Critical</td>\n",
       "      <td>-288.77</td>\n",
       "      <td>3709.40</td>\n",
       "      <td>2014</td>\n",
       "      <td>2</td>\n",
       "      <td>0</td>\n",
       "    </tr>\n",
       "    <tr>\n",
       "      <th>2</th>\n",
       "      <td>25330</td>\n",
       "      <td>IN-2014-CR127307-41929</td>\n",
       "      <td>10/17/14</td>\n",
       "      <td>10/18/14</td>\n",
       "      <td>First Class</td>\n",
       "      <td>CR-127307</td>\n",
       "      <td>Craig Reiter</td>\n",
       "      <td>Consumer</td>\n",
       "      <td>NaN</td>\n",
       "      <td>Brisbane</td>\n",
       "      <td>...</td>\n",
       "      <td>9</td>\n",
       "      <td>0.1</td>\n",
       "      <td>$919.97</td>\n",
       "      <td>915.490</td>\n",
       "      <td>Medium</td>\n",
       "      <td>919.97</td>\n",
       "      <td>5175.17</td>\n",
       "      <td>2014</td>\n",
       "      <td>10</td>\n",
       "      <td>3</td>\n",
       "    </tr>\n",
       "    <tr>\n",
       "      <th>3</th>\n",
       "      <td>13524</td>\n",
       "      <td>ES-2014-KM1637548-41667</td>\n",
       "      <td>1/28/14</td>\n",
       "      <td>1/30/14</td>\n",
       "      <td>First Class</td>\n",
       "      <td>KM-1637548</td>\n",
       "      <td>Katherine Murray</td>\n",
       "      <td>Home Office</td>\n",
       "      <td>NaN</td>\n",
       "      <td>Berlin</td>\n",
       "      <td>...</td>\n",
       "      <td>5</td>\n",
       "      <td>0.1</td>\n",
       "      <td>-$96.54</td>\n",
       "      <td>910.160</td>\n",
       "      <td>Medium</td>\n",
       "      <td>-96.54</td>\n",
       "      <td>2892.51</td>\n",
       "      <td>2014</td>\n",
       "      <td>1</td>\n",
       "      <td>0</td>\n",
       "    </tr>\n",
       "    <tr>\n",
       "      <th>4</th>\n",
       "      <td>47221</td>\n",
       "      <td>SG-2014-RH9495111-41948</td>\n",
       "      <td>11/5/14</td>\n",
       "      <td>11/6/14</td>\n",
       "      <td>Same Day</td>\n",
       "      <td>RH-9495111</td>\n",
       "      <td>Rick Hansen</td>\n",
       "      <td>Consumer</td>\n",
       "      <td>NaN</td>\n",
       "      <td>Dakar</td>\n",
       "      <td>...</td>\n",
       "      <td>8</td>\n",
       "      <td>0.0</td>\n",
       "      <td>$311.52</td>\n",
       "      <td>903.040</td>\n",
       "      <td>Critical</td>\n",
       "      <td>311.52</td>\n",
       "      <td>2832.96</td>\n",
       "      <td>2014</td>\n",
       "      <td>11</td>\n",
       "      <td>3</td>\n",
       "    </tr>\n",
       "    <tr>\n",
       "      <th>...</th>\n",
       "      <td>...</td>\n",
       "      <td>...</td>\n",
       "      <td>...</td>\n",
       "      <td>...</td>\n",
       "      <td>...</td>\n",
       "      <td>...</td>\n",
       "      <td>...</td>\n",
       "      <td>...</td>\n",
       "      <td>...</td>\n",
       "      <td>...</td>\n",
       "      <td>...</td>\n",
       "      <td>...</td>\n",
       "      <td>...</td>\n",
       "      <td>...</td>\n",
       "      <td>...</td>\n",
       "      <td>...</td>\n",
       "      <td>...</td>\n",
       "      <td>...</td>\n",
       "      <td>...</td>\n",
       "      <td>...</td>\n",
       "      <td>...</td>\n",
       "    </tr>\n",
       "    <tr>\n",
       "      <th>51285</th>\n",
       "      <td>29002</td>\n",
       "      <td>IN-2015-KE1642066-42174</td>\n",
       "      <td>6/19/15</td>\n",
       "      <td>6/19/15</td>\n",
       "      <td>Same Day</td>\n",
       "      <td>KE-1642066</td>\n",
       "      <td>Katrina Edelman</td>\n",
       "      <td>Corporate</td>\n",
       "      <td>NaN</td>\n",
       "      <td>Kure</td>\n",
       "      <td>...</td>\n",
       "      <td>5</td>\n",
       "      <td>0.0</td>\n",
       "      <td>$4.50</td>\n",
       "      <td>1.010</td>\n",
       "      <td>Medium</td>\n",
       "      <td>4.50</td>\n",
       "      <td>65.10</td>\n",
       "      <td>2015</td>\n",
       "      <td>6</td>\n",
       "      <td>1</td>\n",
       "    </tr>\n",
       "    <tr>\n",
       "      <th>51286</th>\n",
       "      <td>34337</td>\n",
       "      <td>US-2014-ZD21925140-41765</td>\n",
       "      <td>5/6/14</td>\n",
       "      <td>5/10/14</td>\n",
       "      <td>Standard Class</td>\n",
       "      <td>ZD-219251408</td>\n",
       "      <td>Zuschuss Donatelli</td>\n",
       "      <td>Consumer</td>\n",
       "      <td>37421.0</td>\n",
       "      <td>Chattanooga</td>\n",
       "      <td>...</td>\n",
       "      <td>5</td>\n",
       "      <td>0.2</td>\n",
       "      <td>$3.34</td>\n",
       "      <td>1.930</td>\n",
       "      <td>High</td>\n",
       "      <td>3.34</td>\n",
       "      <td>16.72</td>\n",
       "      <td>2014</td>\n",
       "      <td>5</td>\n",
       "      <td>1</td>\n",
       "    </tr>\n",
       "    <tr>\n",
       "      <th>51287</th>\n",
       "      <td>31315</td>\n",
       "      <td>CA-2012-ZD21925140-41147</td>\n",
       "      <td>8/26/12</td>\n",
       "      <td>8/31/12</td>\n",
       "      <td>Second Class</td>\n",
       "      <td>ZD-219251404</td>\n",
       "      <td>Zuschuss Donatelli</td>\n",
       "      <td>Consumer</td>\n",
       "      <td>94109.0</td>\n",
       "      <td>San Francisco</td>\n",
       "      <td>...</td>\n",
       "      <td>2</td>\n",
       "      <td>0.0</td>\n",
       "      <td>$2.48</td>\n",
       "      <td>1.580</td>\n",
       "      <td>High</td>\n",
       "      <td>2.48</td>\n",
       "      <td>8.56</td>\n",
       "      <td>2012</td>\n",
       "      <td>8</td>\n",
       "      <td>2</td>\n",
       "    </tr>\n",
       "    <tr>\n",
       "      <th>51288</th>\n",
       "      <td>9596</td>\n",
       "      <td>MX-2013-RB1979518-41322</td>\n",
       "      <td>2/17/13</td>\n",
       "      <td>2/21/13</td>\n",
       "      <td>Standard Class</td>\n",
       "      <td>RB-1979518</td>\n",
       "      <td>Ross Baird</td>\n",
       "      <td>Home Office</td>\n",
       "      <td>NaN</td>\n",
       "      <td>Valinhos</td>\n",
       "      <td>...</td>\n",
       "      <td>2</td>\n",
       "      <td>0.0</td>\n",
       "      <td>$2.40</td>\n",
       "      <td>1.003</td>\n",
       "      <td>Medium</td>\n",
       "      <td>2.40</td>\n",
       "      <td>13.44</td>\n",
       "      <td>2013</td>\n",
       "      <td>2</td>\n",
       "      <td>0</td>\n",
       "    </tr>\n",
       "    <tr>\n",
       "      <th>51289</th>\n",
       "      <td>6147</td>\n",
       "      <td>MX-2013-MC1810093-41416</td>\n",
       "      <td>5/22/13</td>\n",
       "      <td>5/26/13</td>\n",
       "      <td>Second Class</td>\n",
       "      <td>MC-1810093</td>\n",
       "      <td>Mick Crebagga</td>\n",
       "      <td>Consumer</td>\n",
       "      <td>NaN</td>\n",
       "      <td>Tipitapa</td>\n",
       "      <td>...</td>\n",
       "      <td>3</td>\n",
       "      <td>0.0</td>\n",
       "      <td>$1.80</td>\n",
       "      <td>1.002</td>\n",
       "      <td>High</td>\n",
       "      <td>1.80</td>\n",
       "      <td>61.38</td>\n",
       "      <td>2013</td>\n",
       "      <td>5</td>\n",
       "      <td>1</td>\n",
       "    </tr>\n",
       "  </tbody>\n",
       "</table>\n",
       "<p>51290 rows × 29 columns</p>\n",
       "</div>"
      ],
      "text/plain": [
       "       row.id                  order.id order.date ship.date       ship.mode  \\\n",
       "0       40098  CA-2014-AB10015140-41954   11/11/14  11/13/14     First Class   \n",
       "1       26341    IN-2014-JR162107-41675     2/5/14    2/7/14    Second Class   \n",
       "2       25330    IN-2014-CR127307-41929   10/17/14  10/18/14     First Class   \n",
       "3       13524   ES-2014-KM1637548-41667    1/28/14   1/30/14     First Class   \n",
       "4       47221   SG-2014-RH9495111-41948    11/5/14   11/6/14        Same Day   \n",
       "...       ...                       ...        ...       ...             ...   \n",
       "51285   29002   IN-2015-KE1642066-42174    6/19/15   6/19/15        Same Day   \n",
       "51286   34337  US-2014-ZD21925140-41765     5/6/14   5/10/14  Standard Class   \n",
       "51287   31315  CA-2012-ZD21925140-41147    8/26/12   8/31/12    Second Class   \n",
       "51288    9596   MX-2013-RB1979518-41322    2/17/13   2/21/13  Standard Class   \n",
       "51289    6147   MX-2013-MC1810093-41416    5/22/13   5/26/13    Second Class   \n",
       "\n",
       "        customer.id       customer.name      segment  postal.code  \\\n",
       "0      AB-100151402       Aaron Bergman     Consumer      73120.0   \n",
       "1         JR-162107       Justin Ritter    Corporate          NaN   \n",
       "2         CR-127307        Craig Reiter     Consumer          NaN   \n",
       "3        KM-1637548    Katherine Murray  Home Office          NaN   \n",
       "4        RH-9495111         Rick Hansen     Consumer          NaN   \n",
       "...             ...                 ...          ...          ...   \n",
       "51285    KE-1642066     Katrina Edelman    Corporate          NaN   \n",
       "51286  ZD-219251408  Zuschuss Donatelli     Consumer      37421.0   \n",
       "51287  ZD-219251404  Zuschuss Donatelli     Consumer      94109.0   \n",
       "51288    RB-1979518          Ross Baird  Home Office          NaN   \n",
       "51289    MC-1810093       Mick Crebagga     Consumer          NaN   \n",
       "\n",
       "                city  ... quantity discount    profit shipping.cost  \\\n",
       "0      Oklahoma City  ...        2      0.0    $62.15        40.770   \n",
       "1         Wollongong  ...        9      0.1  -$288.77       923.630   \n",
       "2           Brisbane  ...        9      0.1   $919.97       915.490   \n",
       "3             Berlin  ...        5      0.1   -$96.54       910.160   \n",
       "4              Dakar  ...        8      0.0   $311.52       903.040   \n",
       "...              ...  ...      ...      ...       ...           ...   \n",
       "51285           Kure  ...        5      0.0     $4.50         1.010   \n",
       "51286    Chattanooga  ...        5      0.2     $3.34         1.930   \n",
       "51287  San Francisco  ...        2      0.0     $2.48         1.580   \n",
       "51288       Valinhos  ...        2      0.0     $2.40         1.003   \n",
       "51289       Tipitapa  ...        3      0.0     $1.80         1.002   \n",
       "\n",
       "      order.priority new_profit new_sales  year month  season  \n",
       "0               High      62.15    221.98  2014    11       3  \n",
       "1           Critical    -288.77   3709.40  2014     2       0  \n",
       "2             Medium     919.97   5175.17  2014    10       3  \n",
       "3             Medium     -96.54   2892.51  2014     1       0  \n",
       "4           Critical     311.52   2832.96  2014    11       3  \n",
       "...              ...        ...       ...   ...   ...     ...  \n",
       "51285         Medium       4.50     65.10  2015     6       1  \n",
       "51286           High       3.34     16.72  2014     5       1  \n",
       "51287           High       2.48      8.56  2012     8       2  \n",
       "51288         Medium       2.40     13.44  2013     2       0  \n",
       "51289           High       1.80     61.38  2013     5       1  \n",
       "\n",
       "[51290 rows x 29 columns]"
      ]
     },
     "execution_count": 214,
     "metadata": {},
     "output_type": "execute_result"
    }
   ],
   "source": [
    "order_data"
   ]
  },
  {
   "cell_type": "code",
   "execution_count": null,
   "metadata": {},
   "outputs": [],
   "source": []
  },
  {
   "cell_type": "code",
   "execution_count": 215,
   "metadata": {},
   "outputs": [
    {
     "data": {
      "text/plain": [
       "(array([26691.,     0.,     0., 41671.,     0.,     0., 49121.,     0.,\n",
       "            0., 60829.]),\n",
       " array([0. , 0.3, 0.6, 0.9, 1.2, 1.5, 1.8, 2.1, 2.4, 2.7, 3. ]),\n",
       " <BarContainer object of 10 artists>)"
      ]
     },
     "execution_count": 215,
     "metadata": {},
     "output_type": "execute_result"
    },
    {
     "data": {
      "image/png": "[encoded data removed]",
      "text/plain": [
       "<Figure size 432x288 with 1 Axes>"
      ]
     },
     "metadata": {
      "needs_background": "light"
     },
     "output_type": "display_data"
    }
   ],
   "source": [
    "from matplotlib.pyplot import hist\n",
    "\n",
    "hist(order_data.season, weights=order_data.quantity)"
   ]
  },
  {
   "cell_type": "markdown",
   "metadata": {},
   "source": [
    "Yes there seems to be a higher quantity of sales as the months get later and later in the year. "
   ]
  },
  {
   "cell_type": "markdown",
   "metadata": {},
   "source": [
    "### 5. Classification Problem. (25 pts)\n",
    "In this problem, the task is to classify using a given data set, `Data1_Class.csv`, with two features, $X$ and $Y$, and class labels. "
   ]
  },
  {
   "cell_type": "code",
   "execution_count": 216,
   "metadata": {},
   "outputs": [],
   "source": [
    "import pandas as pd\n",
    "import numpy as np \n",
    "import matplotlib.pyplot as plt "
   ]
  },
  {
   "cell_type": "code",
   "execution_count": 217,
   "metadata": {},
   "outputs": [],
   "source": [
    "Data1=pd.read_csv('Data1_Class.csv')"
   ]
  },
  {
   "cell_type": "code",
   "execution_count": 218,
   "metadata": {},
   "outputs": [
    {
     "data": {
      "image/png": "[encoded data removed]",
      "text/plain": [
       "<Figure size 432x288 with 1 Axes>"
      ]
     },
     "metadata": {
      "needs_background": "light"
     },
     "output_type": "display_data"
    }
   ],
   "source": [
    "plt.scatter(Data1['X'], Data1['Y'], c=Data1['Class'], marker = '.') \n",
    "plt.ylabel('Y')\n",
    "plt.xlabel('X')\n",
    "plt.show() "
   ]
  },
  {
   "cell_type": "markdown",
   "metadata": {},
   "source": [
    "5-a: From the visual inspection above, explain how you can make a classifier using **a linear algorithm** (e.g., perceptron, logistic regression, or SVC) without Kernel or dimension reduction. [2 pts]"
   ]
  },
  {
   "cell_type": "markdown",
   "metadata": {},
   "source": [
    "Check based on x^2+y^2"
   ]
  },
  {
   "cell_type": "markdown",
   "metadata": {},
   "source": [
    "5-b: Do EDA and feature engineering as you explained in 5-a and call the new dataframe as `Data1_training`. [10 pts]"
   ]
  },
  {
   "cell_type": "code",
   "execution_count": 226,
   "metadata": {},
   "outputs": [
    {
     "data": {
      "text/html": [
       "<div>\n",
       "<style scoped>\n",
       "    .dataframe tbody tr th:only-of-type {\n",
       "        vertical-align: middle;\n",
       "    }\n",
       "\n",
       "    .dataframe tbody tr th {\n",
       "        vertical-align: top;\n",
       "    }\n",
       "\n",
       "    .dataframe thead th {\n",
       "        text-align: right;\n",
       "    }\n",
       "</style>\n",
       "<table border=\"1\" class=\"dataframe\">\n",
       "  <thead>\n",
       "    <tr style=\"text-align: right;\">\n",
       "      <th></th>\n",
       "      <th>Unnamed: 0</th>\n",
       "      <th>Class</th>\n",
       "      <th>X</th>\n",
       "      <th>Y</th>\n",
       "      <th>x^2+y^2</th>\n",
       "      <th>x2y2</th>\n",
       "    </tr>\n",
       "  </thead>\n",
       "  <tbody>\n",
       "    <tr>\n",
       "      <th>0</th>\n",
       "      <td>0</td>\n",
       "      <td>1</td>\n",
       "      <td>0.759596</td>\n",
       "      <td>0.338615</td>\n",
       "      <td>0.691647</td>\n",
       "      <td>0.691647</td>\n",
       "    </tr>\n",
       "    <tr>\n",
       "      <th>1</th>\n",
       "      <td>1</td>\n",
       "      <td>0</td>\n",
       "      <td>-0.054081</td>\n",
       "      <td>-1.015513</td>\n",
       "      <td>1.034192</td>\n",
       "      <td>1.034192</td>\n",
       "    </tr>\n",
       "    <tr>\n",
       "      <th>2</th>\n",
       "      <td>2</td>\n",
       "      <td>0</td>\n",
       "      <td>0.239503</td>\n",
       "      <td>0.969903</td>\n",
       "      <td>0.998073</td>\n",
       "      <td>0.998073</td>\n",
       "    </tr>\n",
       "    <tr>\n",
       "      <th>3</th>\n",
       "      <td>3</td>\n",
       "      <td>1</td>\n",
       "      <td>-0.873011</td>\n",
       "      <td>0.033360</td>\n",
       "      <td>0.763261</td>\n",
       "      <td>0.763261</td>\n",
       "    </tr>\n",
       "    <tr>\n",
       "      <th>4</th>\n",
       "      <td>4</td>\n",
       "      <td>1</td>\n",
       "      <td>-0.844087</td>\n",
       "      <td>-0.011398</td>\n",
       "      <td>0.712613</td>\n",
       "      <td>0.712613</td>\n",
       "    </tr>\n",
       "    <tr>\n",
       "      <th>...</th>\n",
       "      <td>...</td>\n",
       "      <td>...</td>\n",
       "      <td>...</td>\n",
       "      <td>...</td>\n",
       "      <td>...</td>\n",
       "      <td>...</td>\n",
       "    </tr>\n",
       "    <tr>\n",
       "      <th>995</th>\n",
       "      <td>995</td>\n",
       "      <td>0</td>\n",
       "      <td>-0.483807</td>\n",
       "      <td>-0.897388</td>\n",
       "      <td>1.039376</td>\n",
       "      <td>1.039376</td>\n",
       "    </tr>\n",
       "    <tr>\n",
       "      <th>996</th>\n",
       "      <td>996</td>\n",
       "      <td>0</td>\n",
       "      <td>-0.321947</td>\n",
       "      <td>0.975426</td>\n",
       "      <td>1.055107</td>\n",
       "      <td>1.055107</td>\n",
       "    </tr>\n",
       "    <tr>\n",
       "      <th>997</th>\n",
       "      <td>997</td>\n",
       "      <td>0</td>\n",
       "      <td>0.823918</td>\n",
       "      <td>0.544920</td>\n",
       "      <td>0.975779</td>\n",
       "      <td>0.975779</td>\n",
       "    </tr>\n",
       "    <tr>\n",
       "      <th>998</th>\n",
       "      <td>998</td>\n",
       "      <td>0</td>\n",
       "      <td>0.549605</td>\n",
       "      <td>0.900108</td>\n",
       "      <td>1.112260</td>\n",
       "      <td>1.112260</td>\n",
       "    </tr>\n",
       "    <tr>\n",
       "      <th>999</th>\n",
       "      <td>999</td>\n",
       "      <td>1</td>\n",
       "      <td>-0.164530</td>\n",
       "      <td>-0.850531</td>\n",
       "      <td>0.750474</td>\n",
       "      <td>0.750474</td>\n",
       "    </tr>\n",
       "  </tbody>\n",
       "</table>\n",
       "<p>1000 rows × 6 columns</p>\n",
       "</div>"
      ],
      "text/plain": [
       "     Unnamed: 0  Class         X         Y   x^2+y^2      x2y2\n",
       "0             0      1  0.759596  0.338615  0.691647  0.691647\n",
       "1             1      0 -0.054081 -1.015513  1.034192  1.034192\n",
       "2             2      0  0.239503  0.969903  0.998073  0.998073\n",
       "3             3      1 -0.873011  0.033360  0.763261  0.763261\n",
       "4             4      1 -0.844087 -0.011398  0.712613  0.712613\n",
       "..          ...    ...       ...       ...       ...       ...\n",
       "995         995      0 -0.483807 -0.897388  1.039376  1.039376\n",
       "996         996      0 -0.321947  0.975426  1.055107  1.055107\n",
       "997         997      0  0.823918  0.544920  0.975779  0.975779\n",
       "998         998      0  0.549605  0.900108  1.112260  1.112260\n",
       "999         999      1 -0.164530 -0.850531  0.750474  0.750474\n",
       "\n",
       "[1000 rows x 6 columns]"
      ]
     },
     "execution_count": 226,
     "metadata": {},
     "output_type": "execute_result"
    }
   ],
   "source": [
    "Data1_training = Data1\n",
    "Data1_training[\"x2y2\"] = Data1[\"X\"]**2+Data1[\"Y\"]**2\n",
    "Data1_training"
   ]
  },
  {
   "cell_type": "markdown",
   "metadata": {},
   "source": [
    "5-c: Using new `Data1_training`, perform the classification using Logistic Regression. [5 pts]"
   ]
  },
  {
   "cell_type": "code",
   "execution_count": 245,
   "metadata": {},
   "outputs": [],
   "source": [
    "from sklearn.linear_model import LogisticRegression\n",
    "from sklearn.metrics import classification_report, confusion_matrix"
   ]
  },
  {
   "cell_type": "code",
   "execution_count": 246,
   "metadata": {},
   "outputs": [
    {
     "name": "stderr",
     "output_type": "stream",
     "text": [
      "C:\\Users\\aughb\\anaconda3\\lib\\site-packages\\sklearn\\utils\\validation.py:63: DataConversionWarning: A column-vector y was passed when a 1d array was expected. Please change the shape of y to (n_samples, ), for example using ravel().\n",
      "  return f(*args, **kwargs)\n"
     ]
    },
    {
     "data": {
      "text/plain": [
       "LogisticRegression()"
      ]
     },
     "execution_count": 246,
     "metadata": {},
     "output_type": "execute_result"
    }
   ],
   "source": [
    "model1 = LogisticRegression()\n",
    "X = np.array(list(zip(Data1_training[\"x2y2\"])))\n",
    "y = np.array(list(zip(Data1_training[\"Class\"])))\n",
    "model1.fit(X,y)"
   ]
  },
  {
   "cell_type": "code",
   "execution_count": 250,
   "metadata": {
    "scrolled": true
   },
   "outputs": [],
   "source": [
    "pred = model1.predict(X)\n"
   ]
  },
  {
   "cell_type": "code",
   "execution_count": 251,
   "metadata": {},
   "outputs": [
    {
     "data": {
      "text/plain": [
       "0.979"
      ]
     },
     "execution_count": 251,
     "metadata": {},
     "output_type": "execute_result"
    }
   ],
   "source": [
    "score = model1.score(X,y)\n",
    "score"
   ]
  },
  {
   "cell_type": "markdown",
   "metadata": {},
   "source": [
    "5-d: How would you classify the label directly without any pre-processing? You are under the same condition as mentioned in 5-a. Explain. [3 pts]"
   ]
  },
  {
   "cell_type": "markdown",
   "metadata": {},
   "source": [
    "The x^2 + y^2 transformation does not involve cleaning the data, so I believe that would still be applicable."
   ]
  },
  {
   "cell_type": "markdown",
   "metadata": {},
   "source": [
    "5-e: perform the classification as explained in 5-d. [5 pts]"
   ]
  },
  {
   "cell_type": "code",
   "execution_count": 252,
   "metadata": {},
   "outputs": [
    {
     "name": "stderr",
     "output_type": "stream",
     "text": [
      "C:\\Users\\aughb\\anaconda3\\lib\\site-packages\\sklearn\\utils\\validation.py:63: DataConversionWarning: A column-vector y was passed when a 1d array was expected. Please change the shape of y to (n_samples, ), for example using ravel().\n",
      "  return f(*args, **kwargs)\n"
     ]
    },
    {
     "data": {
      "text/plain": [
       "0.979"
      ]
     },
     "execution_count": 252,
     "metadata": {},
     "output_type": "execute_result"
    }
   ],
   "source": [
    "model1 = LogisticRegression()\n",
    "X = np.array(list(zip(Data1_training[\"x2y2\"])))\n",
    "y = np.array(list(zip(Data1_training[\"Class\"])))\n",
    "model1.fit(X,y)\n",
    "score = model1.score(X,y)\n",
    "score"
   ]
  },
  {
   "cell_type": "markdown",
   "metadata": {},
   "source": [
    "# 6 Short Answers [10 pts]"
   ]
  },
  {
   "cell_type": "markdown",
   "metadata": {},
   "source": [
    "6-1: Is it always good to do cross-validation? Justify your answer with a case (e.g., number of features, data size, etc..) [2 pts]"
   ]
  },
  {
   "cell_type": "markdown",
   "metadata": {},
   "source": [
    "Yes, cross validation ensures that each split of the data is a relatively good representation of the whole data and helps to reduce bias."
   ]
  },
  {
   "cell_type": "markdown",
   "metadata": {},
   "source": [
    "6-2: Is it necessary to remove outliers if you are going to predict a target using tree-based algorithms? Explain why. [2 pts]"
   ]
  },
  {
   "cell_type": "markdown",
   "metadata": {},
   "source": [
    "No, trees divide based on based on values that best distinguish one class from another. It doesnt matter how far away one value is from the split, it just matters which class it falls into."
   ]
  },
  {
   "cell_type": "markdown",
   "metadata": {},
   "source": [
    "6-3: Your friend has trained a classifier using any algorithms and got 100% accuracy. However, when you tested the model with a new data set with the same size and features, your testing accuracy dropped to 30%. What would you check from your friend's work? Explain why. Please do not say about EDA or feature engineering. [2 pts]"
   ]
  },
  {
   "cell_type": "markdown",
   "metadata": {},
   "source": [
    "I would check to see if my friend is using the training data for predictions instead of the test data. The model was trained off of the training data and so using the same training data for predictions artificially inflate the accuracy. This would also explain why new data's accuracy was at 30% because the model was overfitted specifically to the training data."
   ]
  },
  {
   "cell_type": "markdown",
   "metadata": {},
   "source": [
    "6-4: You are told to train a model using Linear Regression, Random Forest, and SVM to predict a target. The data has 1000 observations and 40 columns, including the target. Among three algorithms, which one would be the preferable algorithm to use if you have given 10 minutes? Assume that you have not done any pre-processing data work. Explain why. [2 pts]"
   ]
  },
  {
   "cell_type": "markdown",
   "metadata": {},
   "source": [
    "I would choose either Linear Regression as it is much faster than Random Forest and SVM for large datasets. SVM training complexity gets very high with large data, and 40 features would make random forest much slower needing to split based on one feature at a time for any high depths."
   ]
  },
  {
   "cell_type": "markdown",
   "metadata": {},
   "source": [
    "6-10: Explain why machine learning is \"Garbage IN Garbage OUT\"? [2 pts]"
   ]
  },
  {
   "cell_type": "markdown",
   "metadata": {},
   "source": [
    "Garbage data yields garbage results. If you train your model on bad data, then the model will not accurately represent what you are trying to represent. Giving that garbage model good data will yield very inaccurate results. Alternatively, if you have a good model and then give it garbage input data, it will not be able to interpret the data accurately and thus will still yield inaccurate results."
   ]
  }
 ],
 "metadata": {
  "kernelspec": {
   "display_name": "Python 3",
   "language": "python",
   "name": "python3"
  },
  "language_info": {
   "codemirror_mode": {
    "name": "ipython",
    "version": 3
   },
   "file_extension": ".py",
   "mimetype": "text/x-python",
   "name": "python",
   "nbconvert_exporter": "python",
   "pygments_lexer": "ipython3",
   "version": "3.8.8"
  }
 },
 "nbformat": 4,
 "nbformat_minor": 4
}
