{
 "cells": [
  {
   "cell_type": "markdown",
   "metadata": {},
   "source": [
    "## Summer 2021 CS559: Homework #1"
   ]
  },
  {
   "cell_type": "markdown",
   "metadata": {},
   "source": [
    "Assignment #1: due on **6/10/2021 by 11:59 PM**. \n",
    "- Before you start, rename the file as *LastNameFirstName*_S21_CS559_HW1. (e.g., JangInsuk_S21_CS559_HW1). \n",
    "- Submit the assignment both in format of *ipynb* and *html*. \n",
    "    - Export the file as *HTML* as `File`>`Download as`>`HTML`. \n",
    "    - Do not need to print results of middle-process work. Only the final answers must be printed while all lines must be excuted. \n",
    "    - Clean up unnecessary lines and codes with errors. \n",
    "    - Use *Markdown* to explain answers and results. \n",
    "    - **Do not need to compress** the files. You can submit files individually.\n",
    "    - Only one time submission is allowd \n",
    "- This assignment focuses on topics of linear algebra, probability theory, and EDA. \n",
    "    - For linear algebra questions, when the question says \"implement\", you are not allowed to use any built-in functions from `NumPy` or similar libraries that do the job. (e.g., if the question is to implement dot prodcut function, do not use `numpy.dot`). \n",
    "- This assignment should an individual work. Do not collaborate with classmates or get help from 3rd person. You may surf internet if you need to. Then site the reference. "
   ]
  },
  {
   "cell_type": "markdown",
   "metadata": {},
   "source": [
    "### Problem 1 [10 pts]\n",
    "1-a: **Implement** a function `dot_product` to calculate the dot product of two 1 by n arrays. [6 pts] \n",
    "$$\\vec{a}\\cdot\\vec{b}=\\sum_{i}^{n}a_ib_i$$\n",
    "- if there are two vectors **a**=[1,2,3,4] and **b**=[2,3,4,5] are\n",
    "    then `dot_product(a,b)` = 40. \n"
   ]
  },
  {
   "cell_type": "code",
   "execution_count": 1,
   "metadata": {},
   "outputs": [],
   "source": [
    "import numpy as np"
   ]
  },
  {
   "cell_type": "code",
   "execution_count": 2,
   "metadata": {},
   "outputs": [],
   "source": [
    "def dot_product(a,b):\n",
    "    ### Code Starts Here\n",
    "    result = 0;\n",
    "    for x in range(len(a)):\n",
    "        result+= a[x]*b[x]\n",
    "    return(result)\n"
   ]
  },
  {
   "cell_type": "markdown",
   "metadata": {},
   "source": [
    "The Dot Product of a and b is the sum of a[i] times b[i], and since I know both arrays have dimensions 1 by n, I made a for loop from 0 to n-1 (for indexing purposes). Both arrays have length n so I do not care which array's length I use. Then I added a[i] times b[i] to a result variable until the arrays ended and I returned result."
   ]
  },
  {
   "cell_type": "code",
   "execution_count": 3,
   "metadata": {},
   "outputs": [
    {
     "data": {
      "text/plain": [
       "40"
      ]
     },
     "execution_count": 3,
     "metadata": {},
     "output_type": "execute_result"
    }
   ],
   "source": [
    "a=[1,2,3,4]\n",
    "b=[2,3,4,5]\n",
    "dot_product(a,b)"
   ]
  },
  {
   "cell_type": "markdown",
   "metadata": {},
   "source": [
    "For Testing purposes, I made arrays a and b and ran my function on them, producing the expected output of 40."
   ]
  },
  {
   "cell_type": "markdown",
   "metadata": {},
   "source": [
    "1-b: Generate two random 1 by 10 vectors, $\\vec{x}$  and $\\vec{y}$, using `np.random.randinit()` and find $z$, the dot product between $\\vec{x}$  and $\\vec{y}$. [3 pts]"
   ]
  },
  {
   "cell_type": "code",
   "execution_count": 4,
   "metadata": {},
   "outputs": [],
   "source": [
    "### Code Starts Here\n",
    "np.random.seed(123)\n",
    "x=np.random.randint(11,size=10)\n",
    "y=np.random.randint(11,size=10)"
   ]
  },
  {
   "cell_type": "markdown",
   "metadata": {},
   "source": [
    "I used np.random.int() with reference to https://numpy.org/doc/stable/reference/random/generated/numpy.random.randint.html in order to create two random 1 by 10 arrays, with an arbitrary upper bound set at 11 exclusive."
   ]
  },
  {
   "cell_type": "code",
   "execution_count": 5,
   "metadata": {},
   "outputs": [
    {
     "name": "stdout",
     "output_type": "stream",
     "text": [
      "[ 2  2  6  1  3 10  9  6  1  0] [1 9 0 0 9 3 4 0 0 4]\n"
     ]
    }
   ],
   "source": [
    "print(x, y)"
   ]
  },
  {
   "cell_type": "code",
   "execution_count": 6,
   "metadata": {},
   "outputs": [],
   "source": [
    "z=dot_product(x,y)"
   ]
  },
  {
   "cell_type": "markdown",
   "metadata": {},
   "source": [
    "1-c:Test if $z$ in 1-b is same as the result using `np.dot()`. The answer should be printed either **True** or **False**. [1 pt]"
   ]
  },
  {
   "cell_type": "code",
   "execution_count": 7,
   "metadata": {},
   "outputs": [
    {
     "data": {
      "text/plain": [
       "True"
      ]
     },
     "execution_count": 7,
     "metadata": {},
     "output_type": "execute_result"
    }
   ],
   "source": [
    "### Code Starts Here\n",
    "z == np.dot(x,y)"
   ]
  },
  {
   "cell_type": "markdown",
   "metadata": {},
   "source": [
    "I print True if z is equivalent to np.dot(x,y), and False otherwise."
   ]
  },
  {
   "cell_type": "markdown",
   "metadata": {},
   "source": [
    "### Problem 2 [20 pts]\n",
    "2-a: Implement a function `mat_product` to calculate the matrix product of two n by n arrays. [8 pts] \n",
    "$$C_{ij}=\\sum_{i,j,k=1}^nA_{ik}B_{kj}$$"
   ]
  },
  {
   "cell_type": "code",
   "execution_count": 8,
   "metadata": {},
   "outputs": [],
   "source": [
    "### Code Starts Here\n",
    "def mat_product(A,B):\n",
    "    C = [[0 for x in range(len(A))] for y in range(len(B[0]))]\n",
    "    for i in range(len(A)):\n",
    "        for j in range(len(B[0])):\n",
    "            for k in range(len(A)):\n",
    "                C[i][j] += A[i][k] * B[k][j];\n",
    "    return C"
   ]
  },
  {
   "cell_type": "markdown",
   "metadata": {},
   "source": [
    "I started by making a result matrix C with dimensions ij, or A's outer length (i) by B's inner length (j). I then made 3 for loops, the outermost one to iterate down A's rows, the second to iterate across B's columns, and the third to iterate across each element within. Then I simply assign the result of the element multiplication to the corresponding position in the result matrix. When I finish the iterations, I return the final product matrix."
   ]
  },
  {
   "cell_type": "markdown",
   "metadata": {},
   "source": [
    "2-b Generate two random 3 by 3 matrices, ${\\bf X}$ and ${\\bf Y}$, whose elements are from 0 to 10. Print the result. [4 pts]"
   ]
  },
  {
   "cell_type": "code",
   "execution_count": 9,
   "metadata": {
    "scrolled": true
   },
   "outputs": [
    {
     "name": "stdout",
     "output_type": "stream",
     "text": [
      "[[ 2  2  6]\n",
      " [ 1  3 10]\n",
      " [ 9  6  1]]\n",
      "[[0 1 9]\n",
      " [0 0 9]\n",
      " [3 4 0]]\n"
     ]
    }
   ],
   "source": [
    "### Test Starts Here\n",
    "np.random.seed(123)\n",
    "X=np.random.randint(11, size= (3, 3))\n",
    "Y=np.random.randint(11, size= (3, 3))\n",
    "print(X)\n",
    "print(Y)"
   ]
  },
  {
   "cell_type": "markdown",
   "metadata": {},
   "source": [
    "I set an upperbound of 11 exclusive and then generated 9 numbers in the shape of a 3x3 matrix for X and Y and then printed them."
   ]
  },
  {
   "cell_type": "code",
   "execution_count": 10,
   "metadata": {},
   "outputs": [
    {
     "name": "stdout",
     "output_type": "stream",
     "text": [
      "[[ 18  26  36]\n",
      " [ 30  41  36]\n",
      " [  3  13 135]]\n",
      "Should be equal to:\n",
      "[[ 18  26  36]\n",
      " [ 30  41  36]\n",
      " [  3  13 135]]\n"
     ]
    }
   ],
   "source": [
    "Z = mat_product(X,Y)\n",
    "# Format the output into a 3x3 shape\n",
    "Z = np.reshape(Z,(3,3))\n",
    "# My output\n",
    "print(Z)\n",
    "print(\"Should be equal to:\")\n",
    "# numpy's implementation\n",
    "print(np.matmul(X,Y))"
   ]
  },
  {
   "cell_type": "markdown",
   "metadata": {},
   "source": [
    "I tested my implementation of mat_product on matrices X and Y and outputted the result to matrix Z. I then formatted Z for visualization purposes and compared Z to numpy's matmul() on X and Y to ensure I've done it correctly."
   ]
  },
  {
   "cell_type": "markdown",
   "metadata": {},
   "source": [
    "2-c Inplement a function `mat_transpose()` that transposes ${\\bf X}$ and use the `mat_product` function to find the matrice of product: $Z={\\bf X}^T\\cdot{\\bf Y}$. Compare the result with using `np.matmul()`. [8 pts]\n"
   ]
  },
  {
   "cell_type": "code",
   "execution_count": 11,
   "metadata": {},
   "outputs": [],
   "source": [
    "### Code Starts Here\n",
    "def mat_transpose(X):\n",
    "    Y = [[0 for x in range(len(X))] for y in range(len(X[0]))]\n",
    "    for x in range(len(X)):\n",
    "        for y in range(len(X[0])):\n",
    "            Y[y][x] = X[x][y]\n",
    "    return Y"
   ]
  },
  {
   "cell_type": "markdown",
   "metadata": {},
   "source": [
    "I create a result matrix Y to act as X transposed, and then iterate through X, assigning each element from X to its mirrored position in Y. Then simply return Y to get X transposed."
   ]
  },
  {
   "cell_type": "code",
   "execution_count": 12,
   "metadata": {},
   "outputs": [
    {
     "name": "stdout",
     "output_type": "stream",
     "text": [
      "[[ 2  2  6]\n",
      " [ 1  3 10]\n",
      " [ 9  6  1]]\n",
      "Should be mirrored along the major diagonal:\n",
      "[[ 2  1  9]\n",
      " [ 2  3  6]\n",
      " [ 6 10  1]]\n"
     ]
    }
   ],
   "source": [
    "print(X)\n",
    "X_t = mat_transpose(X)\n",
    "X_t = np.reshape(X_t,(3,3))\n",
    "print(\"Should be mirrored along the major diagonal:\")\n",
    "print(X_t)"
   ]
  },
  {
   "cell_type": "markdown",
   "metadata": {},
   "source": [
    "Test mat_transpose(X)"
   ]
  },
  {
   "cell_type": "code",
   "execution_count": 13,
   "metadata": {},
   "outputs": [
    {
     "name": "stdout",
     "output_type": "stream",
     "text": [
      "-- Product of X_t and Y --\n",
      "[[ 27  38  27]\n",
      " [ 18  26  45]\n",
      " [  3  10 144]]\n",
      "Should be should be equal to:\n",
      "[[ 27  38  27]\n",
      " [ 18  26  45]\n",
      " [  3  10 144]]\n"
     ]
    }
   ],
   "source": [
    "print(\"-- Product of X_t and Y --\")\n",
    "Z=mat_product(X_t,Y)\n",
    "Z = np.reshape(Z,(3,3))\n",
    "print(Z)\n",
    "print(\"Should be should be equal to:\")\n",
    "print(np.matmul(X.T,Y))"
   ]
  },
  {
   "cell_type": "markdown",
   "metadata": {},
   "source": [
    "### Problem 3 [15 pts]\n",
    "3-a: Create a simulatior `coin_prob(pi,n,k)` for $n$ fair coins (whose probability is $\\pi=0.5$) flipping $N$ times with the number of trials increase by the intervals of 50, $t=50,100,150,200,\\cdots,10000$, having $k$ number of heads. [10 pts]\n",
    "\n",
    "   - Use the sample data to compute the maximum likelihood estiamte probabilty $s$, `np.random.binomial()`, of $\\pi$.\n",
    "   - Have the simulator return the result of $t$ and $s$ as a data frame \"ProbTable\". [8 pts]\n",
    "   "
   ]
  },
  {
   "cell_type": "code",
   "execution_count": 14,
   "metadata": {
    "scrolled": true
   },
   "outputs": [],
   "source": [
    "### Code Starts Here\n",
    "import pandas as pd\n",
    "import numpy as np\n",
    "\n",
    "# pi = probability of head, \n",
    "# n = number of coins to be flipped, \n",
    "# N = number of times running the experiment\n",
    "# t = number of trials within each experiment, defined as N*50\n",
    "# k = number of heads we want to see\n",
    "# s = the probability that maximizes the likelihood of getting k heads\n",
    "\n",
    "def coin_prob(pi,n,k):\n",
    "    \"\"\"\n",
    "    Simulator to calculate a probability of n coins \n",
    "    flipping N times with t trials having k number of heads: head (=1)\n",
    "    \"\"\"\n",
    "    S = list()\n",
    "    T = list()\n",
    "    \n",
    "    for N in range(1,201):\n",
    "        t = N*50\n",
    "        T.append(t)\n",
    "        s = sum(np.random.binomial(n,pi,(N*50))==k)/(N*50)\n",
    "        S.append(s)\n",
    "    \n",
    "    ProbTable = pd.DataFrame({'S':S,'T':T})\n",
    "    return ProbTable"
   ]
  },
  {
   "cell_type": "markdown",
   "metadata": {},
   "source": [
    "I created two lists, S and T. S stores a list of the number of heads (k) divided by the number of tosses (t=N*50) for N from 1 to 200. T stores a list of the number of tosses for N from 1 to 200, which yields a list from 50 to 10000 incrementing by 50.\n",
    "\n",
    "Then I put both into ProbTable as columns and returned ProbTable."
   ]
  },
  {
   "cell_type": "markdown",
   "metadata": {},
   "source": [
    "3-b: Test the simulator when $n=1$ and $k=1$. Plot the estimates of $\\pi$ as a function of sample size. Indicate the expected probability using a horizontal line. [2 pts]"
   ]
  },
  {
   "cell_type": "code",
   "execution_count": 15,
   "metadata": {
    "scrolled": false
   },
   "outputs": [
    {
     "data": {
      "text/html": [
       "<div>\n",
       "<style scoped>\n",
       "    .dataframe tbody tr th:only-of-type {\n",
       "        vertical-align: middle;\n",
       "    }\n",
       "\n",
       "    .dataframe tbody tr th {\n",
       "        vertical-align: top;\n",
       "    }\n",
       "\n",
       "    .dataframe thead th {\n",
       "        text-align: right;\n",
       "    }\n",
       "</style>\n",
       "<table border=\"1\" class=\"dataframe\">\n",
       "  <thead>\n",
       "    <tr style=\"text-align: right;\">\n",
       "      <th></th>\n",
       "      <th>S</th>\n",
       "      <th>T</th>\n",
       "    </tr>\n",
       "  </thead>\n",
       "  <tbody>\n",
       "    <tr>\n",
       "      <th>0</th>\n",
       "      <td>0.420000</td>\n",
       "      <td>50</td>\n",
       "    </tr>\n",
       "    <tr>\n",
       "      <th>1</th>\n",
       "      <td>0.460000</td>\n",
       "      <td>100</td>\n",
       "    </tr>\n",
       "    <tr>\n",
       "      <th>2</th>\n",
       "      <td>0.486667</td>\n",
       "      <td>150</td>\n",
       "    </tr>\n",
       "    <tr>\n",
       "      <th>3</th>\n",
       "      <td>0.510000</td>\n",
       "      <td>200</td>\n",
       "    </tr>\n",
       "    <tr>\n",
       "      <th>4</th>\n",
       "      <td>0.552000</td>\n",
       "      <td>250</td>\n",
       "    </tr>\n",
       "    <tr>\n",
       "      <th>5</th>\n",
       "      <td>0.516667</td>\n",
       "      <td>300</td>\n",
       "    </tr>\n",
       "    <tr>\n",
       "      <th>6</th>\n",
       "      <td>0.480000</td>\n",
       "      <td>350</td>\n",
       "    </tr>\n",
       "    <tr>\n",
       "      <th>7</th>\n",
       "      <td>0.502500</td>\n",
       "      <td>400</td>\n",
       "    </tr>\n",
       "    <tr>\n",
       "      <th>8</th>\n",
       "      <td>0.504444</td>\n",
       "      <td>450</td>\n",
       "    </tr>\n",
       "    <tr>\n",
       "      <th>9</th>\n",
       "      <td>0.512000</td>\n",
       "      <td>500</td>\n",
       "    </tr>\n",
       "  </tbody>\n",
       "</table>\n",
       "</div>"
      ],
      "text/plain": [
       "          S    T\n",
       "0  0.420000   50\n",
       "1  0.460000  100\n",
       "2  0.486667  150\n",
       "3  0.510000  200\n",
       "4  0.552000  250\n",
       "5  0.516667  300\n",
       "6  0.480000  350\n",
       "7  0.502500  400\n",
       "8  0.504444  450\n",
       "9  0.512000  500"
      ]
     },
     "execution_count": 15,
     "metadata": {},
     "output_type": "execute_result"
    }
   ],
   "source": [
    "one_coin=coin_prob(pi=.5,n=1,k=1)\n",
    "one_coin.head(10)"
   ]
  },
  {
   "cell_type": "markdown",
   "metadata": {},
   "source": [
    "I set n and k to 1, with a pi = .5, and showed the first 10 experiments where s tends towards pi as T increases."
   ]
  },
  {
   "cell_type": "code",
   "execution_count": 16,
   "metadata": {},
   "outputs": [
    {
     "data": {
      "image/png": "[encoded data removed]",
      "text/plain": [
       "<Figure size 432x288 with 1 Axes>"
      ]
     },
     "metadata": {
      "needs_background": "light"
     },
     "output_type": "display_data"
    }
   ],
   "source": [
    "### Code Starts Here\n",
    "import matplotlib.pyplot as plt\n",
    "\n",
    "plt.plot(one_coin['T'], one_coin['S'], 'g-')\n",
    "plt.axhline(y=.5, color='r', linestyle='--')\n",
    "plt.xlabel('Sample Size')\n",
    "plt.ylabel('Probability')\n",
    "plt.title('Probability vs. Sample Size')\n",
    "plt.show()"
   ]
  },
  {
   "cell_type": "markdown",
   "metadata": {},
   "source": [
    "Set the sample size (column 'T') to the x axis, and the probability (column 'S') to the y axis. Then I created a horizontal line set at y = .5 to emphasis the line that s is trending towards with an expectedly decreasing variance as the sample size increases."
   ]
  },
  {
   "cell_type": "markdown",
   "metadata": {},
   "source": [
    "3-c: Calculate the probability of having **1 head ($k=1$)** when 3 coins are flipped. Report the expected value.  [2 pts]"
   ]
  },
  {
   "cell_type": "code",
   "execution_count": 17,
   "metadata": {},
   "outputs": [
    {
     "data": {
      "text/plain": [
       "0.375"
      ]
     },
     "execution_count": 17,
     "metadata": {},
     "output_type": "execute_result"
    }
   ],
   "source": [
    "import math as m\n",
    "p1head = m.comb(3,1)*((.5)**1)*((1-.5)**2) #equals 0.375 or 3/8\n",
    "\n",
    "p1head"
   ]
  },
  {
   "cell_type": "markdown",
   "metadata": {},
   "source": [
    "The probability of having 1 head when 3 coins are flipped can be found by using the binomial distribution formula P(k=1|n=3) = nCk * (pi)^k * (1-pi)^n-k. Plugging in 3 for n, 1 for k, and .5 (fair coin) for pi yields 0.375, as shown."
   ]
  },
  {
   "cell_type": "markdown",
   "metadata": {},
   "source": [
    "3-d: Evaluate your answer in 3-c using the simulator. Show a plot that supports your evaluation. [3 pts]"
   ]
  },
  {
   "cell_type": "code",
   "execution_count": 18,
   "metadata": {},
   "outputs": [],
   "source": [
    "three_coins=coin_prob(pi=.5,n=3,k=1)"
   ]
  },
  {
   "cell_type": "code",
   "execution_count": 19,
   "metadata": {},
   "outputs": [
    {
     "data": {
      "image/png": "[encoded data removed]",
      "text/plain": [
       "<Figure size 432x288 with 1 Axes>"
      ]
     },
     "metadata": {
      "needs_background": "light"
     },
     "output_type": "display_data"
    }
   ],
   "source": [
    "\"\"\"Plot shows here\"\"\"\n",
    "import matplotlib.pyplot as plt\n",
    "\n",
    "plt.plot(three_coins['T'], three_coins['S'], 'g-')\n",
    "plt.axhline(y=.375, color='r', linestyle='--')\n",
    "plt.xlabel('Sample Size')\n",
    "plt.ylabel('Probability')\n",
    "plt.title('Probability vs. Sample Size')\n",
    "plt.show()"
   ]
  },
  {
   "cell_type": "markdown",
   "metadata": {},
   "source": [
    "Similarly to 3b, the probability trends towards the calculated probability, in this case y = 0.375, as the sample size increases."
   ]
  },
  {
   "cell_type": "markdown",
   "metadata": {},
   "source": [
    "### Problem 4 [30 pts]\n",
    "\n",
    "Load the Gross Domestic Product data for the 190 ranked countries in the file **GDP.csv**. Load **Country.csv** into a DataFrame. "
   ]
  },
  {
   "cell_type": "code",
   "execution_count": 20,
   "metadata": {},
   "outputs": [],
   "source": [
    "gdp = pd.read_csv('GDP.csv', skiprows=range(5), header= None, usecols=[0,1,3,4], nrows=190,encoding='ISO-8859-1')\n",
    "gdp.columns = ['CountryCode', 'Rank', 'CountryName', 'GDP']\n",
    "Country = pd.read_csv('Country.csv',encoding='ISO-8859-1')"
   ]
  },
  {
   "cell_type": "markdown",
   "metadata": {},
   "source": []
  },
  {
   "cell_type": "markdown",
   "metadata": {},
   "source": [
    "4-a: Match the `CountryCode` and merge two data frames. Call the new data frame as `Country_GDP`. How many of the IDs match?\n",
    "Use the link for hints: https://pandas.pydata.org/pandas-docs/stable/user_guide/merging.html [5 pts]"
   ]
  },
  {
   "cell_type": "code",
   "execution_count": 21,
   "metadata": {
    "scrolled": true
   },
   "outputs": [
    {
     "data": {
      "text/html": [
       "<div>\n",
       "<style scoped>\n",
       "    .dataframe tbody tr th:only-of-type {\n",
       "        vertical-align: middle;\n",
       "    }\n",
       "\n",
       "    .dataframe tbody tr th {\n",
       "        vertical-align: top;\n",
       "    }\n",
       "\n",
       "    .dataframe thead th {\n",
       "        text-align: right;\n",
       "    }\n",
       "</style>\n",
       "<table border=\"1\" class=\"dataframe\">\n",
       "  <thead>\n",
       "    <tr style=\"text-align: right;\">\n",
       "      <th></th>\n",
       "      <th>CountryCode</th>\n",
       "      <th>Rank</th>\n",
       "      <th>CountryName</th>\n",
       "      <th>GDP</th>\n",
       "      <th>Long Name</th>\n",
       "      <th>Income Group</th>\n",
       "      <th>Region</th>\n",
       "      <th>Lending category</th>\n",
       "      <th>Other groups</th>\n",
       "      <th>Currency Unit</th>\n",
       "      <th>...</th>\n",
       "      <th>Source of most recent Income and expenditure data</th>\n",
       "      <th>Vital registration complete</th>\n",
       "      <th>Latest agricultural census</th>\n",
       "      <th>Latest industrial data</th>\n",
       "      <th>Latest trade data</th>\n",
       "      <th>Latest water withdrawal data</th>\n",
       "      <th>2-alpha code</th>\n",
       "      <th>WB-2 code</th>\n",
       "      <th>Table Name</th>\n",
       "      <th>Short Name</th>\n",
       "    </tr>\n",
       "  </thead>\n",
       "  <tbody>\n",
       "    <tr>\n",
       "      <th>0</th>\n",
       "      <td>USA</td>\n",
       "      <td>1</td>\n",
       "      <td>United States</td>\n",
       "      <td>16,244,600</td>\n",
       "      <td>United States of America</td>\n",
       "      <td>High income: OECD</td>\n",
       "      <td>North America</td>\n",
       "      <td>NaN</td>\n",
       "      <td>NaN</td>\n",
       "      <td>U.S. dollar</td>\n",
       "      <td>...</td>\n",
       "      <td>LFS 2000</td>\n",
       "      <td>Yes</td>\n",
       "      <td>1997/2002</td>\n",
       "      <td>2004.0</td>\n",
       "      <td>2008.0</td>\n",
       "      <td>2000.0</td>\n",
       "      <td>US</td>\n",
       "      <td>US</td>\n",
       "      <td>United States</td>\n",
       "      <td>United States</td>\n",
       "    </tr>\n",
       "    <tr>\n",
       "      <th>1</th>\n",
       "      <td>CHN</td>\n",
       "      <td>2</td>\n",
       "      <td>China</td>\n",
       "      <td>8,227,103</td>\n",
       "      <td>People's Republic of China</td>\n",
       "      <td>Lower middle income</td>\n",
       "      <td>East Asia &amp; Pacific</td>\n",
       "      <td>IBRD</td>\n",
       "      <td>NaN</td>\n",
       "      <td>Chinese yuan</td>\n",
       "      <td>...</td>\n",
       "      <td>IHS, 2005</td>\n",
       "      <td>NaN</td>\n",
       "      <td>1997</td>\n",
       "      <td>2005.0</td>\n",
       "      <td>2008.0</td>\n",
       "      <td>2000.0</td>\n",
       "      <td>CN</td>\n",
       "      <td>CN</td>\n",
       "      <td>China</td>\n",
       "      <td>China</td>\n",
       "    </tr>\n",
       "    <tr>\n",
       "      <th>2</th>\n",
       "      <td>JPN</td>\n",
       "      <td>3</td>\n",
       "      <td>Japan</td>\n",
       "      <td>5,959,718</td>\n",
       "      <td>Japan</td>\n",
       "      <td>High income: OECD</td>\n",
       "      <td>East Asia &amp; Pacific</td>\n",
       "      <td>NaN</td>\n",
       "      <td>NaN</td>\n",
       "      <td>Japanese yen</td>\n",
       "      <td>...</td>\n",
       "      <td>IS, 1993</td>\n",
       "      <td>Yes</td>\n",
       "      <td>2000</td>\n",
       "      <td>2004.0</td>\n",
       "      <td>2008.0</td>\n",
       "      <td>2000.0</td>\n",
       "      <td>JP</td>\n",
       "      <td>JP</td>\n",
       "      <td>Japan</td>\n",
       "      <td>Japan</td>\n",
       "    </tr>\n",
       "    <tr>\n",
       "      <th>3</th>\n",
       "      <td>DEU</td>\n",
       "      <td>4</td>\n",
       "      <td>Germany</td>\n",
       "      <td>3,428,131</td>\n",
       "      <td>Federal Republic of Germany</td>\n",
       "      <td>High income: OECD</td>\n",
       "      <td>Europe &amp; Central Asia</td>\n",
       "      <td>NaN</td>\n",
       "      <td>Euro area</td>\n",
       "      <td>Euro</td>\n",
       "      <td>...</td>\n",
       "      <td>IHS, 2000</td>\n",
       "      <td>Yes</td>\n",
       "      <td>1999-2000</td>\n",
       "      <td>2004.0</td>\n",
       "      <td>2008.0</td>\n",
       "      <td>2000.0</td>\n",
       "      <td>DE</td>\n",
       "      <td>DE</td>\n",
       "      <td>Germany</td>\n",
       "      <td>Germany</td>\n",
       "    </tr>\n",
       "    <tr>\n",
       "      <th>4</th>\n",
       "      <td>FRA</td>\n",
       "      <td>5</td>\n",
       "      <td>France</td>\n",
       "      <td>2,612,878</td>\n",
       "      <td>French Republic</td>\n",
       "      <td>High income: OECD</td>\n",
       "      <td>Europe &amp; Central Asia</td>\n",
       "      <td>NaN</td>\n",
       "      <td>Euro area</td>\n",
       "      <td>Euro</td>\n",
       "      <td>...</td>\n",
       "      <td>ES/BS, 1994/95</td>\n",
       "      <td>Yes</td>\n",
       "      <td>1999-2000</td>\n",
       "      <td>2004.0</td>\n",
       "      <td>2008.0</td>\n",
       "      <td>2000.0</td>\n",
       "      <td>FR</td>\n",
       "      <td>FR</td>\n",
       "      <td>France</td>\n",
       "      <td>France</td>\n",
       "    </tr>\n",
       "    <tr>\n",
       "      <th>...</th>\n",
       "      <td>...</td>\n",
       "      <td>...</td>\n",
       "      <td>...</td>\n",
       "      <td>...</td>\n",
       "      <td>...</td>\n",
       "      <td>...</td>\n",
       "      <td>...</td>\n",
       "      <td>...</td>\n",
       "      <td>...</td>\n",
       "      <td>...</td>\n",
       "      <td>...</td>\n",
       "      <td>...</td>\n",
       "      <td>...</td>\n",
       "      <td>...</td>\n",
       "      <td>...</td>\n",
       "      <td>...</td>\n",
       "      <td>...</td>\n",
       "      <td>...</td>\n",
       "      <td>...</td>\n",
       "      <td>...</td>\n",
       "      <td>...</td>\n",
       "    </tr>\n",
       "    <tr>\n",
       "      <th>184</th>\n",
       "      <td>STP</td>\n",
       "      <td>186</td>\n",
       "      <td>São Tomé and Principe</td>\n",
       "      <td>263</td>\n",
       "      <td>Democratic Republic of São Tomé and Principe</td>\n",
       "      <td>Lower middle income</td>\n",
       "      <td>Sub-Saharan Africa</td>\n",
       "      <td>IDA</td>\n",
       "      <td>HIPC</td>\n",
       "      <td>São Tomé and Principe dobra</td>\n",
       "      <td>...</td>\n",
       "      <td>PS 2000-01</td>\n",
       "      <td>NaN</td>\n",
       "      <td>NaN</td>\n",
       "      <td>NaN</td>\n",
       "      <td>2008.0</td>\n",
       "      <td>NaN</td>\n",
       "      <td>ST</td>\n",
       "      <td>ST</td>\n",
       "      <td>São Tomé and Principe</td>\n",
       "      <td>São Tomé and Principe</td>\n",
       "    </tr>\n",
       "    <tr>\n",
       "      <th>185</th>\n",
       "      <td>PLW</td>\n",
       "      <td>187</td>\n",
       "      <td>Palau</td>\n",
       "      <td>228</td>\n",
       "      <td>Republic of Palau</td>\n",
       "      <td>Upper middle income</td>\n",
       "      <td>East Asia &amp; Pacific</td>\n",
       "      <td>IBRD</td>\n",
       "      <td>NaN</td>\n",
       "      <td>U.S. dollar</td>\n",
       "      <td>...</td>\n",
       "      <td>NaN</td>\n",
       "      <td>Yes</td>\n",
       "      <td>NaN</td>\n",
       "      <td>NaN</td>\n",
       "      <td>NaN</td>\n",
       "      <td>NaN</td>\n",
       "      <td>PW</td>\n",
       "      <td>PW</td>\n",
       "      <td>Palau</td>\n",
       "      <td>Palau</td>\n",
       "    </tr>\n",
       "    <tr>\n",
       "      <th>186</th>\n",
       "      <td>MHL</td>\n",
       "      <td>188</td>\n",
       "      <td>Marshall Islands</td>\n",
       "      <td>182</td>\n",
       "      <td>Republic of the Marshall Islands</td>\n",
       "      <td>Lower middle income</td>\n",
       "      <td>East Asia &amp; Pacific</td>\n",
       "      <td>IBRD</td>\n",
       "      <td>NaN</td>\n",
       "      <td>U.S. dollar</td>\n",
       "      <td>...</td>\n",
       "      <td>NaN</td>\n",
       "      <td>NaN</td>\n",
       "      <td>NaN</td>\n",
       "      <td>NaN</td>\n",
       "      <td>NaN</td>\n",
       "      <td>NaN</td>\n",
       "      <td>MH</td>\n",
       "      <td>MH</td>\n",
       "      <td>Marshall Islands</td>\n",
       "      <td>Marshall Islands</td>\n",
       "    </tr>\n",
       "    <tr>\n",
       "      <th>187</th>\n",
       "      <td>KIR</td>\n",
       "      <td>189</td>\n",
       "      <td>Kiribati</td>\n",
       "      <td>175</td>\n",
       "      <td>Republic of Kiribati</td>\n",
       "      <td>Lower middle income</td>\n",
       "      <td>East Asia &amp; Pacific</td>\n",
       "      <td>IDA</td>\n",
       "      <td>NaN</td>\n",
       "      <td>Australian dollar</td>\n",
       "      <td>...</td>\n",
       "      <td>NaN</td>\n",
       "      <td>NaN</td>\n",
       "      <td>NaN</td>\n",
       "      <td>NaN</td>\n",
       "      <td>2005.0</td>\n",
       "      <td>NaN</td>\n",
       "      <td>KI</td>\n",
       "      <td>KI</td>\n",
       "      <td>Kiribati</td>\n",
       "      <td>Kiribati</td>\n",
       "    </tr>\n",
       "    <tr>\n",
       "      <th>188</th>\n",
       "      <td>TUV</td>\n",
       "      <td>190</td>\n",
       "      <td>Tuvalu</td>\n",
       "      <td>40</td>\n",
       "      <td>Tuvalu</td>\n",
       "      <td>Lower middle income</td>\n",
       "      <td>East Asia &amp; Pacific</td>\n",
       "      <td>NaN</td>\n",
       "      <td>NaN</td>\n",
       "      <td>Australian dollar</td>\n",
       "      <td>...</td>\n",
       "      <td>NaN</td>\n",
       "      <td>NaN</td>\n",
       "      <td>NaN</td>\n",
       "      <td>NaN</td>\n",
       "      <td>NaN</td>\n",
       "      <td>NaN</td>\n",
       "      <td>TV</td>\n",
       "      <td>TV</td>\n",
       "      <td>Tuvalu</td>\n",
       "      <td>Tuvalu</td>\n",
       "    </tr>\n",
       "  </tbody>\n",
       "</table>\n",
       "<p>189 rows × 34 columns</p>\n",
       "</div>"
      ],
      "text/plain": [
       "    CountryCode  Rank            CountryName           GDP  \\\n",
       "0           USA     1          United States   16,244,600    \n",
       "1           CHN     2                  China    8,227,103    \n",
       "2           JPN     3                  Japan    5,959,718    \n",
       "3           DEU     4                Germany    3,428,131    \n",
       "4           FRA     5                 France    2,612,878    \n",
       "..          ...   ...                    ...           ...   \n",
       "184         STP   186  São Tomé and Principe          263    \n",
       "185         PLW   187                  Palau          228    \n",
       "186         MHL   188       Marshall Islands          182    \n",
       "187         KIR   189               Kiribati          175    \n",
       "188         TUV   190                 Tuvalu           40    \n",
       "\n",
       "                                        Long Name         Income Group  \\\n",
       "0                        United States of America    High income: OECD   \n",
       "1                      People's Republic of China  Lower middle income   \n",
       "2                                           Japan    High income: OECD   \n",
       "3                     Federal Republic of Germany    High income: OECD   \n",
       "4                                 French Republic    High income: OECD   \n",
       "..                                            ...                  ...   \n",
       "184  Democratic Republic of São Tomé and Principe  Lower middle income   \n",
       "185                             Republic of Palau  Upper middle income   \n",
       "186              Republic of the Marshall Islands  Lower middle income   \n",
       "187                          Republic of Kiribati  Lower middle income   \n",
       "188                                        Tuvalu  Lower middle income   \n",
       "\n",
       "                    Region Lending category Other groups  \\\n",
       "0            North America              NaN          NaN   \n",
       "1      East Asia & Pacific             IBRD          NaN   \n",
       "2      East Asia & Pacific              NaN          NaN   \n",
       "3    Europe & Central Asia              NaN    Euro area   \n",
       "4    Europe & Central Asia              NaN    Euro area   \n",
       "..                     ...              ...          ...   \n",
       "184     Sub-Saharan Africa              IDA         HIPC   \n",
       "185    East Asia & Pacific             IBRD          NaN   \n",
       "186    East Asia & Pacific             IBRD          NaN   \n",
       "187    East Asia & Pacific              IDA          NaN   \n",
       "188    East Asia & Pacific              NaN          NaN   \n",
       "\n",
       "                   Currency Unit  ...  \\\n",
       "0                    U.S. dollar  ...   \n",
       "1                   Chinese yuan  ...   \n",
       "2                   Japanese yen  ...   \n",
       "3                           Euro  ...   \n",
       "4                           Euro  ...   \n",
       "..                           ...  ...   \n",
       "184  São Tomé and Principe dobra  ...   \n",
       "185                  U.S. dollar  ...   \n",
       "186                  U.S. dollar  ...   \n",
       "187            Australian dollar  ...   \n",
       "188            Australian dollar  ...   \n",
       "\n",
       "    Source of most recent Income and expenditure data  \\\n",
       "0                                            LFS 2000   \n",
       "1                                           IHS, 2005   \n",
       "2                                            IS, 1993   \n",
       "3                                           IHS, 2000   \n",
       "4                                      ES/BS, 1994/95   \n",
       "..                                                ...   \n",
       "184                                        PS 2000-01   \n",
       "185                                               NaN   \n",
       "186                                               NaN   \n",
       "187                                               NaN   \n",
       "188                                               NaN   \n",
       "\n",
       "    Vital registration complete Latest agricultural census  \\\n",
       "0                           Yes                  1997/2002   \n",
       "1                           NaN                       1997   \n",
       "2                           Yes                       2000   \n",
       "3                           Yes                  1999-2000   \n",
       "4                           Yes                  1999-2000   \n",
       "..                          ...                        ...   \n",
       "184                         NaN                        NaN   \n",
       "185                         Yes                        NaN   \n",
       "186                         NaN                        NaN   \n",
       "187                         NaN                        NaN   \n",
       "188                         NaN                        NaN   \n",
       "\n",
       "    Latest industrial data  Latest trade data  Latest water withdrawal data  \\\n",
       "0                   2004.0             2008.0                        2000.0   \n",
       "1                   2005.0             2008.0                        2000.0   \n",
       "2                   2004.0             2008.0                        2000.0   \n",
       "3                   2004.0             2008.0                        2000.0   \n",
       "4                   2004.0             2008.0                        2000.0   \n",
       "..                     ...                ...                           ...   \n",
       "184                    NaN             2008.0                           NaN   \n",
       "185                    NaN                NaN                           NaN   \n",
       "186                    NaN                NaN                           NaN   \n",
       "187                    NaN             2005.0                           NaN   \n",
       "188                    NaN                NaN                           NaN   \n",
       "\n",
       "    2-alpha code WB-2 code             Table Name             Short Name  \n",
       "0             US        US          United States          United States  \n",
       "1             CN        CN                  China                  China  \n",
       "2             JP        JP                  Japan                  Japan  \n",
       "3             DE        DE                Germany                Germany  \n",
       "4             FR        FR                 France                 France  \n",
       "..           ...       ...                    ...                    ...  \n",
       "184           ST        ST  São Tomé and Principe  São Tomé and Principe  \n",
       "185           PW        PW                  Palau                  Palau  \n",
       "186           MH        MH       Marshall Islands       Marshall Islands  \n",
       "187           KI        KI               Kiribati               Kiribati  \n",
       "188           TV        TV                 Tuvalu                 Tuvalu  \n",
       "\n",
       "[189 rows x 34 columns]"
      ]
     },
     "execution_count": 21,
     "metadata": {},
     "output_type": "execute_result"
    }
   ],
   "source": [
    "### Code Starts Here\n",
    "# Match CountryCode from gdp and from Country\n",
    "Country_GDP = pd.merge(gdp, Country, on='CountryCode')\n",
    "Country_GDP"
   ]
  },
  {
   "cell_type": "markdown",
   "metadata": {},
   "source": [
    "I called pd.merge() to merge the two datasets together, combining them on the Country Codes. I then called Country_GDP to ensure everything worked properly."
   ]
  },
  {
   "cell_type": "code",
   "execution_count": 22,
   "metadata": {},
   "outputs": [
    {
     "data": {
      "text/plain": [
       "189"
      ]
     },
     "execution_count": 22,
     "metadata": {},
     "output_type": "execute_result"
    }
   ],
   "source": [
    "### Print the number of IDs\n",
    "len(Country_GDP.index)"
   ]
  },
  {
   "cell_type": "markdown",
   "metadata": {},
   "source": [
    "The length of the index column of the new dataframe reveals how many of the Country Codes matched."
   ]
  },
  {
   "cell_type": "markdown",
   "metadata": {},
   "source": [
    "4-b: Use visualization to determine the number of countries by `Region`. Which region has the largest number of countries? [5 pts]"
   ]
  },
  {
   "cell_type": "code",
   "execution_count": 23,
   "metadata": {
    "scrolled": false
   },
   "outputs": [
    {
     "name": "stdout",
     "output_type": "stream",
     "text": [
      "Europe & Central Asia has the largest number of countries at 50\n"
     ]
    },
    {
     "data": {
      "image/png": "[encoded data removed]",
      "text/plain": [
       "<Figure size 432x288 with 1 Axes>"
      ]
     },
     "metadata": {
      "needs_background": "light"
     },
     "output_type": "display_data"
    }
   ],
   "source": [
    "### Code Starts Here\n",
    "# Visualize as a bar graph\n",
    "Country_GDP[\"Region\"].value_counts().plot(kind=\"bar\",grid=True)\n",
    "plt.xlabel('Regions')\n",
    "plt.ylabel('# of Countries Contained Within')\n",
    "plt.title('Number of Countries in Each Region')\n",
    "# Europe & Central Asia has the largest number of countries at 50\n",
    "print(\"Europe & Central Asia has the largest number of countries at 50\")"
   ]
  },
  {
   "cell_type": "markdown",
   "metadata": {},
   "source": [
    "I decided to visualize the number of countries by region as a bar graph, and so I used value_counts() to accumulate the total number by region, and plotted the result with a grid to better understand the total that each bar represents.\n",
    "\n",
    "I also labeled the x and y axis and gave the plot a title. As stated above the plot, Europe & Central Asia has the most countries with a total of 50."
   ]
  },
  {
   "cell_type": "markdown",
   "metadata": {},
   "source": [
    "4-c: Visualize the distribution of GDP by `Region` to make descrete statistic analysis. Explain your findings. [5 pts]"
   ]
  },
  {
   "cell_type": "code",
   "execution_count": 24,
   "metadata": {
    "scrolled": false
   },
   "outputs": [],
   "source": [
    "### Code Starts Here\n",
    "import seaborn as sns\n",
    "# Correctly Format Country_GDP.GDP to get rid of commas and spaces in order to convert to numbers\n",
    "S = list()\n",
    "for gdp in Country_GDP.GDP:\n",
    "    new_gdp = gdp.replace(',','')\n",
    "    new_gdp = new_gdp.replace(' ','')\n",
    "    S.append(new_gdp)\n",
    "S = pd.Series(S)\n",
    "S = pd.to_numeric(S)\n",
    "Country_GDP.GDP = S"
   ]
  },
  {
   "cell_type": "code",
   "execution_count": 25,
   "metadata": {
    "scrolled": true
   },
   "outputs": [
    {
     "data": {
      "text/plain": [
       "<AxesSubplot:xlabel='GDP', ylabel='Region'>"
      ]
     },
     "execution_count": 25,
     "metadata": {},
     "output_type": "execute_result"
    },
    {
     "data": {
      "image/png": "[encoded data removed]",
      "text/plain": [
       "<Figure size 432x288 with 1 Axes>"
      ]
     },
     "metadata": {
      "needs_background": "light"
     },
     "output_type": "display_data"
    }
   ],
   "source": [
    "sns.barplot(y='Region',x='GDP',data=Country_GDP,palette='rainbow')"
   ]
  },
  {
   "cell_type": "markdown",
   "metadata": {},
   "source": [
    "In order to plot GDP numerically, I had to create a list S that would take in the contents under column 'GDP' and format out the commas and extra spaces. Once I accomplished that, I set up a bar plot for Region and GDP to show the barplots of each region next to one another.\n",
    "\n",
    "Since North America only contains three countries (USA, Canada, and Mexico) and the US has the highest GDP in the world (Canada also has a very high GDP relative to the rest of the world), NA has a very large bar but with a significantly larger error bar. This is because since the sample is so small, there is a lot of potential variance. Since each country significant affects the outcome, the confidence interval must be very large to account for this.\n",
    "\n",
    "The other regions have much smaller bars since there are many more and many low-GDP countries contained within those regions. This means any high-GDP countries within the region make a less significant impact on the final output, which also means the error bars will be much smaller.\n",
    "\n",
    "Discrete Statistic Analysis: (made with grouping by Region, grabbing that regions GDPs, and performing built in functions on them through agg())"
   ]
  },
  {
   "cell_type": "code",
   "execution_count": 26,
   "metadata": {
    "scrolled": true
   },
   "outputs": [
    {
     "data": {
      "text/plain": [
       "mean      3.795965e+05\n",
       "std       1.454854e+06\n",
       "median    2.824200e+04\n",
       "Name: GDP, dtype: float64"
      ]
     },
     "execution_count": 26,
     "metadata": {},
     "output_type": "execute_result"
    }
   ],
   "source": [
    "Country_GDP.groupby('Region')['GDP'].agg([pd.DataFrame.mean,pd.DataFrame.std,pd.DataFrame.median])"
   ]
  },
  {
   "cell_type": "markdown",
   "metadata": {},
   "source": [
    "The median of North America is insanely high relative to the other regions. This is because there are only three countries in NA, the USA, Canada, and Mexico. USA ranks number 1 on world GDP according to the data, and Canada is not too far behind. Mexico is somewhere below that. However, since the median is solely the middle value, Canada represents the median and as a result its value is over 10x that of the next highest: the median value in Middle East & North Africa.\n",
    "\n",
    "The mean of most regions are pretty similar. Notably, the Sub-Saharan Africa region has a mean GDP roughly 1/6x that of the next-lowest mean GDP, while North America has a mean GDP roughly 9x that of the next-highest mean GDP.\n",
    "\n",
    "However, North America also has a standard deviation that is roughly 5x that of the next highest std, reinforcing the idea of a very high variance in NA. Meanwhile, Sub-Saharan Africa has a relatively miniscule standard deviation of approximately 6.77x10^4, which is over two magnitudes smaller than that of North America at approximately 8.90x10^6. This means that Sub-Saharan Africa has significantly less variance."
   ]
  },
  {
   "cell_type": "markdown",
   "metadata": {},
   "source": [
    "4-d: Test how GDPs are alike between regions using two-sample **Kolmogorov-Smirnov** test `ks_2samp()`. Make a data table show $KS-test$ and $p-$ values. Evalueate the result. Expian which regions have similar distributions. [5 pts]"
   ]
  },
  {
   "cell_type": "code",
   "execution_count": 27,
   "metadata": {},
   "outputs": [
    {
     "data": {
      "text/html": [
       "<div>\n",
       "<style scoped>\n",
       "    .dataframe tbody tr th:only-of-type {\n",
       "        vertical-align: middle;\n",
       "    }\n",
       "\n",
       "    .dataframe tbody tr th {\n",
       "        vertical-align: top;\n",
       "    }\n",
       "\n",
       "    .dataframe thead th {\n",
       "        text-align: right;\n",
       "    }\n",
       "</style>\n",
       "<table border=\"1\" class=\"dataframe\">\n",
       "  <thead>\n",
       "    <tr style=\"text-align: right;\">\n",
       "      <th></th>\n",
       "      <th>North America</th>\n",
       "      <th>East Asia &amp; Pacific</th>\n",
       "      <th>Europe &amp; Central Asia</th>\n",
       "      <th>Latin America &amp; Caribbean</th>\n",
       "      <th>South Asia</th>\n",
       "      <th>Middle East &amp; North Africa</th>\n",
       "      <th>Sub-Saharan Africa</th>\n",
       "    </tr>\n",
       "  </thead>\n",
       "  <tbody>\n",
       "    <tr>\n",
       "      <th>North America</th>\n",
       "      <td>0.000000</td>\n",
       "      <td>0.597701</td>\n",
       "      <td>0.566667</td>\n",
       "      <td>0.638095</td>\n",
       "      <td>0.541667</td>\n",
       "      <td>0.666667</td>\n",
       "      <td>0.666667</td>\n",
       "    </tr>\n",
       "    <tr>\n",
       "      <th>East Asia &amp; Pacific</th>\n",
       "      <td>0.597701</td>\n",
       "      <td>0.000000</td>\n",
       "      <td>0.379310</td>\n",
       "      <td>0.213793</td>\n",
       "      <td>0.344828</td>\n",
       "      <td>0.496169</td>\n",
       "      <td>0.370315</td>\n",
       "    </tr>\n",
       "    <tr>\n",
       "      <th>Europe &amp; Central Asia</th>\n",
       "      <td>0.566667</td>\n",
       "      <td>0.379310</td>\n",
       "      <td>0.000000</td>\n",
       "      <td>0.305714</td>\n",
       "      <td>0.260000</td>\n",
       "      <td>0.244444</td>\n",
       "      <td>0.573043</td>\n",
       "    </tr>\n",
       "    <tr>\n",
       "      <th>Latin America &amp; Caribbean</th>\n",
       "      <td>0.638095</td>\n",
       "      <td>0.213793</td>\n",
       "      <td>0.305714</td>\n",
       "      <td>0.000000</td>\n",
       "      <td>0.214286</td>\n",
       "      <td>0.515873</td>\n",
       "      <td>0.325466</td>\n",
       "    </tr>\n",
       "    <tr>\n",
       "      <th>South Asia</th>\n",
       "      <td>0.541667</td>\n",
       "      <td>0.344828</td>\n",
       "      <td>0.260000</td>\n",
       "      <td>0.214286</td>\n",
       "      <td>0.000000</td>\n",
       "      <td>0.444444</td>\n",
       "      <td>0.489130</td>\n",
       "    </tr>\n",
       "    <tr>\n",
       "      <th>Middle East &amp; North Africa</th>\n",
       "      <td>0.666667</td>\n",
       "      <td>0.496169</td>\n",
       "      <td>0.244444</td>\n",
       "      <td>0.515873</td>\n",
       "      <td>0.444444</td>\n",
       "      <td>0.000000</td>\n",
       "      <td>0.792271</td>\n",
       "    </tr>\n",
       "    <tr>\n",
       "      <th>Sub-Saharan Africa</th>\n",
       "      <td>0.666667</td>\n",
       "      <td>0.370315</td>\n",
       "      <td>0.573043</td>\n",
       "      <td>0.325466</td>\n",
       "      <td>0.489130</td>\n",
       "      <td>0.792271</td>\n",
       "      <td>0.000000</td>\n",
       "    </tr>\n",
       "  </tbody>\n",
       "</table>\n",
       "</div>"
      ],
      "text/plain": [
       "                            North America  East Asia & Pacific  \\\n",
       "North America                    0.000000             0.597701   \n",
       "East Asia & Pacific              0.597701             0.000000   \n",
       "Europe & Central Asia            0.566667             0.379310   \n",
       "Latin America & Caribbean        0.638095             0.213793   \n",
       "South Asia                       0.541667             0.344828   \n",
       "Middle East & North Africa       0.666667             0.496169   \n",
       "Sub-Saharan Africa               0.666667             0.370315   \n",
       "\n",
       "                            Europe & Central Asia  Latin America & Caribbean  \\\n",
       "North America                            0.566667                   0.638095   \n",
       "East Asia & Pacific                      0.379310                   0.213793   \n",
       "Europe & Central Asia                    0.000000                   0.305714   \n",
       "Latin America & Caribbean                0.305714                   0.000000   \n",
       "South Asia                               0.260000                   0.214286   \n",
       "Middle East & North Africa               0.244444                   0.515873   \n",
       "Sub-Saharan Africa                       0.573043                   0.325466   \n",
       "\n",
       "                            South Asia  Middle East & North Africa  \\\n",
       "North America                 0.541667                    0.666667   \n",
       "East Asia & Pacific           0.344828                    0.496169   \n",
       "Europe & Central Asia         0.260000                    0.244444   \n",
       "Latin America & Caribbean     0.214286                    0.515873   \n",
       "South Asia                    0.000000                    0.444444   \n",
       "Middle East & North Africa    0.444444                    0.000000   \n",
       "Sub-Saharan Africa            0.489130                    0.792271   \n",
       "\n",
       "                            Sub-Saharan Africa  \n",
       "North America                         0.666667  \n",
       "East Asia & Pacific                   0.370315  \n",
       "Europe & Central Asia                 0.573043  \n",
       "Latin America & Caribbean             0.325466  \n",
       "South Asia                            0.489130  \n",
       "Middle East & North Africa            0.792271  \n",
       "Sub-Saharan Africa                    0.000000  "
      ]
     },
     "execution_count": 27,
     "metadata": {},
     "output_type": "execute_result"
    }
   ],
   "source": [
    "### Code Starts Here\n",
    "from scipy.stats import ks_2samp\n",
    "import numpy as np\n",
    "\n",
    "regions = Country_GDP[\"Region\"].unique()\n",
    "arr = np.array(regions)\n",
    "for i in range(len(regions)):\n",
    "    regions[i] = Country_GDP.loc[Country_GDP['Region']==regions[i]].GDP\n",
    "\n",
    "ksTest = list()\n",
    "pVals = list()\n",
    "for i in range(len(regions)):\n",
    "    for j in range(len(regions)):\n",
    "        result = ks_2samp(regions[i],regions[j])\n",
    "        ksTest.append(result[0])\n",
    "        pVals.append(result[1])\n",
    "        \n",
    "ksTest = np.reshape(ksTest,(7,7))\n",
    "pVals = np.reshape(pVals,(7,7))\n",
    "\n",
    "ks = pd.DataFrame(ksTest,columns=arr,index=arr)\n",
    "pvalues = pd.DataFrame(pVals,columns=arr,index=arr)\n",
    "ks"
   ]
  },
  {
   "cell_type": "markdown",
   "metadata": {},
   "source": [
    "I started by grabbing each unique value from the 'Region' column and storing them into regions. As a side note, I also grabbed an array version of regions to use for the columns and index of the table. \n",
    "\n",
    "Then I grabbed the GDPs of all the countries that had the Region that matched region[i], and stored those GDPs as a list within region[i], overwriting the old value that was the name of the region. I did this for every valid region, and then created a double for-loop to run every pair of regions through ks_2samp. I stored the results of each ks_2samp call in the 'ksTest' and 'pVals' lists, storing the ks statistic and p-values accordingly.\n",
    "\n",
    "Then I reshaped the lists into 7x7 tables and displayed them above and below with the labels coming from the array version I grabbed earlier."
   ]
  },
  {
   "cell_type": "code",
   "execution_count": 28,
   "metadata": {},
   "outputs": [
    {
     "data": {
      "text/html": [
       "<div>\n",
       "<style scoped>\n",
       "    .dataframe tbody tr th:only-of-type {\n",
       "        vertical-align: middle;\n",
       "    }\n",
       "\n",
       "    .dataframe tbody tr th {\n",
       "        vertical-align: top;\n",
       "    }\n",
       "\n",
       "    .dataframe thead th {\n",
       "        text-align: right;\n",
       "    }\n",
       "</style>\n",
       "<table border=\"1\" class=\"dataframe\">\n",
       "  <thead>\n",
       "    <tr style=\"text-align: right;\">\n",
       "      <th></th>\n",
       "      <th>North America</th>\n",
       "      <th>East Asia &amp; Pacific</th>\n",
       "      <th>Europe &amp; Central Asia</th>\n",
       "      <th>Latin America &amp; Caribbean</th>\n",
       "      <th>South Asia</th>\n",
       "      <th>Middle East &amp; North Africa</th>\n",
       "      <th>Sub-Saharan Africa</th>\n",
       "    </tr>\n",
       "  </thead>\n",
       "  <tbody>\n",
       "    <tr>\n",
       "      <th>North America</th>\n",
       "      <td>1.000000</td>\n",
       "      <td>0.190323</td>\n",
       "      <td>2.247930e-01</td>\n",
       "      <td>0.124229</td>\n",
       "      <td>0.424242</td>\n",
       "      <td>1.443609e-01</td>\n",
       "      <td>9.194529e-02</td>\n",
       "    </tr>\n",
       "    <tr>\n",
       "      <th>East Asia &amp; Pacific</th>\n",
       "      <td>0.190323</td>\n",
       "      <td>1.000000</td>\n",
       "      <td>6.763548e-03</td>\n",
       "      <td>0.396412</td>\n",
       "      <td>0.358175</td>\n",
       "      <td>4.786941e-03</td>\n",
       "      <td>1.055858e-02</td>\n",
       "    </tr>\n",
       "    <tr>\n",
       "      <th>Europe &amp; Central Asia</th>\n",
       "      <td>0.224793</td>\n",
       "      <td>0.006764</td>\n",
       "      <td>1.000000e+00</td>\n",
       "      <td>0.033283</td>\n",
       "      <td>0.646914</td>\n",
       "      <td>3.449642e-01</td>\n",
       "      <td>7.469277e-08</td>\n",
       "    </tr>\n",
       "    <tr>\n",
       "      <th>Latin America &amp; Caribbean</th>\n",
       "      <td>0.124229</td>\n",
       "      <td>0.396412</td>\n",
       "      <td>3.328327e-02</td>\n",
       "      <td>1.000000</td>\n",
       "      <td>0.865937</td>\n",
       "      <td>2.319415e-03</td>\n",
       "      <td>2.186826e-02</td>\n",
       "    </tr>\n",
       "    <tr>\n",
       "      <th>South Asia</th>\n",
       "      <td>0.424242</td>\n",
       "      <td>0.358175</td>\n",
       "      <td>6.469144e-01</td>\n",
       "      <td>0.865937</td>\n",
       "      <td>1.000000</td>\n",
       "      <td>1.710646e-01</td>\n",
       "      <td>5.121757e-02</td>\n",
       "    </tr>\n",
       "    <tr>\n",
       "      <th>Middle East &amp; North Africa</th>\n",
       "      <td>0.144361</td>\n",
       "      <td>0.004787</td>\n",
       "      <td>3.449642e-01</td>\n",
       "      <td>0.002319</td>\n",
       "      <td>0.171065</td>\n",
       "      <td>1.000000e+00</td>\n",
       "      <td>1.191943e-08</td>\n",
       "    </tr>\n",
       "    <tr>\n",
       "      <th>Sub-Saharan Africa</th>\n",
       "      <td>0.091945</td>\n",
       "      <td>0.010559</td>\n",
       "      <td>7.469277e-08</td>\n",
       "      <td>0.021868</td>\n",
       "      <td>0.051218</td>\n",
       "      <td>1.191943e-08</td>\n",
       "      <td>1.000000e+00</td>\n",
       "    </tr>\n",
       "  </tbody>\n",
       "</table>\n",
       "</div>"
      ],
      "text/plain": [
       "                            North America  East Asia & Pacific  \\\n",
       "North America                    1.000000             0.190323   \n",
       "East Asia & Pacific              0.190323             1.000000   \n",
       "Europe & Central Asia            0.224793             0.006764   \n",
       "Latin America & Caribbean        0.124229             0.396412   \n",
       "South Asia                       0.424242             0.358175   \n",
       "Middle East & North Africa       0.144361             0.004787   \n",
       "Sub-Saharan Africa               0.091945             0.010559   \n",
       "\n",
       "                            Europe & Central Asia  Latin America & Caribbean  \\\n",
       "North America                        2.247930e-01                   0.124229   \n",
       "East Asia & Pacific                  6.763548e-03                   0.396412   \n",
       "Europe & Central Asia                1.000000e+00                   0.033283   \n",
       "Latin America & Caribbean            3.328327e-02                   1.000000   \n",
       "South Asia                           6.469144e-01                   0.865937   \n",
       "Middle East & North Africa           3.449642e-01                   0.002319   \n",
       "Sub-Saharan Africa                   7.469277e-08                   0.021868   \n",
       "\n",
       "                            South Asia  Middle East & North Africa  \\\n",
       "North America                 0.424242                1.443609e-01   \n",
       "East Asia & Pacific           0.358175                4.786941e-03   \n",
       "Europe & Central Asia         0.646914                3.449642e-01   \n",
       "Latin America & Caribbean     0.865937                2.319415e-03   \n",
       "South Asia                    1.000000                1.710646e-01   \n",
       "Middle East & North Africa    0.171065                1.000000e+00   \n",
       "Sub-Saharan Africa            0.051218                1.191943e-08   \n",
       "\n",
       "                            Sub-Saharan Africa  \n",
       "North America                     9.194529e-02  \n",
       "East Asia & Pacific               1.055858e-02  \n",
       "Europe & Central Asia             7.469277e-08  \n",
       "Latin America & Caribbean         2.186826e-02  \n",
       "South Asia                        5.121757e-02  \n",
       "Middle East & North Africa        1.191943e-08  \n",
       "Sub-Saharan Africa                1.000000e+00  "
      ]
     },
     "execution_count": 28,
     "metadata": {},
     "output_type": "execute_result"
    }
   ],
   "source": [
    "pvalues"
   ]
  },
  {
   "cell_type": "markdown",
   "metadata": {},
   "source": [
    "Here we can see the ks_2samp() of every country compared with every other country. Notice the table is symmetrical along the major diagonal as ks_2samp(A,B) returns the same result as ks_2samp(B,A).\n",
    "\n",
    "From our understanding of the ks_2samp test: If the KS statistic is small or the p-value is high, then we cannot reject the hypothesis that the distributions of the two samples are the same.\n",
    "\n",
    "This is consistent with our results of ks_2samp(A,A) as identical distributions yield a KS statistic equal to 0 and p-value equal to 1. Continuing this, some of the regions (that are not tested against themselves) that yield the most-similar distributions are: \n",
    "\n",
    "(Latin America & Carribean, South Asia) with a (ks,p-value) of (0.214286,0.865937), \n",
    "\n",
    "(South Asia, Europe & Central Asia) with a (ks,p-value) of (0.260000,0.646914),\n",
    "\n",
    "(Latin America & Carribean, East Asia & Pacific) with a (ks,p-value) of (0.213793,0.396412), and\n",
    "\n",
    "(Middle East & North Africa, Europe & Central Asia) with a (ks,p-value) of (0.244444,0.3449642)\n",
    "\n",
    "All of these matches contain relatively low ks values and relatively high p-values, meaning these matches have the most similar distributions out of the set.\n",
    "\n",
    "We should exercise caution with pairs including North America. Since NA has a very small sample size, the p-values may tend to be higher even when the ks statistic is not be especially low, meaning the distributions may not be very similar but we might not have enough information to reject the hypothesis that the distributions of the two samples are the same.\n"
   ]
  },
  {
   "cell_type": "markdown",
   "metadata": {},
   "source": [
    "4-e: Sort the data frame in descending order by GDP rank. What is the 13th country in the resulting data frame? (Note: GDP formats as 123,456,789.) [5 pts]"
   ]
  },
  {
   "cell_type": "code",
   "execution_count": 29,
   "metadata": {
    "scrolled": true
   },
   "outputs": [
    {
     "data": {
      "text/html": [
       "<div>\n",
       "<style scoped>\n",
       "    .dataframe tbody tr th:only-of-type {\n",
       "        vertical-align: middle;\n",
       "    }\n",
       "\n",
       "    .dataframe tbody tr th {\n",
       "        vertical-align: top;\n",
       "    }\n",
       "\n",
       "    .dataframe thead th {\n",
       "        text-align: right;\n",
       "    }\n",
       "</style>\n",
       "<table border=\"1\" class=\"dataframe\">\n",
       "  <thead>\n",
       "    <tr style=\"text-align: right;\">\n",
       "      <th></th>\n",
       "      <th>CountryCode</th>\n",
       "      <th>Rank</th>\n",
       "      <th>CountryName</th>\n",
       "      <th>GDP</th>\n",
       "      <th>Long Name</th>\n",
       "      <th>Income Group</th>\n",
       "      <th>Region</th>\n",
       "      <th>Lending category</th>\n",
       "      <th>Other groups</th>\n",
       "      <th>Currency Unit</th>\n",
       "      <th>...</th>\n",
       "      <th>Source of most recent Income and expenditure data</th>\n",
       "      <th>Vital registration complete</th>\n",
       "      <th>Latest agricultural census</th>\n",
       "      <th>Latest industrial data</th>\n",
       "      <th>Latest trade data</th>\n",
       "      <th>Latest water withdrawal data</th>\n",
       "      <th>2-alpha code</th>\n",
       "      <th>WB-2 code</th>\n",
       "      <th>Table Name</th>\n",
       "      <th>Short Name</th>\n",
       "    </tr>\n",
       "  </thead>\n",
       "  <tbody>\n",
       "    <tr>\n",
       "      <th>176</th>\n",
       "      <td>GRD</td>\n",
       "      <td>178</td>\n",
       "      <td>Grenada</td>\n",
       "      <td>767</td>\n",
       "      <td>Grenada</td>\n",
       "      <td>Upper middle income</td>\n",
       "      <td>Latin America &amp; Caribbean</td>\n",
       "      <td>Blend</td>\n",
       "      <td>NaN</td>\n",
       "      <td>East Caribbean dollar</td>\n",
       "      <td>...</td>\n",
       "      <td>NaN</td>\n",
       "      <td>NaN</td>\n",
       "      <td>NaN</td>\n",
       "      <td>NaN</td>\n",
       "      <td>2008.0</td>\n",
       "      <td>NaN</td>\n",
       "      <td>GD</td>\n",
       "      <td>GD</td>\n",
       "      <td>Grenada</td>\n",
       "      <td>Grenada</td>\n",
       "    </tr>\n",
       "  </tbody>\n",
       "</table>\n",
       "<p>1 rows × 34 columns</p>\n",
       "</div>"
      ],
      "text/plain": [
       "    CountryCode  Rank CountryName  GDP Long Name         Income Group  \\\n",
       "176         GRD   178     Grenada  767   Grenada  Upper middle income   \n",
       "\n",
       "                        Region Lending category Other groups  \\\n",
       "176  Latin America & Caribbean            Blend          NaN   \n",
       "\n",
       "             Currency Unit  ...  \\\n",
       "176  East Caribbean dollar  ...   \n",
       "\n",
       "    Source of most recent Income and expenditure data  \\\n",
       "176                                               NaN   \n",
       "\n",
       "    Vital registration complete Latest agricultural census  \\\n",
       "176                         NaN                        NaN   \n",
       "\n",
       "    Latest industrial data  Latest trade data  Latest water withdrawal data  \\\n",
       "176                    NaN             2008.0                           NaN   \n",
       "\n",
       "    2-alpha code WB-2 code  Table Name Short Name  \n",
       "176           GD        GD     Grenada    Grenada  \n",
       "\n",
       "[1 rows x 34 columns]"
      ]
     },
     "execution_count": 29,
     "metadata": {},
     "output_type": "execute_result"
    }
   ],
   "source": [
    "### Code Starts Here\n",
    "rev_rank = Country_GDP.sort_values(by='Rank',ascending=False)\n",
    "rev_rank.iloc[[12]]"
   ]
  },
  {
   "cell_type": "markdown",
   "metadata": {},
   "source": [
    "The 13th country sorted by descending order GDP rank in Country_GDP is Grenada.\n",
    "\n",
    "I found this by first sorting the countries in Country_GDP in descending order by GDP rank. Then I used iloc to find the 13th country in the list (since [0] corresponds to the first country, [12] corresponds to the 13th), and printed it out to show Grenada.\n"
   ]
  },
  {
   "cell_type": "markdown",
   "metadata": {},
   "source": [
    "4-f: Use `groupby()` and `agg()` to find the average and standard deviation of GDP by `income group`. [5 pts]"
   ]
  },
  {
   "cell_type": "code",
   "execution_count": 30,
   "metadata": {},
   "outputs": [
    {
     "data": {
      "text/html": [
       "<div>\n",
       "<style scoped>\n",
       "    .dataframe tbody tr th:only-of-type {\n",
       "        vertical-align: middle;\n",
       "    }\n",
       "\n",
       "    .dataframe tbody tr th {\n",
       "        vertical-align: top;\n",
       "    }\n",
       "\n",
       "    .dataframe thead th {\n",
       "        text-align: right;\n",
       "    }\n",
       "</style>\n",
       "<table border=\"1\" class=\"dataframe\">\n",
       "  <thead>\n",
       "    <tr style=\"text-align: right;\">\n",
       "      <th></th>\n",
       "      <th>mean</th>\n",
       "      <th>std</th>\n",
       "    </tr>\n",
       "    <tr>\n",
       "      <th>Income Group</th>\n",
       "      <th></th>\n",
       "      <th></th>\n",
       "    </tr>\n",
       "  </thead>\n",
       "  <tbody>\n",
       "    <tr>\n",
       "      <th>High income: OECD</th>\n",
       "      <td>1.483917e+06</td>\n",
       "      <td>3.070464e+06</td>\n",
       "    </tr>\n",
       "    <tr>\n",
       "      <th>High income: nonOECD</th>\n",
       "      <td>1.043498e+05</td>\n",
       "      <td>1.653344e+05</td>\n",
       "    </tr>\n",
       "    <tr>\n",
       "      <th>Low income</th>\n",
       "      <td>1.441078e+04</td>\n",
       "      <td>2.047309e+04</td>\n",
       "    </tr>\n",
       "    <tr>\n",
       "      <th>Lower middle income</th>\n",
       "      <td>2.566635e+05</td>\n",
       "      <td>1.139620e+06</td>\n",
       "    </tr>\n",
       "    <tr>\n",
       "      <th>Upper middle income</th>\n",
       "      <td>2.318478e+05</td>\n",
       "      <td>4.768720e+05</td>\n",
       "    </tr>\n",
       "  </tbody>\n",
       "</table>\n",
       "</div>"
      ],
      "text/plain": [
       "                              mean           std\n",
       "Income Group                                    \n",
       "High income: OECD     1.483917e+06  3.070464e+06\n",
       "High income: nonOECD  1.043498e+05  1.653344e+05\n",
       "Low income            1.441078e+04  2.047309e+04\n",
       "Lower middle income   2.566635e+05  1.139620e+06\n",
       "Upper middle income   2.318478e+05  4.768720e+05"
      ]
     },
     "execution_count": 30,
     "metadata": {},
     "output_type": "execute_result"
    }
   ],
   "source": [
    "### Code Starts Here\n",
    "Country_GDP.groupby('Income Group')['GDP'].agg([pd.DataFrame.mean,pd.DataFrame.std])"
   ]
  },
  {
   "cell_type": "markdown",
   "metadata": {},
   "source": [
    "I used groupby() to sort the countries by their income group, then I grabbed the GDPs of each country as a list and performed mean() and std() to find the average and standard deviation of GDP for each income group."
   ]
  }
 ],
 "metadata": {
  "kernelspec": {
   "display_name": "Python 3",
   "language": "python",
   "name": "python3"
  },
  "language_info": {
   "codemirror_mode": {
    "name": "ipython",
    "version": 3
   },
   "file_extension": ".py",
   "mimetype": "text/x-python",
   "name": "python",
   "nbconvert_exporter": "python",
   "pygments_lexer": "ipython3",
   "version": "3.8.8"
  }
 },
 "nbformat": 4,
 "nbformat_minor": 4
}
