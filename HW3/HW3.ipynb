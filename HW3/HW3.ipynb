{
 "cells": [
  {
   "cell_type": "markdown",
   "id": "virgin-mission",
   "metadata": {},
   "source": [
    "# <center> CS559 Homework#3: heart attack prediction classifiers</center>\n",
    "## <center> Due: 8/6/2021 Friday at 11:59 PM</center>\n",
    "\n",
    "In this assignment, you are going to implement four classifiers - **decision tree, random forest, adaboost, and gradient boost** - to predict the risk of heart attack. \n",
    "For each implementation, \n",
    "- no limits on pre-processing and EDA. \n",
    "- do not use any outside references - only the lecture note is allowed. \n",
    "- must test the accuracy of your algorithm and compare with the built-in classifiers. \n",
    "- must evaluate your implementations. \n",
    "\n",
    "Here are data attributes:\n",
    "- Age : Age of the patient\n",
    "- Sex : Sex of the patient\n",
    "- exang: exercise induced angina (1 = yes; 0 = no)\n",
    "- ca: number of major vessels (0-3)\n",
    "- cp : Chest Pain type chest pain type\n",
    "    - Value 1: typical angina\n",
    "    - Value 2: atypical angina\n",
    "    - Value 3: non-anginal pain\n",
    "    - Value 4: asymptomatic\n",
    "- trtbps : resting blood pressure (in mm Hg)\n",
    "- chol : cholestoral in mg/dl fetched via BMI sensor\n",
    "- fbs : (fasting blood sugar > 120 mg/dl) (1 = true; 0 = false)\n",
    "- restecg : resting electrocardiographic results\n",
    "    - Value 0: normal\n",
    "    - Value 1: having ST-T wave abnormality (T wave inversions and/or ST elevation or depression of > 0.05 mV)\n",
    "    - Value 2: showing probable or definite left ventricular hypertrophy by Estes' criteria\n",
    "- thalach : maximum heart rate achieved\n",
    "- output : 0= less chance of heart attack 1= more chance of heart attack"
   ]
  },
  {
   "cell_type": "code",
   "execution_count": 1,
   "id": "amber-company",
   "metadata": {},
   "outputs": [],
   "source": [
    "import numpy as np\n",
    "import pandas as pd\n",
    "import matplotlib.pyplot as plt\n",
    "import seaborn as sns\n",
    "from sklearn.model_selection import train_test_split \n",
    "from sklearn.preprocessing import StandardScaler, MinMaxScaler\n",
    "from sklearn.tree import DecisionTreeClassifier\n",
    "from sklearn.tree import DecisionTreeRegressor\n",
    "from sklearn.ensemble import RandomForestClassifier\n",
    "from sklearn.ensemble import AdaBoostClassifier\n",
    "from sklearn.ensemble import GradientBoostingClassifier\n",
    "from sklearn.metrics import accuracy_score,classification_report\n",
    "from sklearn.metrics import confusion_matrix\n",
    "from sklearn import tree as tr\n",
    "import math\n",
    "import random as rd\n",
    "import warnings\n",
    "warnings.filterwarnings(\"ignore\")"
   ]
  },
  {
   "cell_type": "code",
   "execution_count": 2,
   "id": "turkish-joyce",
   "metadata": {},
   "outputs": [],
   "source": [
    "heart = pd.read_csv('heart.csv')"
   ]
  },
  {
   "cell_type": "code",
   "execution_count": 3,
   "id": "robust-mystery",
   "metadata": {
    "scrolled": true
   },
   "outputs": [
    {
     "data": {
      "text/html": [
       "<div>\n",
       "<style scoped>\n",
       "    .dataframe tbody tr th:only-of-type {\n",
       "        vertical-align: middle;\n",
       "    }\n",
       "\n",
       "    .dataframe tbody tr th {\n",
       "        vertical-align: top;\n",
       "    }\n",
       "\n",
       "    .dataframe thead th {\n",
       "        text-align: right;\n",
       "    }\n",
       "</style>\n",
       "<table border=\"1\" class=\"dataframe\">\n",
       "  <thead>\n",
       "    <tr style=\"text-align: right;\">\n",
       "      <th></th>\n",
       "      <th>age</th>\n",
       "      <th>sex</th>\n",
       "      <th>cp</th>\n",
       "      <th>trtbps</th>\n",
       "      <th>chol</th>\n",
       "      <th>fbs</th>\n",
       "      <th>restecg</th>\n",
       "      <th>thalachh</th>\n",
       "      <th>exng</th>\n",
       "      <th>oldpeak</th>\n",
       "      <th>slp</th>\n",
       "      <th>caa</th>\n",
       "      <th>thall</th>\n",
       "      <th>output</th>\n",
       "    </tr>\n",
       "  </thead>\n",
       "  <tbody>\n",
       "    <tr>\n",
       "      <th>0</th>\n",
       "      <td>63</td>\n",
       "      <td>1</td>\n",
       "      <td>3</td>\n",
       "      <td>145</td>\n",
       "      <td>233</td>\n",
       "      <td>1</td>\n",
       "      <td>0</td>\n",
       "      <td>150</td>\n",
       "      <td>0</td>\n",
       "      <td>2.3</td>\n",
       "      <td>0</td>\n",
       "      <td>0</td>\n",
       "      <td>1</td>\n",
       "      <td>1</td>\n",
       "    </tr>\n",
       "    <tr>\n",
       "      <th>1</th>\n",
       "      <td>37</td>\n",
       "      <td>1</td>\n",
       "      <td>2</td>\n",
       "      <td>130</td>\n",
       "      <td>250</td>\n",
       "      <td>0</td>\n",
       "      <td>1</td>\n",
       "      <td>187</td>\n",
       "      <td>0</td>\n",
       "      <td>3.5</td>\n",
       "      <td>0</td>\n",
       "      <td>0</td>\n",
       "      <td>2</td>\n",
       "      <td>1</td>\n",
       "    </tr>\n",
       "    <tr>\n",
       "      <th>2</th>\n",
       "      <td>41</td>\n",
       "      <td>0</td>\n",
       "      <td>1</td>\n",
       "      <td>130</td>\n",
       "      <td>204</td>\n",
       "      <td>0</td>\n",
       "      <td>0</td>\n",
       "      <td>172</td>\n",
       "      <td>0</td>\n",
       "      <td>1.4</td>\n",
       "      <td>2</td>\n",
       "      <td>0</td>\n",
       "      <td>2</td>\n",
       "      <td>1</td>\n",
       "    </tr>\n",
       "    <tr>\n",
       "      <th>3</th>\n",
       "      <td>56</td>\n",
       "      <td>1</td>\n",
       "      <td>1</td>\n",
       "      <td>120</td>\n",
       "      <td>236</td>\n",
       "      <td>0</td>\n",
       "      <td>1</td>\n",
       "      <td>178</td>\n",
       "      <td>0</td>\n",
       "      <td>0.8</td>\n",
       "      <td>2</td>\n",
       "      <td>0</td>\n",
       "      <td>2</td>\n",
       "      <td>1</td>\n",
       "    </tr>\n",
       "    <tr>\n",
       "      <th>4</th>\n",
       "      <td>57</td>\n",
       "      <td>0</td>\n",
       "      <td>0</td>\n",
       "      <td>120</td>\n",
       "      <td>354</td>\n",
       "      <td>0</td>\n",
       "      <td>1</td>\n",
       "      <td>163</td>\n",
       "      <td>1</td>\n",
       "      <td>0.6</td>\n",
       "      <td>2</td>\n",
       "      <td>0</td>\n",
       "      <td>2</td>\n",
       "      <td>1</td>\n",
       "    </tr>\n",
       "    <tr>\n",
       "      <th>...</th>\n",
       "      <td>...</td>\n",
       "      <td>...</td>\n",
       "      <td>...</td>\n",
       "      <td>...</td>\n",
       "      <td>...</td>\n",
       "      <td>...</td>\n",
       "      <td>...</td>\n",
       "      <td>...</td>\n",
       "      <td>...</td>\n",
       "      <td>...</td>\n",
       "      <td>...</td>\n",
       "      <td>...</td>\n",
       "      <td>...</td>\n",
       "      <td>...</td>\n",
       "    </tr>\n",
       "    <tr>\n",
       "      <th>298</th>\n",
       "      <td>57</td>\n",
       "      <td>0</td>\n",
       "      <td>0</td>\n",
       "      <td>140</td>\n",
       "      <td>241</td>\n",
       "      <td>0</td>\n",
       "      <td>1</td>\n",
       "      <td>123</td>\n",
       "      <td>1</td>\n",
       "      <td>0.2</td>\n",
       "      <td>1</td>\n",
       "      <td>0</td>\n",
       "      <td>3</td>\n",
       "      <td>0</td>\n",
       "    </tr>\n",
       "    <tr>\n",
       "      <th>299</th>\n",
       "      <td>45</td>\n",
       "      <td>1</td>\n",
       "      <td>3</td>\n",
       "      <td>110</td>\n",
       "      <td>264</td>\n",
       "      <td>0</td>\n",
       "      <td>1</td>\n",
       "      <td>132</td>\n",
       "      <td>0</td>\n",
       "      <td>1.2</td>\n",
       "      <td>1</td>\n",
       "      <td>0</td>\n",
       "      <td>3</td>\n",
       "      <td>0</td>\n",
       "    </tr>\n",
       "    <tr>\n",
       "      <th>300</th>\n",
       "      <td>68</td>\n",
       "      <td>1</td>\n",
       "      <td>0</td>\n",
       "      <td>144</td>\n",
       "      <td>193</td>\n",
       "      <td>1</td>\n",
       "      <td>1</td>\n",
       "      <td>141</td>\n",
       "      <td>0</td>\n",
       "      <td>3.4</td>\n",
       "      <td>1</td>\n",
       "      <td>2</td>\n",
       "      <td>3</td>\n",
       "      <td>0</td>\n",
       "    </tr>\n",
       "    <tr>\n",
       "      <th>301</th>\n",
       "      <td>57</td>\n",
       "      <td>1</td>\n",
       "      <td>0</td>\n",
       "      <td>130</td>\n",
       "      <td>131</td>\n",
       "      <td>0</td>\n",
       "      <td>1</td>\n",
       "      <td>115</td>\n",
       "      <td>1</td>\n",
       "      <td>1.2</td>\n",
       "      <td>1</td>\n",
       "      <td>1</td>\n",
       "      <td>3</td>\n",
       "      <td>0</td>\n",
       "    </tr>\n",
       "    <tr>\n",
       "      <th>302</th>\n",
       "      <td>57</td>\n",
       "      <td>0</td>\n",
       "      <td>1</td>\n",
       "      <td>130</td>\n",
       "      <td>236</td>\n",
       "      <td>0</td>\n",
       "      <td>0</td>\n",
       "      <td>174</td>\n",
       "      <td>0</td>\n",
       "      <td>0.0</td>\n",
       "      <td>1</td>\n",
       "      <td>1</td>\n",
       "      <td>2</td>\n",
       "      <td>0</td>\n",
       "    </tr>\n",
       "  </tbody>\n",
       "</table>\n",
       "<p>303 rows × 14 columns</p>\n",
       "</div>"
      ],
      "text/plain": [
       "     age  sex  cp  trtbps  chol  fbs  restecg  thalachh  exng  oldpeak  slp  \\\n",
       "0     63    1   3     145   233    1        0       150     0      2.3    0   \n",
       "1     37    1   2     130   250    0        1       187     0      3.5    0   \n",
       "2     41    0   1     130   204    0        0       172     0      1.4    2   \n",
       "3     56    1   1     120   236    0        1       178     0      0.8    2   \n",
       "4     57    0   0     120   354    0        1       163     1      0.6    2   \n",
       "..   ...  ...  ..     ...   ...  ...      ...       ...   ...      ...  ...   \n",
       "298   57    0   0     140   241    0        1       123     1      0.2    1   \n",
       "299   45    1   3     110   264    0        1       132     0      1.2    1   \n",
       "300   68    1   0     144   193    1        1       141     0      3.4    1   \n",
       "301   57    1   0     130   131    0        1       115     1      1.2    1   \n",
       "302   57    0   1     130   236    0        0       174     0      0.0    1   \n",
       "\n",
       "     caa  thall  output  \n",
       "0      0      1       1  \n",
       "1      0      2       1  \n",
       "2      0      2       1  \n",
       "3      0      2       1  \n",
       "4      0      2       1  \n",
       "..   ...    ...     ...  \n",
       "298    0      3       0  \n",
       "299    0      3       0  \n",
       "300    2      3       0  \n",
       "301    1      3       0  \n",
       "302    1      2       0  \n",
       "\n",
       "[303 rows x 14 columns]"
      ]
     },
     "execution_count": 3,
     "metadata": {},
     "output_type": "execute_result"
    }
   ],
   "source": [
    "heart"
   ]
  },
  {
   "cell_type": "markdown",
   "id": "developing-recall",
   "metadata": {},
   "source": [
    "### Question 0: EDA and Pre-processing (10 pts)\n",
    "The EDA and Pre-processing are not limitted however, you must\n",
    "1. check if the data is **balanced** or not. \n",
    "2. check if features are **skewed** or not.\n",
    "3. check outliers. \n",
    "\n",
    "For any finds from 1 to 3, please handle the data carefully. Exaplin your workflow and perform accordingly. If any interesting facts are learned, please state them. "
   ]
  },
  {
   "cell_type": "code",
   "execution_count": 4,
   "id": "a19efb91",
   "metadata": {
    "scrolled": true
   },
   "outputs": [
    {
     "data": {
      "text/plain": [
       "age           int64\n",
       "sex           int64\n",
       "cp            int64\n",
       "trtbps        int64\n",
       "chol          int64\n",
       "fbs           int64\n",
       "restecg       int64\n",
       "thalachh      int64\n",
       "exng          int64\n",
       "oldpeak     float64\n",
       "slp           int64\n",
       "caa           int64\n",
       "thall         int64\n",
       "output        int64\n",
       "dtype: object"
      ]
     },
     "execution_count": 4,
     "metadata": {},
     "output_type": "execute_result"
    }
   ],
   "source": [
    "heart.dtypes"
   ]
  },
  {
   "cell_type": "code",
   "execution_count": 5,
   "id": "713cf40e",
   "metadata": {
    "scrolled": true
   },
   "outputs": [
    {
     "data": {
      "text/plain": [
       "age         0.0\n",
       "sex         0.0\n",
       "cp          0.0\n",
       "trtbps      0.0\n",
       "chol        0.0\n",
       "fbs         0.0\n",
       "restecg     0.0\n",
       "thalachh    0.0\n",
       "exng        0.0\n",
       "oldpeak     0.0\n",
       "slp         0.0\n",
       "caa         0.0\n",
       "thall       0.0\n",
       "output      0.0\n",
       "dtype: float64"
      ]
     },
     "execution_count": 5,
     "metadata": {},
     "output_type": "execute_result"
    }
   ],
   "source": [
    "heart.isnull().sum() / heart.shape[0] * 100.00"
   ]
  },
  {
   "cell_type": "markdown",
   "id": "436c07ff",
   "metadata": {},
   "source": [
    "No missing values, no need to worry about imputing missing values."
   ]
  },
  {
   "cell_type": "code",
   "execution_count": 6,
   "id": "370459a8",
   "metadata": {
    "scrolled": true
   },
   "outputs": [
    {
     "name": "stdout",
     "output_type": "stream",
     "text": [
      "Output: 138 165\n",
      "Sex: 96 207\n",
      "CP: 143 50 87 23\n",
      "Chol: 85     564\n",
      "28     417\n",
      "246    409\n",
      "220    407\n",
      "Name: chol, dtype: int64\n",
      "FBS: 258 45\n",
      "RestECG: 147 152 4\n",
      "EXNG: 204 99\n",
      "OldPeak: 204    6.2\n",
      "221    5.6\n",
      "291    4.4\n",
      "101    4.2\n",
      "Name: oldpeak, dtype: float64\n",
      "CAA: 175 5\n",
      "THALL: 2 18 166 117\n"
     ]
    }
   ],
   "source": [
    "print(\"Output:\", (heart[\"output\"] == 0).sum(), (heart[\"output\"] == 1).sum())\n",
    "print(\"Sex:\", (heart[\"sex\"] == 0).sum(), (heart[\"sex\"] == 1).sum())\n",
    "print(\"CP:\", (heart[\"cp\"] == 0).sum(), (heart[\"cp\"] == 1).sum(), (heart[\"cp\"] == 2).sum(), (heart[\"cp\"] == 3).sum())\n",
    "print(\"Chol:\", heart[\"chol\"].nlargest(4))\n",
    "print(\"FBS:\", (heart[\"fbs\"] == 0).sum(), (heart[\"fbs\"] == 1).sum())\n",
    "print(\"RestECG:\", (heart[\"restecg\"] == 0).sum(), (heart[\"restecg\"] == 1).sum(), (heart[\"restecg\"] == 2).sum())\n",
    "print(\"EXNG:\", (heart[\"exng\"] == 0).sum(), (heart[\"exng\"] == 1).sum())\n",
    "print(\"OldPeak:\", heart[\"oldpeak\"].nlargest(4))\n",
    "print(\"CAA:\", (heart[\"caa\"] == 0).sum(), (heart[\"caa\"] == 4).sum())\n",
    "print(\"THALL:\", (heart[\"thall\"] == 0).sum(), (heart[\"thall\"] == 1).sum(),\n",
    "      (heart[\"thall\"] == 2).sum(), (heart[\"thall\"] == 3).sum())\n"
   ]
  },
  {
   "cell_type": "markdown",
   "id": "37a55a6f",
   "metadata": {},
   "source": [
    "\n",
    "**Age**: Age appears to be relatively symmetrically distributed with a tendency towards the high-50/low-60 age range.\n",
    "\\\n",
    "**Sex**: There appears to be over twice as many (207) patients marked as 1 (male) than there are (96) marked as 0 (female).\n",
    "\\\n",
    "**CP**: A majority (143) of the patients have typical angina, while only 23 are asymptomatic. 50 have atypical angina while 87 have non-anginal pains.\n",
    "\\\n",
    "**TRTBPS**: Resting blood pressure has a slight right skew with the majority of patients being recorded as around 130 mmHg.\n",
    "\\\n",
    "**Chol**: Cholesterol is relatively symmetrically distributed, however there is an extreme outlier with one patient having a recorded cholesterol of 564 mg/dl whereas the next highest patients have 417, 409, and 407 mg/dl cholesterol levels.\n",
    "\\\n",
    "**FBS**: A vast majority (258) of patients have a fasting blood pressure <= 120 mg/dl, while 45 have an fbs > 120 mg/dl.\n",
    "\\\n",
    "**RestECG**: There are approx. 150 patients with a value that indicates normal, and  approx. 150 having ST-T wave abnormality. However there are also 4 outlier patients showing probable or definite left ventricular hypertrophy by Estes' criteria. \n",
    "\\\n",
    "**THALACHH**: The max heart rate achieved shows a left-skewed distribution with a majority of the patients scoring just above 150 bpm.\n",
    "\\\n",
    "**EXNG**: Over double the patients (204) reported 0, indicating non-exercise induced angina, while 99 reported 1, indicating yes to having exercise induced angina.\n",
    "\\\n",
    "**OldPeak**: The old peak is clearly right skewed with the vast majority of patients having a recorded oldpeak less than 1, greater than 0. There are also two major outliers, one patient with a 5.6 recorded value, and one with a 6.2.\n",
    "\\\n",
    "**SLP**: Similarly to RestECG, there are two categories, 1 and 2, that most (approx. 140 each) of the patients fit into, while only about 20 patients have a recorded slp value of 0.\n",
    "\\\n",
    "**CAA**: CAA is clearly right skewed with 175 patients recording 0 major vessels, while only 5 are recorded with 4 major vessels.\n",
    "\\\n",
    "**THALL**: The thall values are left skewed, with a majority of patients (166) indicating a value of 2, 117 patients indicating a value of 3, 18 patients indicating a value of 1, and two patients indicating a value of 0.\n",
    "\\\n",
    "**Output**: The data appears to be **relatively balanced** as shown below with 138 patients marked with 0, indicating they have a smaller chance of heart attack, and 165 patients marked with 1, indicating they have a greater chance of heart attack."
   ]
  },
  {
   "cell_type": "code",
   "execution_count": 7,
   "id": "e7ab9394",
   "metadata": {
    "scrolled": true
   },
   "outputs": [
    {
     "data": {
      "image/png": "[encoded data removed]",
      "text/plain": [
       "<Figure size 1080x1296 with 16 Axes>"
      ]
     },
     "metadata": {
      "needs_background": "light"
     },
     "output_type": "display_data"
    }
   ],
   "source": [
    "hist = heart.hist(figsize=(15,18), color = 'black')"
   ]
  },
  {
   "cell_type": "markdown",
   "id": "diverse-glance",
   "metadata": {},
   "source": [
    "### Question 1: Decisition Tree Classifier\n",
    "- DT implementation (10 pts)\n",
    "- Classification using DecistionTreeClassifier (5 pts)\n",
    "- Evaluation (5 pts)"
   ]
  },
  {
   "cell_type": "code",
   "execution_count": 9,
   "id": "6b806cf7",
   "metadata": {},
   "outputs": [],
   "source": [
    "X = heart.values[:, 0:13]\n",
    "y = heart.values[:, 13]\n",
    "\n",
    "X_train, X_test, y_train, y_test = train_test_split(X, y, test_size = 0.25, random_state = 0)"
   ]
  },
  {
   "cell_type": "markdown",
   "id": "5aa4705f",
   "metadata": {},
   "source": [
    "- DT implementation (10 pts)"
   ]
  },
  {
   "cell_type": "markdown",
   "id": "d1df2ff3",
   "metadata": {},
   "source": [
    "Have a function for entropy and information gain. \n",
    "Use them to determine the best split. \n",
    "Then recursively do step 2 as you split. "
   ]
  },
  {
   "cell_type": "code",
   "execution_count": 10,
   "id": "dd6bb869",
   "metadata": {},
   "outputs": [],
   "source": [
    "# Calculate the gini index to determine the best candidate for splitting\n",
    "def giniIndex(groups, output):\n",
    "    gini = 0\n",
    "    # First go down split 0, then split 1\n",
    "    for group in groups:\n",
    "        if len(group) == 0:\n",
    "            continue\n",
    "        score = 0\n",
    "        for val in output:\n",
    "            p = [row[-1] for row in group].count(val) / len(group)\n",
    "            score += p * p\n",
    "        gini += (1-score) * (len(group) / heart.shape[0])\n",
    "    return gini"
   ]
  },
  {
   "cell_type": "code",
   "execution_count": 11,
   "id": "45ec8362",
   "metadata": {},
   "outputs": [],
   "source": [
    "test = heart.values"
   ]
  },
  {
   "cell_type": "code",
   "execution_count": 12,
   "id": "eff2647e",
   "metadata": {},
   "outputs": [],
   "source": [
    "def tsplit(index,split,column):\n",
    "    # Split data into two datasets (binary splits only)\n",
    "    split0, split1 = [], []\n",
    "    for row in column:\n",
    "        # Each side grows with values that fit their criteria\n",
    "        if row[index] < split:\n",
    "            split0.append(row)\n",
    "        else:\n",
    "            split1.append(row)\n",
    "    return split0, split1"
   ]
  },
  {
   "cell_type": "code",
   "execution_count": 13,
   "id": "a5edff66",
   "metadata": {},
   "outputs": [],
   "source": [
    "def bestSplit(data):\n",
    "    # Set high values to satisfy gini < bestScore on first iteration\n",
    "    bestIdx = 100\n",
    "    bestValue = 100\n",
    "    bestScore = 100\n",
    "    bestGroups = None\n",
    "    # All columns minus the target\n",
    "    for index in range(len(data[0])-1):\n",
    "        for row in data:\n",
    "            groups = tsplit(index, row[index], data)\n",
    "            gini = giniIndex(groups,data[:,13])\n",
    "            # if gini score is better than best so far, set new gini score\n",
    "            if gini < bestScore:\n",
    "                bestIdx = index\n",
    "                bestValue = row[index]\n",
    "                bestScore = gini\n",
    "                bestGroups = groups\n",
    "    return {'index':bestIdx, 'value':bestValue, 'groups':bestGroups}"
   ]
  },
  {
   "cell_type": "code",
   "execution_count": 14,
   "id": "e3d5d480",
   "metadata": {},
   "outputs": [],
   "source": [
    "# Will return the majority result of the output values it has left\n",
    "def leaf(group):\n",
    "    tally = [row[-1] for row in group]\n",
    "    uniques = set(tally)\n",
    "        #tally up the final row and pick the majority value\n",
    "    return max(uniques, key=tally.count)"
   ]
  },
  {
   "cell_type": "code",
   "execution_count": 15,
   "id": "a2e58bf3",
   "metadata": {},
   "outputs": [],
   "source": [
    "# Create child splits for a node or make terminal\n",
    "def branch(node, depth):\n",
    "    left, right = node['groups']\n",
    "    del(node['groups'])\n",
    "    \n",
    "    # check if one of the children is empty\n",
    "    if not left or not right:\n",
    "        node['left'] = node['right'] = leaf(left + right)\n",
    "        return\n",
    "    \n",
    "    # check for maximum depth level reached\n",
    "    if depth == 0:\n",
    "        node['left'], node['right'] = leaf(left), leaf(right)\n",
    "        return\n",
    "    \n",
    "    # if the group consists of 1 value or less\n",
    "    if len(left) <= 1:\n",
    "        # end the branch and make it a leaf\n",
    "        node['left'] = leaf(left)\n",
    "    else:\n",
    "        #else theres enough to continue splitting it\n",
    "        node['left'] = bestSplit(np.asarray(left))\n",
    "        branch(node['left'], depth-1)\n",
    "        \n",
    "    # do the same for the right child\n",
    "    if len(right) <= 1:\n",
    "        node['right'] = leaf(right)\n",
    "    else:\n",
    "        #continue splitting\n",
    "        node['right'] = bestSplit(np.asarray(right))\n",
    "        branch(node['right'], depth-1)"
   ]
  },
  {
   "cell_type": "code",
   "execution_count": 16,
   "id": "7a0329fc",
   "metadata": {},
   "outputs": [],
   "source": [
    "# Build the decision tree\n",
    "def buildTree(data,depth):\n",
    "    root = bestSplit(data)\n",
    "    branch(root, depth)\n",
    "    return root"
   ]
  },
  {
   "cell_type": "code",
   "execution_count": 17,
   "id": "b85f0a41",
   "metadata": {},
   "outputs": [],
   "source": [
    "# Make a prediction with a decision tree\n",
    "def predict(node, row):\n",
    "    # Traverse down tree\n",
    "    if row[node['index']] < node['value']:\n",
    "        # If we are at a parent node\n",
    "        if isinstance(node['left'], dict):\n",
    "            return predict(node['left'], row)\n",
    "        else:\n",
    "            #We've hit a terminal node\n",
    "            return node['left']\n",
    "    else:\n",
    "        # If we are at a parent node\n",
    "        if isinstance(node['right'], dict):\n",
    "            return predict(node['right'], row)\n",
    "        else:\n",
    "            #We've hit a terminal node\n",
    "            return node['right']"
   ]
  },
  {
   "cell_type": "code",
   "execution_count": 18,
   "id": "d61a76fa",
   "metadata": {
    "scrolled": true
   },
   "outputs": [],
   "source": [
    "#Build a tree with depth 2\n",
    "tree = buildTree(test, 2)"
   ]
  },
  {
   "cell_type": "code",
   "execution_count": 19,
   "id": "6550ec5c",
   "metadata": {},
   "outputs": [
    {
     "name": "stdout",
     "output_type": "stream",
     "text": [
      "DT Implementation Accuracy: 0.8448844884488449\n"
     ]
    }
   ],
   "source": [
    "#Get a count for the number of correct predictions\n",
    "count = 0\n",
    "for row in test:\n",
    "    prediction = predict(tree, row)\n",
    "    if row[-1] == prediction:\n",
    "        count+=1\n",
    "print(\"DT Implementation Accuracy:\", count/303)"
   ]
  },
  {
   "cell_type": "markdown",
   "id": "c53eabd1",
   "metadata": {},
   "source": [
    "- Classification using DecistionTreeClassifier (5 pts)"
   ]
  },
  {
   "cell_type": "code",
   "execution_count": 20,
   "id": "35804612",
   "metadata": {},
   "outputs": [
    {
     "name": "stdout",
     "output_type": "stream",
     "text": [
      "DT Accuracy: 0.7894736842105263\n"
     ]
    }
   ],
   "source": [
    "# Decision Tree\n",
    "dt = DecisionTreeClassifier()\n",
    "\n",
    "# fit the model\n",
    "dt.fit(X_train, y_train)\n",
    "\n",
    "# make predictions\n",
    "y_pred = dt.predict(X_test)\n",
    "\n",
    "# printing the test accuracy\n",
    "DTAccuracy = accuracy_score(y_test, y_pred)\n",
    "print(\"DT Accuracy:\", DTAccuracy)"
   ]
  },
  {
   "cell_type": "markdown",
   "id": "5a4c71eb",
   "metadata": {},
   "source": [
    "- Evaluation (5 pts)"
   ]
  },
  {
   "cell_type": "markdown",
   "id": "c9f6b459",
   "metadata": {},
   "source": [
    "Although varying, the DT implementation and the built in Decision Tree Classifier both produce roughly equivalent accuracy rates. Both the DT implementation and built-in functions average about 0.80 accuracy, which is much greater than the Zero Rule's accuracy of picking the most popular output, which would be 0.54. I built my tree at depth = 2, though at higher depths, such as at depth = 4, the decision tree's accuracy tends upwards to about a 0.92+ accuracy. As the tree reaches higher depths, it will be much more subject to overfitting, and will likely give worse output accuracies when introduced to new data."
   ]
  },
  {
   "cell_type": "markdown",
   "id": "oriental-assessment",
   "metadata": {},
   "source": [
    "### Question 2: Random Forest Classifier\n",
    "- RF implementation (10 pts)\n",
    "- Classification using RandomForestClassifier (5 pts)\n",
    "- Evaluation (5 pts)"
   ]
  },
  {
   "cell_type": "code",
   "execution_count": 21,
   "id": "e54310db",
   "metadata": {},
   "outputs": [],
   "source": [
    "# Split data\n",
    "X = heart.values[:, 0:13]\n",
    "y = heart.values[:, 13]\n",
    "\n",
    "X_train, X_test, y_train, y_test = train_test_split(X, y, test_size = 0.25, random_state = 0)"
   ]
  },
  {
   "cell_type": "markdown",
   "id": "c382422b",
   "metadata": {},
   "source": [
    "- RF implementation (10 pts)"
   ]
  },
  {
   "cell_type": "code",
   "execution_count": 22,
   "id": "ef22775f",
   "metadata": {},
   "outputs": [],
   "source": [
    "# Similar to above decision tree formatting for splitting the tree into different datasets\n",
    "def tsplit(index,split,column):\n",
    "    # Split data into two datasets (binary splits only)\n",
    "    split0, split1 = [], []\n",
    "    for row in column:\n",
    "        # Each side grows with values that fit their criteria\n",
    "        if row[index] < split:\n",
    "            split0.append(row)\n",
    "        else:\n",
    "            split1.append(row)\n",
    "    return split0, split1"
   ]
  },
  {
   "cell_type": "code",
   "execution_count": 23,
   "id": "f1612d89",
   "metadata": {},
   "outputs": [],
   "source": [
    "# Select the best split point for the data\n",
    "def bestSplit(data, numCols):\n",
    "    features = list()\n",
    "    #Gather a random number of features up to the number specified\n",
    "    while len(features) < numCols:\n",
    "        if data == []:\n",
    "            continue\n",
    "        index = rd.randrange(len(data[0])-1)\n",
    "        # Since picking with replacement, might get duplicate features\n",
    "        if index not in features:\n",
    "            features.append(index)\n",
    "    #Set high initial values so that they can be reset when they hit the if statement below\n",
    "    bestIdx = 100\n",
    "    bestValue = 100\n",
    "    bestScore = 100\n",
    "    bestGroups = None\n",
    "    # Now that we have our features, find best split\n",
    "    for index in features:\n",
    "        for row in data:\n",
    "            groups = tsplit(index, row[index], data)\n",
    "            gini = giniIndex(groups, data[:,13])\n",
    "            #Update if better split\n",
    "            if gini < bestScore:\n",
    "                bestIdx = index\n",
    "                bestValue = row[index]\n",
    "                bestScore = gini\n",
    "                bestGroups = groups\n",
    "    return {'index':bestIdx, 'value':bestValue, 'groups':bestGroups}"
   ]
  },
  {
   "cell_type": "code",
   "execution_count": 24,
   "id": "f83e1bde",
   "metadata": {},
   "outputs": [],
   "source": [
    "# Will return the majority result of the output values it has left\n",
    "def leaf(group):\n",
    "    tally = [row[-1] for row in group]\n",
    "    uniques = set(tally)\n",
    "    #tally up the final row and pick the majority value\n",
    "    return max(uniques, key=tally.count)"
   ]
  },
  {
   "cell_type": "code",
   "execution_count": 25,
   "id": "78d0c5c4",
   "metadata": {},
   "outputs": [],
   "source": [
    "# Create branches of the tree\n",
    "def branch(node, numCols, depth):\n",
    "    left, right = node['groups']\n",
    "    del(node['groups'])\n",
    "    \n",
    "    # check if one of the children is empty\n",
    "    if not left or not right:\n",
    "        node['left'] = node['right'] = leaf(left + right)\n",
    "        return\n",
    "    \n",
    "    # check if maximum depth was reached\n",
    "    if depth == 0:\n",
    "        node['left'], node['right'] = leaf(left), leaf(right)\n",
    "        return\n",
    "    \n",
    "    # if the group consists of 1 value or less\n",
    "    if len(left) <= 1:\n",
    "        # end the branch and make it a leaf\n",
    "        node['left'] = leaf(left)\n",
    "    else:\n",
    "        #else theres enough to continue splitting it\n",
    "        node['left'] = bestSplit(np.asarray(left), numCols)\n",
    "        branch(node['left'], numCols, depth-1)\n",
    "        \n",
    "    # do the same for the right child\n",
    "    if len(right) <= 1:\n",
    "        node['right'] = leaf(right)\n",
    "    else:\n",
    "        #continue splitting\n",
    "        node['right'] = bestSplit(np.asarray(right), numCols)\n",
    "        branch(node['right'], numCols, depth-1)"
   ]
  },
  {
   "cell_type": "code",
   "execution_count": 26,
   "id": "4bd393a1",
   "metadata": {},
   "outputs": [],
   "source": [
    "# Build a decision tree\n",
    "def buildTree(train, numCols):\n",
    "    root = bestSplit(train, numCols)\n",
    "    branch(root, numCols, 2)\n",
    "    return root"
   ]
  },
  {
   "cell_type": "code",
   "execution_count": 27,
   "id": "14936e80",
   "metadata": {
    "scrolled": true
   },
   "outputs": [],
   "source": [
    "# B = 5\n",
    "tree1 = buildTree(test,4)\n",
    "tree2 = buildTree(test,4)\n",
    "tree3 = buildTree(test,4)\n",
    "tree4 = buildTree(test,4)\n",
    "tree5 = buildTree(test,4)"
   ]
  },
  {
   "cell_type": "code",
   "execution_count": 28,
   "id": "aaf8edfe",
   "metadata": {},
   "outputs": [],
   "source": [
    "# Make a prediction with a decision tree\n",
    "def predictRF(node, row):\n",
    "    #Traverse down teh tree\n",
    "    #Go left if index < value, else go right\n",
    "    if row[node['index']] < node['value']:\n",
    "        # If left child is a parent, continue down left\n",
    "        if isinstance(node['left'], dict):\n",
    "            return predict(node['left'], row)\n",
    "        else:\n",
    "            #grab teh value of the leaf\n",
    "            return node['left']\n",
    "    else:\n",
    "        #if right child is parent, continue down right\n",
    "        if isinstance(node['right'], dict):\n",
    "            return predict(node['right'], row)\n",
    "        else:\n",
    "            #grab the value of the leaf\n",
    "            return node['right']"
   ]
  },
  {
   "cell_type": "code",
   "execution_count": 29,
   "id": "1ba3b700",
   "metadata": {
    "scrolled": true
   },
   "outputs": [
    {
     "name": "stdout",
     "output_type": "stream",
     "text": [
      "RF Implementation Accuracy: 0.8613861386138614\n"
     ]
    }
   ],
   "source": [
    "#Tally up the total number of correct predictions\n",
    "count = 0\n",
    "for row in test:\n",
    "    prediction = predictRF(tree1, row)+predictRF(tree2, row)+predictRF(tree3, row)+predictRF(tree4, row)+predictRF(tree5, row)\n",
    "    # if at least 3 trees predicted 1, that holds majority, else at most two predicted 1, and 0 takes majority\n",
    "    if prediction >= 3:\n",
    "        prediction = 1\n",
    "    else:\n",
    "        prediction = 0\n",
    "    if row[-1] == prediction:\n",
    "        count+=1\n",
    "print(\"RF Implementation Accuracy:\", count/303)"
   ]
  },
  {
   "cell_type": "markdown",
   "id": "d1bda86e",
   "metadata": {},
   "source": [
    "- Classification using RandomForestClassifier (5 pts)"
   ]
  },
  {
   "cell_type": "code",
   "execution_count": 30,
   "id": "708730ee",
   "metadata": {},
   "outputs": [
    {
     "name": "stdout",
     "output_type": "stream",
     "text": [
      "RF Accuracy: 0.8421052631578947\n"
     ]
    }
   ],
   "source": [
    "# Random Forest\n",
    "rf = RandomForestClassifier()\n",
    "\n",
    "# fit the model\n",
    "rf.fit(X_train, y_train)\n",
    "\n",
    "# make predictions\n",
    "y_pred = rf.predict(X_test)\n",
    "\n",
    "# printing the test accuracy\n",
    "RFAccuracy = accuracy_score(y_test, y_pred)\n",
    "print(\"RF Accuracy:\", RFAccuracy)"
   ]
  },
  {
   "cell_type": "markdown",
   "id": "cf1a5317",
   "metadata": {},
   "source": [
    "- Evaluation (5 pts)"
   ]
  },
  {
   "cell_type": "markdown",
   "id": "1e32a181",
   "metadata": {},
   "source": [
    "By taking a multitude of trees, in this case 5, and taking the most commonly predicted value from among them, I am able to make a more accurate prediction from each tree's votes. If a value is widely believed among all the trees, then it has a higher confidence to be correct, and 3 trees need to make incorrect predictions in order for the combined prediction to be wrong. This allows the trees to stay short so that they do not overfit while also reducing variability from using limited information from the data. Both the built in function and the implementation average around 0.85 accuracy, though at higher depths this value climbs as the trees become overfitted to the specific data they were given."
   ]
  },
  {
   "cell_type": "markdown",
   "id": "rental-castle",
   "metadata": {},
   "source": [
    "### Question 3: AdaBoost Classifier\n",
    "- AB implementation (15 pts)\n",
    "- Classification using AdaBoostClassifier (5 pts)\n",
    "- Evaluation (5 pts)"
   ]
  },
  {
   "cell_type": "code",
   "execution_count": 31,
   "id": "61ada6c2",
   "metadata": {},
   "outputs": [],
   "source": [
    "#Split the data\n",
    "X = heart.values[:, 0:13]\n",
    "y = heart.values[:, 13]\n",
    "\n",
    "X_train, X_test, y_train, y_test = train_test_split(X, y, test_size = 0.25, random_state = 0)"
   ]
  },
  {
   "cell_type": "markdown",
   "id": "0f9b63e1",
   "metadata": {},
   "source": [
    "- AB implementation (15 pts)"
   ]
  },
  {
   "cell_type": "code",
   "execution_count": 32,
   "id": "ee7157ef",
   "metadata": {},
   "outputs": [
    {
     "data": {
      "text/plain": [
       "0      0.0033\n",
       "1      0.0033\n",
       "2      0.0033\n",
       "3      0.0033\n",
       "4      0.0033\n",
       "        ...  \n",
       "298    0.0033\n",
       "299    0.0033\n",
       "300    0.0033\n",
       "301    0.0033\n",
       "302    0.0033\n",
       "Name: weight, Length: 303, dtype: float64"
      ]
     },
     "execution_count": 32,
     "metadata": {},
     "output_type": "execute_result"
    }
   ],
   "source": [
    "# Initialize values for the alphas, predictions at each iteration\n",
    "alphas = []\n",
    "predictions = []\n",
    "# Create an initial weight where every row has the same weight, 1/N\n",
    "heart['weight'] = 1/heart.shape[0]\n",
    "heart['weight']"
   ]
  },
  {
   "cell_type": "code",
   "execution_count": 33,
   "id": "ed1c958a",
   "metadata": {
    "scrolled": true
   },
   "outputs": [
    {
     "name": "stdout",
     "output_type": "stream",
     "text": [
      "e: 0.2409240924092413\n",
      "alpha: 0.5738099338874011\n",
      "e: 0.27230000000000015\n",
      "alpha: 0.491492237836663\n",
      "e: 0.32869999999999994\n",
      "alpha: 0.35703532513726616\n",
      "e: 0.2913999999999997\n",
      "alpha: 0.44429714933513426\n",
      "e: 0.22609999999999988\n",
      "alpha: 0.615232643496245\n"
     ]
    }
   ],
   "source": [
    "# T = 5\n",
    "for i in range(5):\n",
    "    #Take a random sample\n",
    "    sample = heart.sample(len(heart), replace = True, weights = heart['weight'])\n",
    "    \n",
    "    #X_train and Y_train split\n",
    "    sampX_train = sample.iloc[:,0:13]\n",
    "    sampy_train = sample.iloc[:,13]\n",
    "    \n",
    "    #Dummy classifier\n",
    "    dummy = DecisionTreeClassifier(random_state = 100, max_depth=1)\n",
    "    clf = dummy.fit(sampX_train, sampy_train)\n",
    "    y_pred = dummy.predict(heart.iloc[:,0:13])\n",
    "    heart['pred'] = y_pred\n",
    "    predictions.append(y_pred)\n",
    "    \n",
    "    #if the prediction was wrong, set to 1, if it was correct, set to 0\n",
    "    heart.loc[heart.output != heart.pred, 'wrong'] = 1\n",
    "    heart.loc[heart.output == heart.pred, 'wrong'] = 0\n",
    "    \n",
    "    #calculate the error from the sum of wrong*weight\n",
    "    e = sum(heart['wrong'] * heart['weight'])\n",
    "    print(\"e:\",e)\n",
    "    \n",
    "    # calculate alpha\n",
    "    alpha = 0.5*math.log((1-e)/e)\n",
    "    alphas.append(alpha)\n",
    "    print(\"alpha:\",alpha)\n",
    "    \n",
    "    #calculate the new weight\n",
    "    new_weight = heart['weight']*np.exp(-1*alpha*heart['output']*heart['pred'])\n",
    "    #and normalize it\n",
    "    normalized_weight = new_weight/sum(new_weight)\n",
    "    heart['weight'] = round(normalized_weight,4)"
   ]
  },
  {
   "cell_type": "code",
   "execution_count": 34,
   "id": "bcf0c34e",
   "metadata": {
    "scrolled": true
   },
   "outputs": [
    {
     "name": "stdout",
     "output_type": "stream",
     "text": [
      "[0.5738099338874011, 0.491492237836663, 0.35703532513726616, 0.44429714933513426, 0.615232643496245]\n",
      "[array([1, 1, 1, 1, 0, 0, 1, 1, 1, 1, 0, 1, 1, 1, 1, 1, 1, 1, 0, 1, 0, 1,\n",
      "       0, 1, 1, 1, 1, 1, 1, 1, 1, 0, 1, 1, 1, 1, 1, 1, 1, 1, 1, 1, 0, 0,\n",
      "       1, 1, 1, 1, 1, 0, 1, 0, 1, 1, 1, 1, 0, 0, 1, 0, 1, 1, 1, 1, 1, 0,\n",
      "       1, 1, 1, 0, 1, 1, 1, 0, 1, 1, 1, 1, 1, 1, 1, 1, 1, 1, 0, 1, 1, 1,\n",
      "       1, 0, 1, 0, 1, 1, 1, 0, 0, 0, 1, 1, 1, 1, 1, 1, 1, 1, 1, 0, 1, 0,\n",
      "       0, 1, 1, 0, 1, 1, 1, 1, 1, 0, 0, 0, 1, 1, 1, 1, 0, 1, 1, 1, 1, 1,\n",
      "       1, 1, 1, 0, 1, 1, 0, 0, 1, 0, 1, 0, 1, 1, 1, 1, 1, 1, 0, 0, 1, 1,\n",
      "       1, 0, 1, 1, 1, 1, 1, 1, 1, 1, 1, 0, 0, 0, 0, 0, 1, 1, 1, 1, 0, 0,\n",
      "       0, 1, 0, 0, 0, 0, 0, 1, 0, 0, 0, 0, 1, 0, 0, 0, 0, 0, 1, 0, 1, 0,\n",
      "       0, 0, 0, 0, 0, 1, 0, 0, 0, 0, 1, 0, 1, 0, 0, 0, 0, 0, 1, 0, 0, 0,\n",
      "       0, 0, 1, 0, 0, 0, 1, 0, 1, 1, 1, 0, 0, 0, 0, 0, 0, 0, 0, 0, 1, 0,\n",
      "       0, 0, 0, 0, 0, 1, 1, 1, 0, 0, 0, 0, 1, 0, 0, 0, 0, 1, 0, 0, 0, 0,\n",
      "       0, 0, 0, 1, 0, 0, 0, 1, 0, 0, 0, 0, 0, 1, 1, 0, 0, 0, 1, 0, 0, 0,\n",
      "       1, 1, 0, 0, 0, 0, 0, 1, 0, 0, 0, 0, 0, 1, 0, 0, 1], dtype=int64), array([1, 1, 1, 1, 1, 1, 1, 0, 0, 1, 1, 1, 1, 1, 1, 1, 1, 1, 1, 1, 0, 1,\n",
      "       1, 1, 0, 1, 1, 1, 1, 1, 1, 0, 1, 1, 1, 1, 1, 0, 1, 1, 1, 1, 1, 1,\n",
      "       1, 1, 1, 1, 1, 1, 1, 1, 0, 1, 1, 1, 1, 1, 1, 1, 1, 0, 1, 1, 1, 1,\n",
      "       1, 1, 1, 1, 0, 0, 1, 1, 1, 1, 1, 1, 1, 0, 1, 1, 1, 0, 1, 0, 0, 0,\n",
      "       1, 1, 1, 0, 1, 1, 1, 0, 1, 0, 1, 1, 1, 0, 1, 0, 1, 1, 1, 1, 1, 1,\n",
      "       1, 0, 0, 0, 1, 1, 1, 0, 1, 1, 1, 1, 1, 1, 1, 1, 1, 1, 1, 1, 1, 1,\n",
      "       1, 1, 1, 1, 1, 1, 1, 0, 1, 1, 1, 1, 1, 1, 1, 1, 1, 1, 1, 1, 0, 1,\n",
      "       1, 1, 1, 1, 0, 0, 1, 1, 1, 1, 1, 1, 0, 1, 0, 0, 1, 0, 1, 0, 0, 0,\n",
      "       0, 1, 0, 1, 0, 0, 1, 0, 0, 1, 0, 0, 0, 0, 0, 0, 0, 0, 1, 0, 1, 0,\n",
      "       0, 1, 1, 0, 0, 0, 0, 0, 0, 0, 0, 0, 0, 0, 0, 0, 1, 0, 0, 0, 0, 0,\n",
      "       0, 0, 1, 0, 0, 0, 0, 0, 0, 0, 1, 0, 0, 1, 1, 0, 0, 0, 1, 0, 0, 1,\n",
      "       1, 0, 1, 0, 0, 1, 0, 0, 0, 0, 1, 1, 1, 0, 0, 0, 1, 0, 0, 1, 0, 1,\n",
      "       1, 1, 1, 1, 1, 0, 0, 1, 1, 0, 1, 0, 0, 0, 1, 1, 1, 1, 1, 0, 0, 0,\n",
      "       1, 1, 0, 0, 0, 1, 1, 0, 1, 0, 1, 1, 0, 0, 0, 0, 1], dtype=int64), array([1, 1, 1, 1, 1, 1, 1, 1, 1, 1, 1, 0, 1, 0, 1, 1, 1, 0, 1, 1, 1, 1,\n",
      "       1, 0, 1, 1, 1, 0, 1, 1, 1, 0, 1, 1, 0, 1, 1, 1, 1, 1, 0, 1, 1, 0,\n",
      "       1, 1, 1, 1, 0, 1, 1, 1, 0, 1, 1, 1, 1, 1, 1, 1, 0, 1, 1, 0, 1, 1,\n",
      "       0, 1, 1, 1, 1, 1, 1, 1, 1, 1, 1, 1, 1, 1, 1, 1, 1, 1, 0, 1, 1, 1,\n",
      "       1, 0, 1, 1, 1, 1, 0, 0, 1, 1, 1, 1, 1, 0, 1, 1, 1, 0, 0, 1, 1, 1,\n",
      "       1, 1, 0, 1, 1, 1, 1, 1, 1, 1, 0, 1, 1, 1, 1, 1, 0, 1, 1, 0, 1, 1,\n",
      "       1, 1, 1, 1, 0, 0, 0, 0, 1, 1, 1, 0, 0, 0, 1, 1, 1, 1, 0, 0, 1, 1,\n",
      "       1, 0, 1, 1, 0, 1, 1, 1, 1, 1, 1, 0, 0, 1, 1, 1, 0, 1, 1, 1, 0, 0,\n",
      "       1, 1, 0, 0, 0, 0, 1, 1, 0, 1, 0, 0, 1, 1, 0, 0, 0, 0, 1, 0, 1, 1,\n",
      "       0, 1, 1, 0, 0, 1, 0, 1, 0, 1, 0, 1, 1, 0, 0, 0, 0, 0, 0, 0, 0, 1,\n",
      "       1, 0, 1, 0, 0, 0, 0, 0, 1, 0, 1, 0, 0, 0, 0, 1, 1, 1, 1, 1, 0, 0,\n",
      "       0, 0, 0, 1, 1, 0, 1, 0, 0, 0, 0, 0, 0, 1, 0, 0, 1, 1, 1, 1, 0, 1,\n",
      "       0, 0, 0, 0, 0, 0, 0, 0, 0, 1, 0, 1, 0, 0, 1, 0, 0, 1, 0, 1, 0, 0,\n",
      "       1, 1, 0, 0, 1, 0, 0, 1, 0, 0, 0, 0, 0, 0, 0, 0, 1], dtype=int64), array([1, 1, 1, 1, 1, 1, 1, 1, 1, 1, 1, 1, 1, 1, 1, 1, 1, 1, 1, 0, 1, 1,\n",
      "       1, 1, 1, 0, 1, 1, 0, 1, 0, 1, 1, 0, 0, 1, 1, 1, 1, 1, 0, 1, 1, 1,\n",
      "       1, 1, 1, 1, 1, 1, 1, 1, 0, 1, 1, 0, 1, 1, 1, 0, 0, 1, 1, 1, 1, 1,\n",
      "       1, 1, 1, 1, 1, 0, 1, 1, 1, 1, 1, 1, 1, 1, 1, 1, 0, 1, 1, 1, 0, 1,\n",
      "       1, 1, 0, 1, 0, 0, 1, 1, 1, 0, 0, 0, 0, 1, 0, 1, 1, 1, 0, 1, 1, 1,\n",
      "       1, 0, 1, 1, 1, 1, 1, 1, 1, 1, 0, 1, 1, 1, 1, 1, 1, 0, 1, 0, 0, 1,\n",
      "       1, 1, 1, 1, 1, 1, 1, 0, 1, 1, 1, 0, 1, 1, 0, 1, 1, 1, 1, 1, 1, 0,\n",
      "       1, 1, 1, 1, 0, 1, 1, 1, 1, 0, 0, 0, 0, 0, 0, 1, 0, 1, 1, 0, 0, 1,\n",
      "       0, 1, 1, 0, 0, 0, 1, 0, 1, 0, 0, 0, 0, 1, 1, 0, 0, 0, 1, 1, 1, 0,\n",
      "       0, 0, 0, 0, 1, 1, 0, 0, 0, 0, 0, 0, 0, 0, 1, 1, 0, 1, 0, 0, 0, 0,\n",
      "       0, 1, 0, 0, 0, 1, 0, 1, 1, 1, 1, 0, 0, 0, 0, 1, 0, 0, 0, 1, 0, 1,\n",
      "       0, 0, 0, 1, 0, 0, 0, 0, 0, 0, 0, 0, 1, 0, 0, 1, 1, 1, 0, 0, 0, 0,\n",
      "       0, 0, 1, 0, 0, 1, 1, 0, 1, 0, 0, 0, 0, 1, 0, 0, 1, 1, 0, 1, 0, 0,\n",
      "       0, 0, 0, 0, 0, 0, 0, 1, 1, 0, 1, 0, 1, 1, 0, 0, 0], dtype=int64), array([0, 0, 0, 0, 0, 0, 0, 0, 0, 0, 0, 0, 0, 0, 0, 0, 0, 0, 0, 0, 0, 0,\n",
      "       0, 0, 0, 0, 0, 0, 0, 0, 0, 0, 0, 0, 0, 0, 0, 0, 0, 0, 0, 0, 0, 0,\n",
      "       0, 0, 0, 0, 0, 0, 0, 0, 0, 0, 0, 0, 0, 0, 0, 0, 0, 0, 0, 0, 0, 0,\n",
      "       0, 0, 0, 0, 0, 0, 0, 0, 0, 0, 0, 0, 0, 0, 0, 0, 0, 0, 0, 0, 0, 0,\n",
      "       0, 0, 0, 0, 0, 0, 0, 0, 0, 0, 0, 0, 0, 0, 0, 0, 0, 0, 0, 0, 0, 0,\n",
      "       0, 0, 0, 0, 0, 0, 0, 0, 0, 0, 0, 0, 0, 0, 0, 0, 0, 0, 0, 0, 0, 0,\n",
      "       0, 0, 0, 0, 0, 0, 0, 0, 0, 0, 0, 0, 0, 0, 0, 0, 0, 0, 0, 0, 0, 0,\n",
      "       0, 0, 0, 0, 0, 0, 0, 0, 0, 0, 0, 0, 0, 0, 0, 0, 0, 0, 0, 0, 0, 0,\n",
      "       0, 0, 0, 0, 0, 0, 0, 0, 0, 0, 0, 0, 0, 0, 0, 0, 0, 0, 0, 0, 0, 0,\n",
      "       0, 0, 0, 0, 0, 0, 0, 0, 0, 0, 0, 0, 0, 0, 0, 0, 0, 0, 0, 0, 0, 0,\n",
      "       0, 0, 0, 0, 0, 0, 0, 0, 0, 0, 0, 0, 0, 0, 0, 0, 0, 0, 0, 0, 0, 0,\n",
      "       0, 0, 0, 0, 0, 0, 0, 0, 0, 0, 0, 0, 0, 0, 0, 0, 0, 0, 0, 0, 0, 0,\n",
      "       0, 0, 0, 0, 0, 0, 0, 0, 0, 0, 0, 0, 0, 0, 0, 0, 0, 0, 0, 0, 0, 0,\n",
      "       0, 0, 0, 0, 0, 0, 0, 0, 0, 0, 0, 0, 0, 0, 0, 0, 0], dtype=int64)]\n"
     ]
    }
   ],
   "source": [
    "# Show values being used in calculation\n",
    "print(alphas)\n",
    "print(predictions)"
   ]
  },
  {
   "cell_type": "code",
   "execution_count": 35,
   "id": "b2ccb1f1",
   "metadata": {
    "scrolled": true
   },
   "outputs": [
    {
     "data": {
      "text/plain": [
       "array([1, 1, 1, 1, 1, 1, 1, 1, 1, 1, 1, 1, 1, 1, 1, 1, 1, 1, 1, 1, 0, 1,\n",
       "       1, 1, 1, 1, 1, 1, 1, 1, 1, 0, 1, 1, 1, 1, 1, 1, 1, 1, 1, 1, 1, 0,\n",
       "       1, 1, 1, 1, 1, 1, 1, 1, 0, 1, 1, 1, 1, 1, 1, 0, 1, 1, 1, 1, 1, 1,\n",
       "       1, 1, 1, 1, 1, 0, 1, 1, 1, 1, 1, 1, 1, 1, 1, 1, 1, 1, 0, 1, 0, 1,\n",
       "       1, 0, 1, 0, 1, 1, 1, 0, 1, 0, 1, 1, 1, 1, 1, 1, 1, 1, 1, 1, 1, 1,\n",
       "       1, 0, 1, 0, 1, 1, 1, 1, 1, 1, 0, 1, 1, 1, 1, 1, 0, 1, 1, 1, 1, 1,\n",
       "       1, 1, 1, 1, 1, 1, 0, 0, 1, 1, 1, 0, 1, 1, 1, 1, 1, 1, 0, 0, 1, 1,\n",
       "       1, 0, 1, 1, 0, 1, 1, 1, 1, 1, 1, 0, 0, 0, 0, 0, 1, 1, 1, 0, 0, 0,\n",
       "       0, 1, 0, 0, 0, 0, 1, 0, 0, 0, 0, 0, 0, 0, 0, 0, 0, 0, 1, 0, 1, 0,\n",
       "       0, 0, 0, 0, 0, 1, 0, 0, 0, 0, 0, 0, 0, 0, 0, 0, 0, 0, 0, 0, 0, 0,\n",
       "       0, 0, 1, 0, 0, 0, 0, 0, 1, 1, 1, 0, 0, 0, 0, 0, 0, 0, 0, 0, 0, 0,\n",
       "       0, 0, 0, 0, 0, 1, 0, 0, 0, 0, 0, 0, 1, 0, 0, 0, 1, 1, 0, 0, 0, 0,\n",
       "       0, 0, 0, 1, 0, 0, 0, 1, 0, 0, 0, 0, 0, 1, 1, 0, 0, 1, 1, 0, 0, 0,\n",
       "       1, 1, 0, 0, 0, 0, 0, 1, 0, 0, 0, 0, 0, 1, 0, 0, 1])"
      ]
     },
     "execution_count": 35,
     "metadata": {},
     "output_type": "execute_result"
    }
   ],
   "source": [
    "#final prediction\n",
    "t=0\n",
    "for i in range(5):\n",
    "    t += alphas[i] * predictions[i]\n",
    "\n",
    "for i in range(len(t)):\n",
    "    #if values get too high (say all 5 predictions predict 1), reset to 1\n",
    "    if t[i] >=2:\n",
    "        t[i]=1\n",
    "t = t.astype(int)\n",
    "#our result\n",
    "t"
   ]
  },
  {
   "cell_type": "code",
   "execution_count": 36,
   "id": "efedbb52",
   "metadata": {},
   "outputs": [
    {
     "name": "stdout",
     "output_type": "stream",
     "text": [
      "AdaBoost Implementation: 0.834983498349835\n"
     ]
    }
   ],
   "source": [
    "#Tally total number of correct predictions\n",
    "count = 0\n",
    "for i in range(len(t)):\n",
    "    if t[i] == heart['output'][i]:\n",
    "        count+=1\n",
    "print(\"AdaBoost Implementation:\", count/303)"
   ]
  },
  {
   "cell_type": "markdown",
   "id": "04b661a5",
   "metadata": {},
   "source": [
    "- Classification using AdaBoostClassifier (5 pts)"
   ]
  },
  {
   "cell_type": "code",
   "execution_count": 37,
   "id": "ab44cb5c",
   "metadata": {},
   "outputs": [
    {
     "name": "stdout",
     "output_type": "stream",
     "text": [
      "ADA Accuracy: 0.8421052631578947\n"
     ]
    }
   ],
   "source": [
    "# Ada Boost\n",
    "ada = AdaBoostClassifier()\n",
    "\n",
    "# fit the model\n",
    "ada.fit(X_train, y_train)\n",
    "\n",
    "# make predictions\n",
    "y_pred = ada.predict(X_test)\n",
    "\n",
    "# printing the test accuracy\n",
    "ADAAccuracy = accuracy_score(y_test, y_pred)\n",
    "print(\"ADA Accuracy:\", ADAAccuracy)"
   ]
  },
  {
   "cell_type": "markdown",
   "id": "ae9d0c7d",
   "metadata": {},
   "source": [
    "- Evaluation (5 pts)"
   ]
  },
  {
   "cell_type": "markdown",
   "id": "a798c27d",
   "metadata": {},
   "source": [
    "The Ada Boost Implementation provides an accuracy of around 0.76 - 0.84, which is somehwat lower than the built-ins average around 0.84, though not significantly so. The weights for adaptive boosting are recomputed iteratively and combines rougher, weaker classifiers to create a combined prediction similarly to random forest. It creates multiple dummy classifiers and uses a combination of their predicted results and weights based on their alphas to try and come up with a more accurate final result. This is because the more accurate iterations have higher alpha values and thus get weighted heavier in the final calculation. However, since none do extremely well, the AdaBoost still reports relatively low numbers. This can be improved by using more accurate weak classifiers."
   ]
  },
  {
   "cell_type": "markdown",
   "id": "thousand-sleep",
   "metadata": {},
   "source": [
    "### Question 4: Gradient Boost Classifier\n",
    "- GB implementation (15 pts)\n",
    "- Classification using GradientBoostingClassifier (5 pts)\n",
    "- Evaluation (5 pts)"
   ]
  },
  {
   "cell_type": "code",
   "execution_count": 38,
   "id": "ab721427",
   "metadata": {},
   "outputs": [],
   "source": [
    "#Split the data\n",
    "X = heart.values[:, 0:13]\n",
    "y = heart.values[:, 13]\n",
    "\n",
    "X_train, X_test, y_train, y_test = train_test_split(X, y, test_size = 0.25, random_state = 0)"
   ]
  },
  {
   "cell_type": "markdown",
   "id": "6f30ca0b",
   "metadata": {},
   "source": [
    "- GB implementation (15 pts)"
   ]
  },
  {
   "cell_type": "code",
   "execution_count": 39,
   "id": "8a5c0612",
   "metadata": {
    "scrolled": true
   },
   "outputs": [],
   "source": [
    "# Log Odds is log(proportion of 1s to 0s)\n",
    "logOdds = math.log((heart[\"output\"] == 1).sum()/(heart[\"output\"] == 0).sum())\n",
    "#initial prediction\n",
    "heart[\"logOdds\"] = logOdds\n",
    "#initial probability\n",
    "p1 = np.exp(logOdds)/(1+np.exp(logOdds))\n",
    "#initialize additional columns i'll be using\n",
    "heart[\"prediction\"] = p1\n",
    "heart[\"residual\"] = 0.0\n",
    "heart[\"resPred\"] = 0.0\n",
    "heart[\"outputVal\"] = 0.0"
   ]
  },
  {
   "cell_type": "code",
   "execution_count": 40,
   "id": "4cb5dddb",
   "metadata": {},
   "outputs": [],
   "source": [
    "# T = 5\n",
    "for i in range(5):\n",
    "    #Calculate residual\n",
    "    heart[\"residual\"] = heart[\"output\"] - heart[\"prediction\"]\n",
    "\n",
    "    #Dummy regressor\n",
    "    dummy = DecisionTreeRegressor(max_leaf_nodes = 8)\n",
    "    testX = heart.values[:,0:13]\n",
    "    testy = heart[\"residual\"]\n",
    "    clf = dummy.fit(testX,testy)\n",
    "    y_pred = dummy.predict(testX)\n",
    "    heart['resPred'] = y_pred\n",
    "    leaves = heart['resPred'].unique()\n",
    "    \n",
    "    # calculate outputValues\n",
    "    for i in range(8):\n",
    "        group = heart[heart[\"resPred\"]==leaves[i]]\n",
    "        residual = group.residual.sum()\n",
    "        prevProb = 0\n",
    "        for r in group.residual:\n",
    "            prevProb += p1*(1-p1)\n",
    "        outputVal = residual/prevProb\n",
    "        for j in group.index:\n",
    "            heart.at[j,\"outputVal\"] = outputVal\n",
    "            \n",
    "    # logOdds = logOdds + .1*outputVal\n",
    "    heart[\"logOdds\"] = heart[\"logOdds\"] + 0.1 * heart[\"outputVal\"]\n",
    "    heart[\"prediction\"] = np.exp(heart[\"logOdds\"])/(1+np.exp(heart[\"logOdds\"]))"
   ]
  },
  {
   "cell_type": "code",
   "execution_count": 41,
   "id": "af753bc3",
   "metadata": {},
   "outputs": [],
   "source": [
    "heart[\"finalPred\"] = (heart[\"prediction\"] + 0.5).astype(int)"
   ]
  },
  {
   "cell_type": "code",
   "execution_count": 42,
   "id": "cce96378",
   "metadata": {
    "scrolled": false
   },
   "outputs": [
    {
     "data": {
      "text/html": [
       "<div>\n",
       "<style scoped>\n",
       "    .dataframe tbody tr th:only-of-type {\n",
       "        vertical-align: middle;\n",
       "    }\n",
       "\n",
       "    .dataframe tbody tr th {\n",
       "        vertical-align: top;\n",
       "    }\n",
       "\n",
       "    .dataframe thead th {\n",
       "        text-align: right;\n",
       "    }\n",
       "</style>\n",
       "<table border=\"1\" class=\"dataframe\">\n",
       "  <thead>\n",
       "    <tr style=\"text-align: right;\">\n",
       "      <th></th>\n",
       "      <th>age</th>\n",
       "      <th>sex</th>\n",
       "      <th>cp</th>\n",
       "      <th>trtbps</th>\n",
       "      <th>chol</th>\n",
       "      <th>fbs</th>\n",
       "      <th>restecg</th>\n",
       "      <th>thalachh</th>\n",
       "      <th>exng</th>\n",
       "      <th>oldpeak</th>\n",
       "      <th>...</th>\n",
       "      <th>output</th>\n",
       "      <th>weight</th>\n",
       "      <th>pred</th>\n",
       "      <th>wrong</th>\n",
       "      <th>logOdds</th>\n",
       "      <th>prediction</th>\n",
       "      <th>residual</th>\n",
       "      <th>resPred</th>\n",
       "      <th>outputVal</th>\n",
       "      <th>finalPred</th>\n",
       "    </tr>\n",
       "  </thead>\n",
       "  <tbody>\n",
       "    <tr>\n",
       "      <th>0</th>\n",
       "      <td>63</td>\n",
       "      <td>1</td>\n",
       "      <td>3</td>\n",
       "      <td>145</td>\n",
       "      <td>233</td>\n",
       "      <td>1</td>\n",
       "      <td>0</td>\n",
       "      <td>150</td>\n",
       "      <td>0</td>\n",
       "      <td>2.3</td>\n",
       "      <td>...</td>\n",
       "      <td>1</td>\n",
       "      <td>0.0008</td>\n",
       "      <td>0</td>\n",
       "      <td>1.0</td>\n",
       "      <td>0.711168</td>\n",
       "      <td>0.670659</td>\n",
       "      <td>0.353820</td>\n",
       "      <td>0.270037</td>\n",
       "      <td>1.088794</td>\n",
       "      <td>1</td>\n",
       "    </tr>\n",
       "    <tr>\n",
       "      <th>1</th>\n",
       "      <td>37</td>\n",
       "      <td>1</td>\n",
       "      <td>2</td>\n",
       "      <td>130</td>\n",
       "      <td>250</td>\n",
       "      <td>0</td>\n",
       "      <td>1</td>\n",
       "      <td>187</td>\n",
       "      <td>0</td>\n",
       "      <td>3.5</td>\n",
       "      <td>...</td>\n",
       "      <td>1</td>\n",
       "      <td>0.0008</td>\n",
       "      <td>0</td>\n",
       "      <td>1.0</td>\n",
       "      <td>0.687630</td>\n",
       "      <td>0.665440</td>\n",
       "      <td>0.314491</td>\n",
       "      <td>-0.227127</td>\n",
       "      <td>-0.915779</td>\n",
       "      <td>1</td>\n",
       "    </tr>\n",
       "    <tr>\n",
       "      <th>2</th>\n",
       "      <td>41</td>\n",
       "      <td>0</td>\n",
       "      <td>1</td>\n",
       "      <td>130</td>\n",
       "      <td>204</td>\n",
       "      <td>0</td>\n",
       "      <td>0</td>\n",
       "      <td>172</td>\n",
       "      <td>0</td>\n",
       "      <td>1.4</td>\n",
       "      <td>...</td>\n",
       "      <td>1</td>\n",
       "      <td>0.0008</td>\n",
       "      <td>0</td>\n",
       "      <td>1.0</td>\n",
       "      <td>0.790522</td>\n",
       "      <td>0.687943</td>\n",
       "      <td>0.335895</td>\n",
       "      <td>0.270037</td>\n",
       "      <td>1.088794</td>\n",
       "      <td>1</td>\n",
       "    </tr>\n",
       "    <tr>\n",
       "      <th>3</th>\n",
       "      <td>56</td>\n",
       "      <td>1</td>\n",
       "      <td>1</td>\n",
       "      <td>120</td>\n",
       "      <td>236</td>\n",
       "      <td>0</td>\n",
       "      <td>1</td>\n",
       "      <td>178</td>\n",
       "      <td>0</td>\n",
       "      <td>0.8</td>\n",
       "      <td>...</td>\n",
       "      <td>1</td>\n",
       "      <td>0.0008</td>\n",
       "      <td>0</td>\n",
       "      <td>1.0</td>\n",
       "      <td>0.613602</td>\n",
       "      <td>0.648762</td>\n",
       "      <td>0.376432</td>\n",
       "      <td>0.270037</td>\n",
       "      <td>1.088794</td>\n",
       "      <td>1</td>\n",
       "    </tr>\n",
       "    <tr>\n",
       "      <th>4</th>\n",
       "      <td>57</td>\n",
       "      <td>0</td>\n",
       "      <td>0</td>\n",
       "      <td>120</td>\n",
       "      <td>354</td>\n",
       "      <td>0</td>\n",
       "      <td>1</td>\n",
       "      <td>163</td>\n",
       "      <td>1</td>\n",
       "      <td>0.6</td>\n",
       "      <td>...</td>\n",
       "      <td>1</td>\n",
       "      <td>0.0015</td>\n",
       "      <td>0</td>\n",
       "      <td>1.0</td>\n",
       "      <td>0.441107</td>\n",
       "      <td>0.608523</td>\n",
       "      <td>0.417699</td>\n",
       "      <td>0.270037</td>\n",
       "      <td>1.088794</td>\n",
       "      <td>1</td>\n",
       "    </tr>\n",
       "    <tr>\n",
       "      <th>...</th>\n",
       "      <td>...</td>\n",
       "      <td>...</td>\n",
       "      <td>...</td>\n",
       "      <td>...</td>\n",
       "      <td>...</td>\n",
       "      <td>...</td>\n",
       "      <td>...</td>\n",
       "      <td>...</td>\n",
       "      <td>...</td>\n",
       "      <td>...</td>\n",
       "      <td>...</td>\n",
       "      <td>...</td>\n",
       "      <td>...</td>\n",
       "      <td>...</td>\n",
       "      <td>...</td>\n",
       "      <td>...</td>\n",
       "      <td>...</td>\n",
       "      <td>...</td>\n",
       "      <td>...</td>\n",
       "      <td>...</td>\n",
       "      <td>...</td>\n",
       "    </tr>\n",
       "    <tr>\n",
       "      <th>298</th>\n",
       "      <td>57</td>\n",
       "      <td>0</td>\n",
       "      <td>0</td>\n",
       "      <td>140</td>\n",
       "      <td>241</td>\n",
       "      <td>0</td>\n",
       "      <td>1</td>\n",
       "      <td>123</td>\n",
       "      <td>1</td>\n",
       "      <td>0.2</td>\n",
       "      <td>...</td>\n",
       "      <td>0</td>\n",
       "      <td>0.0056</td>\n",
       "      <td>0</td>\n",
       "      <td>0.0</td>\n",
       "      <td>-0.035582</td>\n",
       "      <td>0.491105</td>\n",
       "      <td>-0.503595</td>\n",
       "      <td>-0.123912</td>\n",
       "      <td>-0.499614</td>\n",
       "      <td>0</td>\n",
       "    </tr>\n",
       "    <tr>\n",
       "      <th>299</th>\n",
       "      <td>45</td>\n",
       "      <td>1</td>\n",
       "      <td>3</td>\n",
       "      <td>110</td>\n",
       "      <td>264</td>\n",
       "      <td>0</td>\n",
       "      <td>1</td>\n",
       "      <td>132</td>\n",
       "      <td>0</td>\n",
       "      <td>1.2</td>\n",
       "      <td>...</td>\n",
       "      <td>0</td>\n",
       "      <td>0.0056</td>\n",
       "      <td>0</td>\n",
       "      <td>0.0</td>\n",
       "      <td>-0.006724</td>\n",
       "      <td>0.498319</td>\n",
       "      <td>-0.507934</td>\n",
       "      <td>-0.095397</td>\n",
       "      <td>-0.384644</td>\n",
       "      <td>0</td>\n",
       "    </tr>\n",
       "    <tr>\n",
       "      <th>300</th>\n",
       "      <td>68</td>\n",
       "      <td>1</td>\n",
       "      <td>0</td>\n",
       "      <td>144</td>\n",
       "      <td>193</td>\n",
       "      <td>1</td>\n",
       "      <td>1</td>\n",
       "      <td>141</td>\n",
       "      <td>0</td>\n",
       "      <td>3.4</td>\n",
       "      <td>...</td>\n",
       "      <td>0</td>\n",
       "      <td>0.0056</td>\n",
       "      <td>0</td>\n",
       "      <td>0.0</td>\n",
       "      <td>-0.636052</td>\n",
       "      <td>0.346140</td>\n",
       "      <td>-0.382760</td>\n",
       "      <td>-0.392370</td>\n",
       "      <td>-1.582040</td>\n",
       "      <td>0</td>\n",
       "    </tr>\n",
       "    <tr>\n",
       "      <th>301</th>\n",
       "      <td>57</td>\n",
       "      <td>1</td>\n",
       "      <td>0</td>\n",
       "      <td>130</td>\n",
       "      <td>131</td>\n",
       "      <td>0</td>\n",
       "      <td>1</td>\n",
       "      <td>115</td>\n",
       "      <td>1</td>\n",
       "      <td>1.2</td>\n",
       "      <td>...</td>\n",
       "      <td>0</td>\n",
       "      <td>0.0056</td>\n",
       "      <td>0</td>\n",
       "      <td>0.0</td>\n",
       "      <td>-0.636052</td>\n",
       "      <td>0.346140</td>\n",
       "      <td>-0.382760</td>\n",
       "      <td>-0.392370</td>\n",
       "      <td>-1.582040</td>\n",
       "      <td>0</td>\n",
       "    </tr>\n",
       "    <tr>\n",
       "      <th>302</th>\n",
       "      <td>57</td>\n",
       "      <td>0</td>\n",
       "      <td>1</td>\n",
       "      <td>130</td>\n",
       "      <td>236</td>\n",
       "      <td>0</td>\n",
       "      <td>0</td>\n",
       "      <td>174</td>\n",
       "      <td>0</td>\n",
       "      <td>0.0</td>\n",
       "      <td>...</td>\n",
       "      <td>0</td>\n",
       "      <td>0.0056</td>\n",
       "      <td>0</td>\n",
       "      <td>0.0</td>\n",
       "      <td>0.453436</td>\n",
       "      <td>0.611456</td>\n",
       "      <td>-0.638492</td>\n",
       "      <td>-0.286177</td>\n",
       "      <td>-1.153871</td>\n",
       "      <td>1</td>\n",
       "    </tr>\n",
       "  </tbody>\n",
       "</table>\n",
       "<p>303 rows × 23 columns</p>\n",
       "</div>"
      ],
      "text/plain": [
       "     age  sex  cp  trtbps  chol  fbs  restecg  thalachh  exng  oldpeak  ...  \\\n",
       "0     63    1   3     145   233    1        0       150     0      2.3  ...   \n",
       "1     37    1   2     130   250    0        1       187     0      3.5  ...   \n",
       "2     41    0   1     130   204    0        0       172     0      1.4  ...   \n",
       "3     56    1   1     120   236    0        1       178     0      0.8  ...   \n",
       "4     57    0   0     120   354    0        1       163     1      0.6  ...   \n",
       "..   ...  ...  ..     ...   ...  ...      ...       ...   ...      ...  ...   \n",
       "298   57    0   0     140   241    0        1       123     1      0.2  ...   \n",
       "299   45    1   3     110   264    0        1       132     0      1.2  ...   \n",
       "300   68    1   0     144   193    1        1       141     0      3.4  ...   \n",
       "301   57    1   0     130   131    0        1       115     1      1.2  ...   \n",
       "302   57    0   1     130   236    0        0       174     0      0.0  ...   \n",
       "\n",
       "     output  weight  pred  wrong   logOdds  prediction  residual   resPred  \\\n",
       "0         1  0.0008     0    1.0  0.711168    0.670659  0.353820  0.270037   \n",
       "1         1  0.0008     0    1.0  0.687630    0.665440  0.314491 -0.227127   \n",
       "2         1  0.0008     0    1.0  0.790522    0.687943  0.335895  0.270037   \n",
       "3         1  0.0008     0    1.0  0.613602    0.648762  0.376432  0.270037   \n",
       "4         1  0.0015     0    1.0  0.441107    0.608523  0.417699  0.270037   \n",
       "..      ...     ...   ...    ...       ...         ...       ...       ...   \n",
       "298       0  0.0056     0    0.0 -0.035582    0.491105 -0.503595 -0.123912   \n",
       "299       0  0.0056     0    0.0 -0.006724    0.498319 -0.507934 -0.095397   \n",
       "300       0  0.0056     0    0.0 -0.636052    0.346140 -0.382760 -0.392370   \n",
       "301       0  0.0056     0    0.0 -0.636052    0.346140 -0.382760 -0.392370   \n",
       "302       0  0.0056     0    0.0  0.453436    0.611456 -0.638492 -0.286177   \n",
       "\n",
       "     outputVal  finalPred  \n",
       "0     1.088794          1  \n",
       "1    -0.915779          1  \n",
       "2     1.088794          1  \n",
       "3     1.088794          1  \n",
       "4     1.088794          1  \n",
       "..         ...        ...  \n",
       "298  -0.499614          0  \n",
       "299  -0.384644          0  \n",
       "300  -1.582040          0  \n",
       "301  -1.582040          0  \n",
       "302  -1.153871          1  \n",
       "\n",
       "[303 rows x 23 columns]"
      ]
     },
     "execution_count": 42,
     "metadata": {},
     "output_type": "execute_result"
    }
   ],
   "source": [
    "heart"
   ]
  },
  {
   "cell_type": "code",
   "execution_count": 43,
   "id": "a4c32701",
   "metadata": {},
   "outputs": [
    {
     "name": "stdout",
     "output_type": "stream",
     "text": [
      "GradBoost Implementation: 0.8745874587458746\n"
     ]
    }
   ],
   "source": [
    "count = 0\n",
    "for i in range(len(heart[\"finalPred\"])):\n",
    "    if heart[\"finalPred\"][i] == heart['output'][i]:\n",
    "        count+=1\n",
    "print(\"GradBoost Implementation:\",count/303)"
   ]
  },
  {
   "cell_type": "markdown",
   "id": "03386f81",
   "metadata": {},
   "source": [
    "- Classification using GradientBoostingClassifier (5 pts)"
   ]
  },
  {
   "cell_type": "code",
   "execution_count": 44,
   "id": "623f1865",
   "metadata": {},
   "outputs": [
    {
     "name": "stdout",
     "output_type": "stream",
     "text": [
      "Grad Boosting Accuracy: 0.8026315789473685\n"
     ]
    }
   ],
   "source": [
    "# Gradient Boost\n",
    "gr = GradientBoostingClassifier()\n",
    "\n",
    "# fit the model\n",
    "gr.fit(X_train, y_train)\n",
    "\n",
    "# make predictions\n",
    "y_pred = gr.predict(X_test)\n",
    "\n",
    "# printing the test accuracy\n",
    "GRAccuracy = accuracy_score(y_test, y_pred)\n",
    "print(\"Grad Boosting Accuracy:\", GRAccuracy)"
   ]
  },
  {
   "cell_type": "markdown",
   "id": "0c9da495",
   "metadata": {},
   "source": [
    "- Evaluation (5 pts)"
   ]
  },
  {
   "cell_type": "markdown",
   "id": "c556998e",
   "metadata": {},
   "source": [
    "After 5 iterations of the Gradient Boosting implementation (to keep consistent with the other classifiers), it achieved an accuracy averaging around 0.87, compared to the builtin classifier averaging about 0.80. This is the most accurate result out of all the classifiers, and since Gradient Boosting is pretty robust against overfitting, the number of iterations run can increase dramatically from 5 to improve performance even further without becoming too vulnerable to overfitting. It consistently outperforms the other classifiers and is consistently reporting a 0.87 accuracy."
   ]
  },
  {
   "cell_type": "code",
   "execution_count": null,
   "id": "a78ba04f",
   "metadata": {},
   "outputs": [],
   "source": []
  }
 ],
 "metadata": {
  "kernelspec": {
   "display_name": "Python 3 (ipykernel)",
   "language": "python",
   "name": "python3"
  },
  "language_info": {
   "codemirror_mode": {
    "name": "ipython",
    "version": 3
   },
   "file_extension": ".py",
   "mimetype": "text/x-python",
   "name": "python",
   "nbconvert_exporter": "python",
   "pygments_lexer": "ipython3",
   "version": "3.9.5"
  }
 },
 "nbformat": 4,
 "nbformat_minor": 5
}
