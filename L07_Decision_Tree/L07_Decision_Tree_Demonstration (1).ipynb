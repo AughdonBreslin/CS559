{
 "cells": [
  {
   "cell_type": "markdown",
   "id": "rapid-terrorist",
   "metadata": {},
   "source": [
    "# <center> Lecture 07 - Decision Tree </center>\n",
    "\n",
    "## Decision Tree Classification\n",
    "\n",
    "- Two commonly used metrics are:\n",
    "\n",
    "    - gini impurity: $I_G(f) = \\sum_{i=1}^m f_i(1-f_i)$\n",
    "\n",
    "  - information gain: $I_E(f) = -\\sum_{i=1}^m f_i \\log_2(f_i)$\n",
    "  \n",
    "where $f_i$ is the fraction of items labeled with $i$ in the set and $\\sum f_i = 1$."
   ]
  },
  {
   "cell_type": "code",
   "execution_count": 1,
   "id": "prospective-publication",
   "metadata": {},
   "outputs": [],
   "source": [
    "import pandas as pd\n",
    "import numpy as np\n",
    "import math\n",
    "import  matplotlib.pyplot as plt"
   ]
  },
  {
   "cell_type": "code",
   "execution_count": 2,
   "id": "isolated-birmingham",
   "metadata": {},
   "outputs": [
    {
     "data": {
      "image/png": "[encoded data removed]",
      "text/plain": [
       "<Figure size 432x288 with 1 Axes>"
      ]
     },
     "metadata": {
      "needs_background": "light"
     },
     "output_type": "display_data"
    }
   ],
   "source": [
    "x = np.linspace(start=.001, stop=.999, num=100)  # math.log won't accept 0 or 1\n",
    "y1 = list(map(lambda i: 2 * i * (1 - i), x))\n",
    "y2 = list(map(lambda t: -t * math.log(t, 2) - (1 - t) * math.log((1 - t), 2), x))\n",
    "\n",
    "plt.plot(x, y1, label='gini')\n",
    "plt.plot(x, y2, label='entropy')\n",
    "plt.legend(loc=1)\n",
    "plt.show()"
   ]
  },
  {
   "cell_type": "markdown",
   "id": "seasonal-sleeve",
   "metadata": {},
   "source": [
    "### auto-mpg.data EDA\n",
    "This demonstration uses the full set of `auto-mpg` data which was used in Decision Tree lecture. As the original data is for a regression problem, there are some EDA required to make it a classification problem.\n",
    "\n",
    "There are total 8 features and the target `mpg`. Here is the summary of EDA.\n",
    "\n",
    "1. Make `mpg` **bad** or **good** by labeling 0 or 1, respectively.\n",
    "2. Make rest features into **low**, **medium**, and **high** by labeling 0, 1, and 2, respectively.\n",
    "3. Throw **name** since it is not necessary."
   ]
  },
  {
   "cell_type": "code",
   "execution_count": 3,
   "id": "close-angle",
   "metadata": {},
   "outputs": [],
   "source": [
    "filename = \"auto-mpg.data\"\n",
    "column_names = ['mpg', 'cylinders', 'displacement', 'horsepower', 'weight', 'acceleration', 'year', 'origin', 'name']\n",
    "df = pd.read_csv(filename, delim_whitespace=True, names=column_names)"
   ]
  },
  {
   "cell_type": "code",
   "execution_count": 4,
   "id": "labeled-tenant",
   "metadata": {},
   "outputs": [
    {
     "data": {
      "text/html": [
       "<div>\n",
       "<style scoped>\n",
       "    .dataframe tbody tr th:only-of-type {\n",
       "        vertical-align: middle;\n",
       "    }\n",
       "\n",
       "    .dataframe tbody tr th {\n",
       "        vertical-align: top;\n",
       "    }\n",
       "\n",
       "    .dataframe thead th {\n",
       "        text-align: right;\n",
       "    }\n",
       "</style>\n",
       "<table border=\"1\" class=\"dataframe\">\n",
       "  <thead>\n",
       "    <tr style=\"text-align: right;\">\n",
       "      <th></th>\n",
       "      <th>mpg</th>\n",
       "      <th>cylinders</th>\n",
       "      <th>displacement</th>\n",
       "      <th>horsepower</th>\n",
       "      <th>weight</th>\n",
       "      <th>acceleration</th>\n",
       "      <th>year</th>\n",
       "      <th>origin</th>\n",
       "      <th>name</th>\n",
       "    </tr>\n",
       "  </thead>\n",
       "  <tbody>\n",
       "    <tr>\n",
       "      <th>0</th>\n",
       "      <td>18.0</td>\n",
       "      <td>8</td>\n",
       "      <td>307.0</td>\n",
       "      <td>130.0</td>\n",
       "      <td>3504.0</td>\n",
       "      <td>12.0</td>\n",
       "      <td>70</td>\n",
       "      <td>1</td>\n",
       "      <td>chevrolet chevelle malibu</td>\n",
       "    </tr>\n",
       "    <tr>\n",
       "      <th>1</th>\n",
       "      <td>15.0</td>\n",
       "      <td>8</td>\n",
       "      <td>350.0</td>\n",
       "      <td>165.0</td>\n",
       "      <td>3693.0</td>\n",
       "      <td>11.5</td>\n",
       "      <td>70</td>\n",
       "      <td>1</td>\n",
       "      <td>buick skylark 320</td>\n",
       "    </tr>\n",
       "    <tr>\n",
       "      <th>2</th>\n",
       "      <td>18.0</td>\n",
       "      <td>8</td>\n",
       "      <td>318.0</td>\n",
       "      <td>150.0</td>\n",
       "      <td>3436.0</td>\n",
       "      <td>11.0</td>\n",
       "      <td>70</td>\n",
       "      <td>1</td>\n",
       "      <td>plymouth satellite</td>\n",
       "    </tr>\n",
       "    <tr>\n",
       "      <th>3</th>\n",
       "      <td>16.0</td>\n",
       "      <td>8</td>\n",
       "      <td>304.0</td>\n",
       "      <td>150.0</td>\n",
       "      <td>3433.0</td>\n",
       "      <td>12.0</td>\n",
       "      <td>70</td>\n",
       "      <td>1</td>\n",
       "      <td>amc rebel sst</td>\n",
       "    </tr>\n",
       "    <tr>\n",
       "      <th>4</th>\n",
       "      <td>17.0</td>\n",
       "      <td>8</td>\n",
       "      <td>302.0</td>\n",
       "      <td>140.0</td>\n",
       "      <td>3449.0</td>\n",
       "      <td>10.5</td>\n",
       "      <td>70</td>\n",
       "      <td>1</td>\n",
       "      <td>ford torino</td>\n",
       "    </tr>\n",
       "  </tbody>\n",
       "</table>\n",
       "</div>"
      ],
      "text/plain": [
       "    mpg  cylinders  displacement horsepower  weight  acceleration  year  \\\n",
       "0  18.0          8         307.0      130.0  3504.0          12.0    70   \n",
       "1  15.0          8         350.0      165.0  3693.0          11.5    70   \n",
       "2  18.0          8         318.0      150.0  3436.0          11.0    70   \n",
       "3  16.0          8         304.0      150.0  3433.0          12.0    70   \n",
       "4  17.0          8         302.0      140.0  3449.0          10.5    70   \n",
       "\n",
       "   origin                       name  \n",
       "0       1  chevrolet chevelle malibu  \n",
       "1       1          buick skylark 320  \n",
       "2       1         plymouth satellite  \n",
       "3       1              amc rebel sst  \n",
       "4       1                ford torino  "
      ]
     },
     "execution_count": 4,
     "metadata": {},
     "output_type": "execute_result"
    }
   ],
   "source": [
    "df.head(5)"
   ]
  },
  {
   "cell_type": "code",
   "execution_count": 5,
   "id": "compliant-strap",
   "metadata": {},
   "outputs": [
    {
     "data": {
      "text/plain": [
       "mpg             0.0\n",
       "cylinders       0.0\n",
       "displacement    0.0\n",
       "horsepower      0.0\n",
       "weight          0.0\n",
       "acceleration    0.0\n",
       "year            0.0\n",
       "origin          0.0\n",
       "name            0.0\n",
       "dtype: float64"
      ]
     },
     "execution_count": 5,
     "metadata": {},
     "output_type": "execute_result"
    }
   ],
   "source": [
    "df.isnull().sum() / df.shape[0] * 100.00"
   ]
  },
  {
   "cell_type": "markdown",
   "id": "modern-equality",
   "metadata": {},
   "source": [
    "- There are no missing values and therefore we do not need to worry about imputting missing values."
   ]
  },
  {
   "cell_type": "code",
   "execution_count": 6,
   "id": "absolute-conflict",
   "metadata": {},
   "outputs": [
    {
     "data": {
      "text/plain": [
       "mpg             float64\n",
       "cylinders         int64\n",
       "displacement    float64\n",
       "horsepower       object\n",
       "weight          float64\n",
       "acceleration    float64\n",
       "year              int64\n",
       "origin            int64\n",
       "name             object\n",
       "dtype: object"
      ]
     },
     "execution_count": 6,
     "metadata": {},
     "output_type": "execute_result"
    }
   ],
   "source": [
    "df.dtypes"
   ]
  },
  {
   "cell_type": "markdown",
   "id": "selected-reputation",
   "metadata": {},
   "source": [
    "- `horsepower` has to change to continuous value."
   ]
  },
  {
   "cell_type": "code",
   "execution_count": 7,
   "id": "statutory-magnet",
   "metadata": {},
   "outputs": [],
   "source": [
    "df['horsepower']=pd.to_numeric(df['horsepower'],errors='coerce')"
   ]
  },
  {
   "cell_type": "markdown",
   "id": "formal-punishment",
   "metadata": {},
   "source": [
    "- origin is the continent of makers in the example. America is labelled 1, Europe 2, and Asia 3."
   ]
  },
  {
   "cell_type": "code",
   "execution_count": 8,
   "id": "regular-notification",
   "metadata": {},
   "outputs": [
    {
     "data": {
      "text/plain": [
       "array([1, 3, 2], dtype=int64)"
      ]
     },
     "execution_count": 8,
     "metadata": {},
     "output_type": "execute_result"
    }
   ],
   "source": [
    "df.origin.unique()"
   ]
  },
  {
   "cell_type": "markdown",
   "id": "pursuant-monthly",
   "metadata": {},
   "source": [
    "- Relabel `mpg`. To make this a binary classification, we find the mid-point and make bad for below the mid-point and good above the mid-point."
   ]
  },
  {
   "cell_type": "code",
   "execution_count": 9,
   "id": "indoor-cheese",
   "metadata": {},
   "outputs": [
    {
     "name": "stdout",
     "output_type": "stream",
     "text": [
      "27.8 46.6 9.0\n"
     ]
    }
   ],
   "source": [
    "mpg_cut=(df.mpg.max()+df.mpg.min())/2\n",
    "print(mpg_cut,df.mpg.max(),df.mpg.min())"
   ]
  },
  {
   "cell_type": "code",
   "execution_count": 10,
   "id": "harmful-acceptance",
   "metadata": {},
   "outputs": [],
   "source": [
    "df['year']=df['year'].astype(float)\n",
    "df['mpg'] = pd.cut(df.mpg, bins=[df.mpg.min()-1,mpg_cut,df.mpg.max()], labels=[0,1])"
   ]
  },
  {
   "cell_type": "code",
   "execution_count": 11,
   "id": "generic-malta",
   "metadata": {},
   "outputs": [],
   "source": [
    "def value_cut(data,feature):\n",
    "    for feat in feature:\n",
    "        feat_max=data[feat].max()\n",
    "        feat_min=data[feat].min()\n",
    "        feat_cut1=(feat_max+feat_min)/3\n",
    "        data[feat]=pd.cut(df[feat],bins=[feat_min,feat_cut1,feat_cut1*2,feat_max],labels=[0,1,2])\n",
    "        print(feat,\":\",feat_min,feat_cut1,2*feat_cut1,feat_max)\n",
    "        \n",
    "    return data"
   ]
  },
  {
   "cell_type": "code",
   "execution_count": 12,
   "id": "short-destiny",
   "metadata": {},
   "outputs": [
    {
     "name": "stdout",
     "output_type": "stream",
     "text": [
      "displacement : 68.0 174.33333333333334 348.6666666666667 455.0\n",
      "acceleration : 8.0 10.933333333333332 21.866666666666664 24.8\n",
      "weight : 1613.0 2251.0 4502.0 5140.0\n",
      "horsepower : 46.0 92.0 184.0 230.0\n"
     ]
    },
    {
     "data": {
      "text/html": [
       "<div>\n",
       "<style scoped>\n",
       "    .dataframe tbody tr th:only-of-type {\n",
       "        vertical-align: middle;\n",
       "    }\n",
       "\n",
       "    .dataframe tbody tr th {\n",
       "        vertical-align: top;\n",
       "    }\n",
       "\n",
       "    .dataframe thead th {\n",
       "        text-align: right;\n",
       "    }\n",
       "</style>\n",
       "<table border=\"1\" class=\"dataframe\">\n",
       "  <thead>\n",
       "    <tr style=\"text-align: right;\">\n",
       "      <th></th>\n",
       "      <th>mpg</th>\n",
       "      <th>cylinders</th>\n",
       "      <th>displacement</th>\n",
       "      <th>horsepower</th>\n",
       "      <th>weight</th>\n",
       "      <th>acceleration</th>\n",
       "      <th>year</th>\n",
       "      <th>origin</th>\n",
       "      <th>name</th>\n",
       "    </tr>\n",
       "  </thead>\n",
       "  <tbody>\n",
       "    <tr>\n",
       "      <th>0</th>\n",
       "      <td>0</td>\n",
       "      <td>8</td>\n",
       "      <td>1</td>\n",
       "      <td>1</td>\n",
       "      <td>1</td>\n",
       "      <td>1</td>\n",
       "      <td>70.0</td>\n",
       "      <td>1</td>\n",
       "      <td>chevrolet chevelle malibu</td>\n",
       "    </tr>\n",
       "    <tr>\n",
       "      <th>1</th>\n",
       "      <td>0</td>\n",
       "      <td>8</td>\n",
       "      <td>2</td>\n",
       "      <td>1</td>\n",
       "      <td>1</td>\n",
       "      <td>1</td>\n",
       "      <td>70.0</td>\n",
       "      <td>1</td>\n",
       "      <td>buick skylark 320</td>\n",
       "    </tr>\n",
       "    <tr>\n",
       "      <th>2</th>\n",
       "      <td>0</td>\n",
       "      <td>8</td>\n",
       "      <td>1</td>\n",
       "      <td>1</td>\n",
       "      <td>1</td>\n",
       "      <td>1</td>\n",
       "      <td>70.0</td>\n",
       "      <td>1</td>\n",
       "      <td>plymouth satellite</td>\n",
       "    </tr>\n",
       "    <tr>\n",
       "      <th>3</th>\n",
       "      <td>0</td>\n",
       "      <td>8</td>\n",
       "      <td>1</td>\n",
       "      <td>1</td>\n",
       "      <td>1</td>\n",
       "      <td>1</td>\n",
       "      <td>70.0</td>\n",
       "      <td>1</td>\n",
       "      <td>amc rebel sst</td>\n",
       "    </tr>\n",
       "    <tr>\n",
       "      <th>4</th>\n",
       "      <td>0</td>\n",
       "      <td>8</td>\n",
       "      <td>1</td>\n",
       "      <td>1</td>\n",
       "      <td>1</td>\n",
       "      <td>0</td>\n",
       "      <td>70.0</td>\n",
       "      <td>1</td>\n",
       "      <td>ford torino</td>\n",
       "    </tr>\n",
       "    <tr>\n",
       "      <th>...</th>\n",
       "      <td>...</td>\n",
       "      <td>...</td>\n",
       "      <td>...</td>\n",
       "      <td>...</td>\n",
       "      <td>...</td>\n",
       "      <td>...</td>\n",
       "      <td>...</td>\n",
       "      <td>...</td>\n",
       "      <td>...</td>\n",
       "    </tr>\n",
       "    <tr>\n",
       "      <th>393</th>\n",
       "      <td>0</td>\n",
       "      <td>4</td>\n",
       "      <td>0</td>\n",
       "      <td>0</td>\n",
       "      <td>1</td>\n",
       "      <td>1</td>\n",
       "      <td>82.0</td>\n",
       "      <td>1</td>\n",
       "      <td>ford mustang gl</td>\n",
       "    </tr>\n",
       "    <tr>\n",
       "      <th>394</th>\n",
       "      <td>1</td>\n",
       "      <td>4</td>\n",
       "      <td>0</td>\n",
       "      <td>0</td>\n",
       "      <td>0</td>\n",
       "      <td>2</td>\n",
       "      <td>82.0</td>\n",
       "      <td>2</td>\n",
       "      <td>vw pickup</td>\n",
       "    </tr>\n",
       "    <tr>\n",
       "      <th>395</th>\n",
       "      <td>1</td>\n",
       "      <td>4</td>\n",
       "      <td>0</td>\n",
       "      <td>0</td>\n",
       "      <td>1</td>\n",
       "      <td>1</td>\n",
       "      <td>82.0</td>\n",
       "      <td>1</td>\n",
       "      <td>dodge rampage</td>\n",
       "    </tr>\n",
       "    <tr>\n",
       "      <th>396</th>\n",
       "      <td>1</td>\n",
       "      <td>4</td>\n",
       "      <td>0</td>\n",
       "      <td>0</td>\n",
       "      <td>1</td>\n",
       "      <td>1</td>\n",
       "      <td>82.0</td>\n",
       "      <td>1</td>\n",
       "      <td>ford ranger</td>\n",
       "    </tr>\n",
       "    <tr>\n",
       "      <th>397</th>\n",
       "      <td>1</td>\n",
       "      <td>4</td>\n",
       "      <td>0</td>\n",
       "      <td>0</td>\n",
       "      <td>1</td>\n",
       "      <td>1</td>\n",
       "      <td>82.0</td>\n",
       "      <td>1</td>\n",
       "      <td>chevy s-10</td>\n",
       "    </tr>\n",
       "  </tbody>\n",
       "</table>\n",
       "<p>398 rows × 9 columns</p>\n",
       "</div>"
      ],
      "text/plain": [
       "    mpg  cylinders displacement horsepower weight acceleration  year  origin  \\\n",
       "0     0          8            1          1      1            1  70.0       1   \n",
       "1     0          8            2          1      1            1  70.0       1   \n",
       "2     0          8            1          1      1            1  70.0       1   \n",
       "3     0          8            1          1      1            1  70.0       1   \n",
       "4     0          8            1          1      1            0  70.0       1   \n",
       "..   ..        ...          ...        ...    ...          ...   ...     ...   \n",
       "393   0          4            0          0      1            1  82.0       1   \n",
       "394   1          4            0          0      0            2  82.0       2   \n",
       "395   1          4            0          0      1            1  82.0       1   \n",
       "396   1          4            0          0      1            1  82.0       1   \n",
       "397   1          4            0          0      1            1  82.0       1   \n",
       "\n",
       "                          name  \n",
       "0    chevrolet chevelle malibu  \n",
       "1            buick skylark 320  \n",
       "2           plymouth satellite  \n",
       "3                amc rebel sst  \n",
       "4                  ford torino  \n",
       "..                         ...  \n",
       "393            ford mustang gl  \n",
       "394                  vw pickup  \n",
       "395              dodge rampage  \n",
       "396                ford ranger  \n",
       "397                 chevy s-10  \n",
       "\n",
       "[398 rows x 9 columns]"
      ]
     },
     "execution_count": 12,
     "metadata": {},
     "output_type": "execute_result"
    }
   ],
   "source": [
    "value_cut(df,['displacement','acceleration','weight','horsepower'])"
   ]
  },
  {
   "cell_type": "markdown",
   "id": "agricultural-taiwan",
   "metadata": {},
   "source": [
    "- displacement, horsepower, weight, and acceleration are categorized as 0, 1, and 2."
   ]
  },
  {
   "cell_type": "code",
   "execution_count": 13,
   "id": "political-morgan",
   "metadata": {},
   "outputs": [
    {
     "name": "stdout",
     "output_type": "stream",
     "text": [
      "70.0 82.0 3.0\n",
      "[69.0, 74.0, 78.0, 82.0]\n"
     ]
    }
   ],
   "source": [
    "yearmin=df.year.min()\n",
    "yearmax=df.year.max()\n",
    "x=(yearmax-yearmin)/4\n",
    "print(yearmin,yearmax,x)\n",
    "yearlist=[yearmin-1,yearmin+4,yearmin+8,yearmax]\n",
    "print(yearlist)"
   ]
  },
  {
   "cell_type": "code",
   "execution_count": 14,
   "id": "portable-medicine",
   "metadata": {},
   "outputs": [],
   "source": [
    "df['year'] = pd.cut(df.year, bins=yearlist, labels=[0,1,2])"
   ]
  },
  {
   "cell_type": "markdown",
   "id": "promotional-wayne",
   "metadata": {},
   "source": [
    "We can calculate Gini Index to find which feature is appropriate to split first.\n",
    "\n",
    "- We find that cylinders and year are two highest IG.\n",
    "- Since year has the highest, it is the most appropriate feature to start splitting."
   ]
  },
  {
   "cell_type": "code",
   "execution_count": 15,
   "id": "coral-vector",
   "metadata": {},
   "outputs": [],
   "source": [
    "from collections import Counter\n",
    "import math\n",
    "\n",
    "def purity(L, metric='gini'):\n",
    "    total = len(L)\n",
    "    freq = map(lambda x: float(x) / total, list(Counter(L).values()))\n",
    "    if metric == 'gini':\n",
    "        scores = map(lambda x: x * (1 - x), freq)\n",
    "    elif metric == 'entropy':\n",
    "        scores = map(lambda x: -x * math.log(x, 2), freq)\n",
    "    return sum(scores)"
   ]
  },
  {
   "cell_type": "code",
   "execution_count": 16,
   "id": "extreme-rolling",
   "metadata": {},
   "outputs": [
    {
     "name": "stdout",
     "output_type": "stream",
     "text": [
      "cylinders 0.6256028888159391\n",
      "displacement 0.5762354485997828\n",
      "horsepower 0.5580793414307719\n",
      "weight 0.4478801040377767\n",
      "acceleration 0.09215676371808797\n",
      "year 0.6628115451630009\n",
      "origin 0.5382566096815737\n"
     ]
    }
   ],
   "source": [
    "for feat in ['cylinders','displacement','horsepower','weight','acceleration','year','origin']:\n",
    "    L=list(df[feat])\n",
    "    print(feat,purity(L))"
   ]
  },
  {
   "cell_type": "code",
   "execution_count": 17,
   "id": "attempted-geometry",
   "metadata": {},
   "outputs": [
    {
     "data": {
      "text/html": [
       "<div>\n",
       "<style scoped>\n",
       "    .dataframe tbody tr th:only-of-type {\n",
       "        vertical-align: middle;\n",
       "    }\n",
       "\n",
       "    .dataframe tbody tr th {\n",
       "        vertical-align: top;\n",
       "    }\n",
       "\n",
       "    .dataframe thead th {\n",
       "        text-align: right;\n",
       "    }\n",
       "</style>\n",
       "<table border=\"1\" class=\"dataframe\">\n",
       "  <thead>\n",
       "    <tr style=\"text-align: right;\">\n",
       "      <th></th>\n",
       "      <th></th>\n",
       "      <th>cylinders</th>\n",
       "      <th>displacement</th>\n",
       "      <th>horsepower</th>\n",
       "      <th>weight</th>\n",
       "      <th>acceleration</th>\n",
       "      <th>origin</th>\n",
       "      <th>name</th>\n",
       "    </tr>\n",
       "    <tr>\n",
       "      <th>year</th>\n",
       "      <th>mpg</th>\n",
       "      <th></th>\n",
       "      <th></th>\n",
       "      <th></th>\n",
       "      <th></th>\n",
       "      <th></th>\n",
       "      <th></th>\n",
       "      <th></th>\n",
       "    </tr>\n",
       "  </thead>\n",
       "  <tbody>\n",
       "    <tr>\n",
       "      <th rowspan=\"2\" valign=\"top\">0</th>\n",
       "      <th>0</th>\n",
       "      <td>136</td>\n",
       "      <td>136</td>\n",
       "      <td>132</td>\n",
       "      <td>136</td>\n",
       "      <td>135</td>\n",
       "      <td>136</td>\n",
       "      <td>136</td>\n",
       "    </tr>\n",
       "    <tr>\n",
       "      <th>1</th>\n",
       "      <td>16</td>\n",
       "      <td>15</td>\n",
       "      <td>16</td>\n",
       "      <td>15</td>\n",
       "      <td>16</td>\n",
       "      <td>16</td>\n",
       "      <td>16</td>\n",
       "    </tr>\n",
       "    <tr>\n",
       "      <th rowspan=\"2\" valign=\"top\">1</th>\n",
       "      <th>0</th>\n",
       "      <td>100</td>\n",
       "      <td>100</td>\n",
       "      <td>100</td>\n",
       "      <td>100</td>\n",
       "      <td>100</td>\n",
       "      <td>100</td>\n",
       "      <td>100</td>\n",
       "    </tr>\n",
       "    <tr>\n",
       "      <th>1</th>\n",
       "      <td>28</td>\n",
       "      <td>28</td>\n",
       "      <td>28</td>\n",
       "      <td>28</td>\n",
       "      <td>28</td>\n",
       "      <td>28</td>\n",
       "      <td>28</td>\n",
       "    </tr>\n",
       "    <tr>\n",
       "      <th rowspan=\"2\" valign=\"top\">2</th>\n",
       "      <th>0</th>\n",
       "      <td>43</td>\n",
       "      <td>43</td>\n",
       "      <td>41</td>\n",
       "      <td>43</td>\n",
       "      <td>43</td>\n",
       "      <td>43</td>\n",
       "      <td>43</td>\n",
       "    </tr>\n",
       "    <tr>\n",
       "      <th>1</th>\n",
       "      <td>75</td>\n",
       "      <td>75</td>\n",
       "      <td>73</td>\n",
       "      <td>75</td>\n",
       "      <td>75</td>\n",
       "      <td>75</td>\n",
       "      <td>75</td>\n",
       "    </tr>\n",
       "  </tbody>\n",
       "</table>\n",
       "</div>"
      ],
      "text/plain": [
       "          cylinders  displacement  horsepower  weight  acceleration  origin  \\\n",
       "year mpg                                                                      \n",
       "0    0          136           136         132     136           135     136   \n",
       "     1           16            15          16      15            16      16   \n",
       "1    0          100           100         100     100           100     100   \n",
       "     1           28            28          28      28            28      28   \n",
       "2    0           43            43          41      43            43      43   \n",
       "     1           75            75          73      75            75      75   \n",
       "\n",
       "          name  \n",
       "year mpg        \n",
       "0    0     136  \n",
       "     1      16  \n",
       "1    0     100  \n",
       "     1      28  \n",
       "2    0      43  \n",
       "     1      75  "
      ]
     },
     "execution_count": 17,
     "metadata": {},
     "output_type": "execute_result"
    }
   ],
   "source": [
    "df.groupby(['year','mpg']).count()"
   ]
  },
  {
   "cell_type": "code",
   "execution_count": 18,
   "id": "executive-arena",
   "metadata": {},
   "outputs": [
    {
     "data": {
      "text/html": [
       "<div>\n",
       "<style scoped>\n",
       "    .dataframe tbody tr th:only-of-type {\n",
       "        vertical-align: middle;\n",
       "    }\n",
       "\n",
       "    .dataframe tbody tr th {\n",
       "        vertical-align: top;\n",
       "    }\n",
       "\n",
       "    .dataframe thead th {\n",
       "        text-align: right;\n",
       "    }\n",
       "</style>\n",
       "<table border=\"1\" class=\"dataframe\">\n",
       "  <thead>\n",
       "    <tr style=\"text-align: right;\">\n",
       "      <th></th>\n",
       "      <th></th>\n",
       "      <th>displacement</th>\n",
       "      <th>horsepower</th>\n",
       "      <th>weight</th>\n",
       "      <th>acceleration</th>\n",
       "      <th>year</th>\n",
       "      <th>origin</th>\n",
       "      <th>name</th>\n",
       "    </tr>\n",
       "    <tr>\n",
       "      <th>cylinders</th>\n",
       "      <th>mpg</th>\n",
       "      <th></th>\n",
       "      <th></th>\n",
       "      <th></th>\n",
       "      <th></th>\n",
       "      <th></th>\n",
       "      <th></th>\n",
       "      <th></th>\n",
       "    </tr>\n",
       "  </thead>\n",
       "  <tbody>\n",
       "    <tr>\n",
       "      <th rowspan=\"2\" valign=\"top\">3</th>\n",
       "      <th>0</th>\n",
       "      <td>4</td>\n",
       "      <td>4</td>\n",
       "      <td>4</td>\n",
       "      <td>4</td>\n",
       "      <td>4</td>\n",
       "      <td>4</td>\n",
       "      <td>4</td>\n",
       "    </tr>\n",
       "    <tr>\n",
       "      <th>1</th>\n",
       "      <td>0</td>\n",
       "      <td>0</td>\n",
       "      <td>0</td>\n",
       "      <td>0</td>\n",
       "      <td>0</td>\n",
       "      <td>0</td>\n",
       "      <td>0</td>\n",
       "    </tr>\n",
       "    <tr>\n",
       "      <th rowspan=\"2\" valign=\"top\">4</th>\n",
       "      <th>0</th>\n",
       "      <td>90</td>\n",
       "      <td>85</td>\n",
       "      <td>90</td>\n",
       "      <td>90</td>\n",
       "      <td>90</td>\n",
       "      <td>90</td>\n",
       "      <td>90</td>\n",
       "    </tr>\n",
       "    <tr>\n",
       "      <th>1</th>\n",
       "      <td>113</td>\n",
       "      <td>112</td>\n",
       "      <td>113</td>\n",
       "      <td>114</td>\n",
       "      <td>114</td>\n",
       "      <td>114</td>\n",
       "      <td>114</td>\n",
       "    </tr>\n",
       "    <tr>\n",
       "      <th rowspan=\"2\" valign=\"top\">5</th>\n",
       "      <th>0</th>\n",
       "      <td>2</td>\n",
       "      <td>2</td>\n",
       "      <td>2</td>\n",
       "      <td>2</td>\n",
       "      <td>2</td>\n",
       "      <td>2</td>\n",
       "      <td>2</td>\n",
       "    </tr>\n",
       "    <tr>\n",
       "      <th>1</th>\n",
       "      <td>1</td>\n",
       "      <td>1</td>\n",
       "      <td>1</td>\n",
       "      <td>1</td>\n",
       "      <td>1</td>\n",
       "      <td>1</td>\n",
       "      <td>1</td>\n",
       "    </tr>\n",
       "    <tr>\n",
       "      <th rowspan=\"2\" valign=\"top\">6</th>\n",
       "      <th>0</th>\n",
       "      <td>80</td>\n",
       "      <td>79</td>\n",
       "      <td>80</td>\n",
       "      <td>80</td>\n",
       "      <td>80</td>\n",
       "      <td>80</td>\n",
       "      <td>80</td>\n",
       "    </tr>\n",
       "    <tr>\n",
       "      <th>1</th>\n",
       "      <td>4</td>\n",
       "      <td>4</td>\n",
       "      <td>4</td>\n",
       "      <td>4</td>\n",
       "      <td>4</td>\n",
       "      <td>4</td>\n",
       "      <td>4</td>\n",
       "    </tr>\n",
       "    <tr>\n",
       "      <th rowspan=\"2\" valign=\"top\">8</th>\n",
       "      <th>0</th>\n",
       "      <td>103</td>\n",
       "      <td>103</td>\n",
       "      <td>103</td>\n",
       "      <td>102</td>\n",
       "      <td>103</td>\n",
       "      <td>103</td>\n",
       "      <td>103</td>\n",
       "    </tr>\n",
       "    <tr>\n",
       "      <th>1</th>\n",
       "      <td>0</td>\n",
       "      <td>0</td>\n",
       "      <td>0</td>\n",
       "      <td>0</td>\n",
       "      <td>0</td>\n",
       "      <td>0</td>\n",
       "      <td>0</td>\n",
       "    </tr>\n",
       "  </tbody>\n",
       "</table>\n",
       "</div>"
      ],
      "text/plain": [
       "               displacement  horsepower  weight  acceleration  year  origin  \\\n",
       "cylinders mpg                                                                 \n",
       "3         0               4           4       4             4     4       4   \n",
       "          1               0           0       0             0     0       0   \n",
       "4         0              90          85      90            90    90      90   \n",
       "          1             113         112     113           114   114     114   \n",
       "5         0               2           2       2             2     2       2   \n",
       "          1               1           1       1             1     1       1   \n",
       "6         0              80          79      80            80    80      80   \n",
       "          1               4           4       4             4     4       4   \n",
       "8         0             103         103     103           102   103     103   \n",
       "          1               0           0       0             0     0       0   \n",
       "\n",
       "               name  \n",
       "cylinders mpg        \n",
       "3         0       4  \n",
       "          1       0  \n",
       "4         0      90  \n",
       "          1     114  \n",
       "5         0       2  \n",
       "          1       1  \n",
       "6         0      80  \n",
       "          1       4  \n",
       "8         0     103  \n",
       "          1       0  "
      ]
     },
     "execution_count": 18,
     "metadata": {},
     "output_type": "execute_result"
    }
   ],
   "source": [
    "df.groupby(['cylinders','mpg']).count()"
   ]
  },
  {
   "cell_type": "code",
   "execution_count": 19,
   "id": "mediterranean-matter",
   "metadata": {},
   "outputs": [
    {
     "data": {
      "text/html": [
       "<div>\n",
       "<style scoped>\n",
       "    .dataframe tbody tr th:only-of-type {\n",
       "        vertical-align: middle;\n",
       "    }\n",
       "\n",
       "    .dataframe tbody tr th {\n",
       "        vertical-align: top;\n",
       "    }\n",
       "\n",
       "    .dataframe thead th {\n",
       "        text-align: right;\n",
       "    }\n",
       "</style>\n",
       "<table border=\"1\" class=\"dataframe\">\n",
       "  <thead>\n",
       "    <tr style=\"text-align: right;\">\n",
       "      <th></th>\n",
       "      <th></th>\n",
       "      <th>cylinders</th>\n",
       "      <th>displacement</th>\n",
       "      <th>horsepower</th>\n",
       "      <th>weight</th>\n",
       "      <th>year</th>\n",
       "      <th>origin</th>\n",
       "      <th>name</th>\n",
       "    </tr>\n",
       "    <tr>\n",
       "      <th>acceleration</th>\n",
       "      <th>mpg</th>\n",
       "      <th></th>\n",
       "      <th></th>\n",
       "      <th></th>\n",
       "      <th></th>\n",
       "      <th></th>\n",
       "      <th></th>\n",
       "      <th></th>\n",
       "    </tr>\n",
       "  </thead>\n",
       "  <tbody>\n",
       "    <tr>\n",
       "      <th rowspan=\"2\" valign=\"top\">0</th>\n",
       "      <th>0</th>\n",
       "      <td>10</td>\n",
       "      <td>10</td>\n",
       "      <td>10</td>\n",
       "      <td>10</td>\n",
       "      <td>10</td>\n",
       "      <td>10</td>\n",
       "      <td>10</td>\n",
       "    </tr>\n",
       "    <tr>\n",
       "      <th>1</th>\n",
       "      <td>0</td>\n",
       "      <td>0</td>\n",
       "      <td>0</td>\n",
       "      <td>0</td>\n",
       "      <td>0</td>\n",
       "      <td>0</td>\n",
       "      <td>0</td>\n",
       "    </tr>\n",
       "    <tr>\n",
       "      <th rowspan=\"2\" valign=\"top\">1</th>\n",
       "      <th>0</th>\n",
       "      <td>263</td>\n",
       "      <td>263</td>\n",
       "      <td>257</td>\n",
       "      <td>263</td>\n",
       "      <td>263</td>\n",
       "      <td>263</td>\n",
       "      <td>263</td>\n",
       "    </tr>\n",
       "    <tr>\n",
       "      <th>1</th>\n",
       "      <td>116</td>\n",
       "      <td>115</td>\n",
       "      <td>114</td>\n",
       "      <td>115</td>\n",
       "      <td>116</td>\n",
       "      <td>116</td>\n",
       "      <td>116</td>\n",
       "    </tr>\n",
       "    <tr>\n",
       "      <th rowspan=\"2\" valign=\"top\">2</th>\n",
       "      <th>0</th>\n",
       "      <td>5</td>\n",
       "      <td>5</td>\n",
       "      <td>5</td>\n",
       "      <td>5</td>\n",
       "      <td>5</td>\n",
       "      <td>5</td>\n",
       "      <td>5</td>\n",
       "    </tr>\n",
       "    <tr>\n",
       "      <th>1</th>\n",
       "      <td>3</td>\n",
       "      <td>3</td>\n",
       "      <td>3</td>\n",
       "      <td>3</td>\n",
       "      <td>3</td>\n",
       "      <td>3</td>\n",
       "      <td>3</td>\n",
       "    </tr>\n",
       "  </tbody>\n",
       "</table>\n",
       "</div>"
      ],
      "text/plain": [
       "                  cylinders  displacement  horsepower  weight  year  origin  \\\n",
       "acceleration mpg                                                              \n",
       "0            0           10            10          10      10    10      10   \n",
       "             1            0             0           0       0     0       0   \n",
       "1            0          263           263         257     263   263     263   \n",
       "             1          116           115         114     115   116     116   \n",
       "2            0            5             5           5       5     5       5   \n",
       "             1            3             3           3       3     3       3   \n",
       "\n",
       "                  name  \n",
       "acceleration mpg        \n",
       "0            0      10  \n",
       "             1       0  \n",
       "1            0     263  \n",
       "             1     116  \n",
       "2            0       5  \n",
       "             1       3  "
      ]
     },
     "execution_count": 19,
     "metadata": {},
     "output_type": "execute_result"
    }
   ],
   "source": [
    "df.groupby(['acceleration','mpg']).count()"
   ]
  },
  {
   "cell_type": "code",
   "execution_count": 20,
   "id": "involved-worth",
   "metadata": {},
   "outputs": [],
   "source": [
    "from sklearn import tree\n",
    "tree_model = tree.DecisionTreeClassifier()"
   ]
  },
  {
   "cell_type": "markdown",
   "id": "unique-question",
   "metadata": {},
   "source": [
    "### Arguments:\n",
    "- criterion: \"gini\" or \"entropy\", corresponding to the criteria of \"gini impurity\" and \"information gain\". default = 'gini'.\n",
    "\n",
    "- max_depth: The maximum depth of the tree. default = None, which means the nodes will be expanded until all leaves are pure or until all leaves contain less than min_samples_split samples.\n",
    "\n",
    "- min_samples_split: The minimum number of samples required to split. default = 2.\n",
    "\n",
    "- min_samples_leaf : The minimum number of samples required to be at a terminate node. default = 1.\n",
    "\n",
    "#### Methods:\n",
    "\n",
    "- fit: Build a decision tree from the training set (X, y).\n",
    "\n",
    "- predict: Predict class or regression value for X.\n",
    "\n",
    "- predict_log_proba Predict class log-probabilities of the input samples X.\n",
    "\n",
    "- predict_proba Predict class probabilities of the input samples X.\n",
    "\n",
    "- score: Return the mean accuracy on the given test data and labels.\n",
    "\n",
    "- set_params: Set the parameters of this estimator.\n",
    "\n",
    "- get_params: Get parameters for this estimator.\n",
    "\n",
    "#### Attributes:\n",
    "\n",
    "- tree_: Tree object, the underlying tree object.\n",
    "\n",
    "- feature_importances_: The feature importances. The higher, the more important the feature. Also known as gini importance."
   ]
  },
  {
   "cell_type": "code",
   "execution_count": 21,
   "id": "banned-personal",
   "metadata": {},
   "outputs": [],
   "source": [
    "df=df.iloc[:,0:7]"
   ]
  },
  {
   "cell_type": "code",
   "execution_count": 22,
   "id": "compliant-aggregate",
   "metadata": {},
   "outputs": [
    {
     "data": {
      "text/plain": [
       "DecisionTreeClassifier()"
      ]
     },
     "execution_count": 22,
     "metadata": {},
     "output_type": "execute_result"
    }
   ],
   "source": [
    "tree_model.fit(df.iloc[:,1:7], df.mpg)"
   ]
  },
  {
   "cell_type": "code",
   "execution_count": 23,
   "id": "excess-faculty",
   "metadata": {},
   "outputs": [
    {
     "name": "stdout",
     "output_type": "stream",
     "text": [
      "['cylinders', 'displacement', 'horsepower', 'weight', 'acceleration', 'year']\n",
      "[0.01887258 0.08906513 0.03933574 0.57160988 0.00617809 0.27493858]\n"
     ]
    }
   ],
   "source": [
    "print(list(df.iloc[:,1:7].columns))\n",
    "print(tree_model.feature_importances_)"
   ]
  },
  {
   "cell_type": "code",
   "execution_count": 24,
   "id": "personalized-trash",
   "metadata": {},
   "outputs": [],
   "source": [
    "import sklearn.model_selection as model_selection\n",
    "x_train, x_test, y_train, y_test = model_selection.train_test_split(df.iloc[:,1:7], df.mpg, train_size=0.8,test_size=0.2)"
   ]
  },
  {
   "cell_type": "code",
   "execution_count": 25,
   "id": "proprietary-vegetation",
   "metadata": {},
   "outputs": [
    {
     "name": "stdout",
     "output_type": "stream",
     "text": [
      "The training error is: 0.08176\n",
      "The test error is: 0.18750\n"
     ]
    }
   ],
   "source": [
    "tree_model.fit(x_train, y_train)\n",
    "train_error = (1 - tree_model.score(x_train, y_train))\n",
    "test_error = (1 - tree_model.score(x_test, y_test))\n",
    "print(\"The training error is: %.5f\" %train_error)\n",
    "print(\"The test error is: %.5f\" %test_error)"
   ]
  },
  {
   "cell_type": "code",
   "execution_count": null,
   "id": "sealed-present",
   "metadata": {},
   "outputs": [],
   "source": []
  },
  {
   "cell_type": "code",
   "execution_count": 26,
   "id": "delayed-pakistan",
   "metadata": {},
   "outputs": [
    {
     "name": "stdout",
     "output_type": "stream",
     "text": [
      "['cylinders', 'displacement', 'horsepower', 'weight', 'acceleration', 'year']\n",
      "[0.02311229 0.0929917  0.03387246 0.58402534 0.01040887 0.25558933]\n"
     ]
    }
   ],
   "source": [
    "feature_importance = tree_model.feature_importances_\n",
    "print([t[1] for t in zip(feature_importance, x_train.columns) if t[0]>0])\n",
    "print(feature_importance)"
   ]
  },
  {
   "cell_type": "code",
   "execution_count": 27,
   "id": "answering-coffee",
   "metadata": {},
   "outputs": [
    {
     "name": "stdout",
     "output_type": "stream",
     "text": [
      "Wall time: 4.22 s\n"
     ]
    },
    {
     "data": {
      "text/plain": [
       "GridSearchCV(cv=5, estimator=DecisionTreeClassifier(random_state=108),\n",
       "             n_jobs=-1,\n",
       "             param_grid=[{'criterion': ['gini', 'entropy'],\n",
       "                          'min_samples_leaf': range(1, 10),\n",
       "                          'min_samples_split': array([ 2,  4,  6,  8, 10, 12, 14, 16, 18, 20, 22, 24, 26, 28, 30])}],\n",
       "             scoring='accuracy')"
      ]
     },
     "execution_count": 27,
     "metadata": {},
     "output_type": "execute_result"
    }
   ],
   "source": [
    "from sklearn.model_selection import GridSearchCV\n",
    "grid_para_tree = [{\n",
    "    \"criterion\": [\"gini\", \"entropy\"],\n",
    "    \"min_samples_leaf\": range(1, 10),\n",
    "    \"min_samples_split\": np.linspace(start=2, stop=30, num=15, dtype=int)\n",
    "}]\n",
    "tree_model.set_params(random_state=108)\n",
    "grid_search_tree = GridSearchCV(tree_model, grid_para_tree, cv=5, scoring='accuracy', n_jobs=-1)\n",
    "%time grid_search_tree.fit(x_train, y_train)"
   ]
  },
  {
   "cell_type": "code",
   "execution_count": 28,
   "id": "freelance-sphere",
   "metadata": {},
   "outputs": [
    {
     "name": "stdout",
     "output_type": "stream",
     "text": [
      "{'criterion': 'entropy', 'min_samples_leaf': 1, 'min_samples_split': 24}\n",
      "0.886656746031746\n",
      "0.9182389937106918\n",
      "0.825\n"
     ]
    }
   ],
   "source": [
    "print(grid_search_tree.best_params_)\n",
    "print(grid_search_tree.best_score_)\n",
    "print(grid_search_tree.score(x_train, y_train))\n",
    "print(grid_search_tree.score(x_test, y_test))"
   ]
  },
  {
   "cell_type": "code",
   "execution_count": 29,
   "id": "promising-necklace",
   "metadata": {},
   "outputs": [
    {
     "data": {
      "image/png": "[encoded data removed]",
      "text/plain": [
       "<Figure size 432x288 with 1 Axes>"
      ]
     },
     "metadata": {
      "needs_background": "light"
     },
     "output_type": "display_data"
    }
   ],
   "source": [
    "depth = range(1, 20)\n",
    "train_error = []\n",
    "test_error = []\n",
    "for i in depth:\n",
    "    tree_model.set_params(max_depth=i, min_samples_leaf=1)\n",
    "    tree_model.fit(x_train, y_train)\n",
    "    train_error.append(1 - tree_model.score(x_train, y_train))\n",
    "    test_error.append(1 - tree_model.score(x_test, y_test))\n",
    "\n",
    "import matplotlib.pyplot as plt\n",
    "plt.plot(depth, train_error, c='red', label='training error')\n",
    "plt.plot(depth, test_error, c='blue', label='test error')\n",
    "plt.ylim(0.08, 0.35)\n",
    "plt.legend()\n",
    "plt.show()"
   ]
  },
  {
   "cell_type": "markdown",
   "id": "neutral-entrepreneur",
   "metadata": {},
   "source": [
    "## Decision Tree Regression"
   ]
  },
  {
   "cell_type": "code",
   "execution_count": 30,
   "id": "occupied-uruguay",
   "metadata": {},
   "outputs": [],
   "source": [
    "import pandas as pd\n",
    "import matplotlib.pyplot as plt\n",
    "import numpy as np\n",
    "from sklearn.tree import DecisionTreeRegressor\n",
    "from sklearn import tree\n",
    "from sklearn.preprocessing import LabelEncoder\n",
    "from sklearn.model_selection import GridSearchCV, cross_val_score\n",
    "from sklearn.metrics import mean_squared_error\n",
    "import warnings\n",
    "warnings.filterwarnings('ignore')"
   ]
  },
  {
   "cell_type": "code",
   "execution_count": 31,
   "id": "serious-threat",
   "metadata": {},
   "outputs": [],
   "source": [
    "hitters = pd.read_csv('Hitters.csv')"
   ]
  },
  {
   "cell_type": "code",
   "execution_count": 32,
   "id": "unusual-retailer",
   "metadata": {},
   "outputs": [
    {
     "data": {
      "text/plain": [
       "AtBat          int64\n",
       "Hits           int64\n",
       "HmRun          int64\n",
       "Runs           int64\n",
       "RBI            int64\n",
       "Walks          int64\n",
       "Years          int64\n",
       "CAtBat         int64\n",
       "CHits          int64\n",
       "CHmRun         int64\n",
       "CRuns          int64\n",
       "CRBI           int64\n",
       "CWalks         int64\n",
       "League        object\n",
       "Division      object\n",
       "PutOuts        int64\n",
       "Assists        int64\n",
       "Errors         int64\n",
       "Salary       float64\n",
       "NewLeague     object\n",
       "dtype: object"
      ]
     },
     "execution_count": 32,
     "metadata": {},
     "output_type": "execute_result"
    }
   ],
   "source": [
    "hitters.dtypes"
   ]
  },
  {
   "cell_type": "code",
   "execution_count": 33,
   "id": "copyrighted-bouquet",
   "metadata": {},
   "outputs": [
    {
     "data": {
      "text/plain": [
       "AtBat         0.000000\n",
       "Hits          0.000000\n",
       "HmRun         0.000000\n",
       "Runs          0.000000\n",
       "RBI           0.000000\n",
       "Walks         0.000000\n",
       "Years         0.000000\n",
       "CAtBat        0.000000\n",
       "CHits         0.000000\n",
       "CHmRun        0.000000\n",
       "CRuns         0.000000\n",
       "CRBI          0.000000\n",
       "CWalks        0.000000\n",
       "League        0.000000\n",
       "Division      0.000000\n",
       "PutOuts       0.000000\n",
       "Assists       0.000000\n",
       "Errors        0.000000\n",
       "Salary       18.322981\n",
       "NewLeague     0.000000\n",
       "dtype: float64"
      ]
     },
     "execution_count": 33,
     "metadata": {},
     "output_type": "execute_result"
    }
   ],
   "source": [
    "hitters.isnull().sum()/hitters.shape[0]*100"
   ]
  },
  {
   "cell_type": "code",
   "execution_count": 34,
   "id": "visible-puzzle",
   "metadata": {},
   "outputs": [
    {
     "data": {
      "text/html": [
       "<div>\n",
       "<style scoped>\n",
       "    .dataframe tbody tr th:only-of-type {\n",
       "        vertical-align: middle;\n",
       "    }\n",
       "\n",
       "    .dataframe tbody tr th {\n",
       "        vertical-align: top;\n",
       "    }\n",
       "\n",
       "    .dataframe thead th {\n",
       "        text-align: right;\n",
       "    }\n",
       "</style>\n",
       "<table border=\"1\" class=\"dataframe\">\n",
       "  <thead>\n",
       "    <tr style=\"text-align: right;\">\n",
       "      <th></th>\n",
       "      <th>count</th>\n",
       "      <th>mean</th>\n",
       "      <th>std</th>\n",
       "      <th>min</th>\n",
       "      <th>25%</th>\n",
       "      <th>50%</th>\n",
       "      <th>75%</th>\n",
       "      <th>max</th>\n",
       "    </tr>\n",
       "  </thead>\n",
       "  <tbody>\n",
       "    <tr>\n",
       "      <th>AtBat</th>\n",
       "      <td>322.0</td>\n",
       "      <td>380.928571</td>\n",
       "      <td>153.404981</td>\n",
       "      <td>16.0</td>\n",
       "      <td>255.25</td>\n",
       "      <td>379.5</td>\n",
       "      <td>512.00</td>\n",
       "      <td>687.0</td>\n",
       "    </tr>\n",
       "    <tr>\n",
       "      <th>Hits</th>\n",
       "      <td>322.0</td>\n",
       "      <td>101.024845</td>\n",
       "      <td>46.454741</td>\n",
       "      <td>1.0</td>\n",
       "      <td>64.00</td>\n",
       "      <td>96.0</td>\n",
       "      <td>137.00</td>\n",
       "      <td>238.0</td>\n",
       "    </tr>\n",
       "    <tr>\n",
       "      <th>HmRun</th>\n",
       "      <td>322.0</td>\n",
       "      <td>10.770186</td>\n",
       "      <td>8.709037</td>\n",
       "      <td>0.0</td>\n",
       "      <td>4.00</td>\n",
       "      <td>8.0</td>\n",
       "      <td>16.00</td>\n",
       "      <td>40.0</td>\n",
       "    </tr>\n",
       "    <tr>\n",
       "      <th>Runs</th>\n",
       "      <td>322.0</td>\n",
       "      <td>50.909938</td>\n",
       "      <td>26.024095</td>\n",
       "      <td>0.0</td>\n",
       "      <td>30.25</td>\n",
       "      <td>48.0</td>\n",
       "      <td>69.00</td>\n",
       "      <td>130.0</td>\n",
       "    </tr>\n",
       "    <tr>\n",
       "      <th>RBI</th>\n",
       "      <td>322.0</td>\n",
       "      <td>48.027950</td>\n",
       "      <td>26.166895</td>\n",
       "      <td>0.0</td>\n",
       "      <td>28.00</td>\n",
       "      <td>44.0</td>\n",
       "      <td>64.75</td>\n",
       "      <td>121.0</td>\n",
       "    </tr>\n",
       "    <tr>\n",
       "      <th>Walks</th>\n",
       "      <td>322.0</td>\n",
       "      <td>38.742236</td>\n",
       "      <td>21.639327</td>\n",
       "      <td>0.0</td>\n",
       "      <td>22.00</td>\n",
       "      <td>35.0</td>\n",
       "      <td>53.00</td>\n",
       "      <td>105.0</td>\n",
       "    </tr>\n",
       "    <tr>\n",
       "      <th>Years</th>\n",
       "      <td>322.0</td>\n",
       "      <td>7.444099</td>\n",
       "      <td>4.926087</td>\n",
       "      <td>1.0</td>\n",
       "      <td>4.00</td>\n",
       "      <td>6.0</td>\n",
       "      <td>11.00</td>\n",
       "      <td>24.0</td>\n",
       "    </tr>\n",
       "    <tr>\n",
       "      <th>CAtBat</th>\n",
       "      <td>322.0</td>\n",
       "      <td>2648.683230</td>\n",
       "      <td>2324.205870</td>\n",
       "      <td>19.0</td>\n",
       "      <td>816.75</td>\n",
       "      <td>1928.0</td>\n",
       "      <td>3924.25</td>\n",
       "      <td>14053.0</td>\n",
       "    </tr>\n",
       "    <tr>\n",
       "      <th>CHits</th>\n",
       "      <td>322.0</td>\n",
       "      <td>717.571429</td>\n",
       "      <td>654.472627</td>\n",
       "      <td>4.0</td>\n",
       "      <td>209.00</td>\n",
       "      <td>508.0</td>\n",
       "      <td>1059.25</td>\n",
       "      <td>4256.0</td>\n",
       "    </tr>\n",
       "    <tr>\n",
       "      <th>CHmRun</th>\n",
       "      <td>322.0</td>\n",
       "      <td>69.490683</td>\n",
       "      <td>86.266061</td>\n",
       "      <td>0.0</td>\n",
       "      <td>14.00</td>\n",
       "      <td>37.5</td>\n",
       "      <td>90.00</td>\n",
       "      <td>548.0</td>\n",
       "    </tr>\n",
       "    <tr>\n",
       "      <th>CRuns</th>\n",
       "      <td>322.0</td>\n",
       "      <td>358.795031</td>\n",
       "      <td>334.105886</td>\n",
       "      <td>1.0</td>\n",
       "      <td>100.25</td>\n",
       "      <td>247.0</td>\n",
       "      <td>526.25</td>\n",
       "      <td>2165.0</td>\n",
       "    </tr>\n",
       "    <tr>\n",
       "      <th>CRBI</th>\n",
       "      <td>322.0</td>\n",
       "      <td>330.118012</td>\n",
       "      <td>333.219617</td>\n",
       "      <td>0.0</td>\n",
       "      <td>88.75</td>\n",
       "      <td>220.5</td>\n",
       "      <td>426.25</td>\n",
       "      <td>1659.0</td>\n",
       "    </tr>\n",
       "    <tr>\n",
       "      <th>CWalks</th>\n",
       "      <td>322.0</td>\n",
       "      <td>260.239130</td>\n",
       "      <td>267.058085</td>\n",
       "      <td>0.0</td>\n",
       "      <td>67.25</td>\n",
       "      <td>170.5</td>\n",
       "      <td>339.25</td>\n",
       "      <td>1566.0</td>\n",
       "    </tr>\n",
       "    <tr>\n",
       "      <th>PutOuts</th>\n",
       "      <td>322.0</td>\n",
       "      <td>288.937888</td>\n",
       "      <td>280.704614</td>\n",
       "      <td>0.0</td>\n",
       "      <td>109.25</td>\n",
       "      <td>212.0</td>\n",
       "      <td>325.00</td>\n",
       "      <td>1378.0</td>\n",
       "    </tr>\n",
       "    <tr>\n",
       "      <th>Assists</th>\n",
       "      <td>322.0</td>\n",
       "      <td>106.913043</td>\n",
       "      <td>136.854876</td>\n",
       "      <td>0.0</td>\n",
       "      <td>7.00</td>\n",
       "      <td>39.5</td>\n",
       "      <td>166.00</td>\n",
       "      <td>492.0</td>\n",
       "    </tr>\n",
       "    <tr>\n",
       "      <th>Errors</th>\n",
       "      <td>322.0</td>\n",
       "      <td>8.040373</td>\n",
       "      <td>6.368359</td>\n",
       "      <td>0.0</td>\n",
       "      <td>3.00</td>\n",
       "      <td>6.0</td>\n",
       "      <td>11.00</td>\n",
       "      <td>32.0</td>\n",
       "    </tr>\n",
       "    <tr>\n",
       "      <th>Salary</th>\n",
       "      <td>263.0</td>\n",
       "      <td>535.925882</td>\n",
       "      <td>451.118681</td>\n",
       "      <td>67.5</td>\n",
       "      <td>190.00</td>\n",
       "      <td>425.0</td>\n",
       "      <td>750.00</td>\n",
       "      <td>2460.0</td>\n",
       "    </tr>\n",
       "  </tbody>\n",
       "</table>\n",
       "</div>"
      ],
      "text/plain": [
       "         count         mean          std   min     25%     50%      75%  \\\n",
       "AtBat    322.0   380.928571   153.404981  16.0  255.25   379.5   512.00   \n",
       "Hits     322.0   101.024845    46.454741   1.0   64.00    96.0   137.00   \n",
       "HmRun    322.0    10.770186     8.709037   0.0    4.00     8.0    16.00   \n",
       "Runs     322.0    50.909938    26.024095   0.0   30.25    48.0    69.00   \n",
       "RBI      322.0    48.027950    26.166895   0.0   28.00    44.0    64.75   \n",
       "Walks    322.0    38.742236    21.639327   0.0   22.00    35.0    53.00   \n",
       "Years    322.0     7.444099     4.926087   1.0    4.00     6.0    11.00   \n",
       "CAtBat   322.0  2648.683230  2324.205870  19.0  816.75  1928.0  3924.25   \n",
       "CHits    322.0   717.571429   654.472627   4.0  209.00   508.0  1059.25   \n",
       "CHmRun   322.0    69.490683    86.266061   0.0   14.00    37.5    90.00   \n",
       "CRuns    322.0   358.795031   334.105886   1.0  100.25   247.0   526.25   \n",
       "CRBI     322.0   330.118012   333.219617   0.0   88.75   220.5   426.25   \n",
       "CWalks   322.0   260.239130   267.058085   0.0   67.25   170.5   339.25   \n",
       "PutOuts  322.0   288.937888   280.704614   0.0  109.25   212.0   325.00   \n",
       "Assists  322.0   106.913043   136.854876   0.0    7.00    39.5   166.00   \n",
       "Errors   322.0     8.040373     6.368359   0.0    3.00     6.0    11.00   \n",
       "Salary   263.0   535.925882   451.118681  67.5  190.00   425.0   750.00   \n",
       "\n",
       "             max  \n",
       "AtBat      687.0  \n",
       "Hits       238.0  \n",
       "HmRun       40.0  \n",
       "Runs       130.0  \n",
       "RBI        121.0  \n",
       "Walks      105.0  \n",
       "Years       24.0  \n",
       "CAtBat   14053.0  \n",
       "CHits     4256.0  \n",
       "CHmRun     548.0  \n",
       "CRuns     2165.0  \n",
       "CRBI      1659.0  \n",
       "CWalks    1566.0  \n",
       "PutOuts   1378.0  \n",
       "Assists    492.0  \n",
       "Errors      32.0  \n",
       "Salary    2460.0  "
      ]
     },
     "execution_count": 34,
     "metadata": {},
     "output_type": "execute_result"
    }
   ],
   "source": [
    "hitters.describe().T"
   ]
  },
  {
   "cell_type": "code",
   "execution_count": 35,
   "id": "surprised-devon",
   "metadata": {},
   "outputs": [],
   "source": [
    "cat_cols = [col for col in hitters.columns if hitters[col].dtypes=='O']\n",
    "num_cols =[col for col in hitters.columns if hitters[col].dtypes != \"O\" and col not in \"Salary\"]"
   ]
  },
  {
   "cell_type": "markdown",
   "id": "3f95db18",
   "metadata": {},
   "source": [
    "### ***CHECK FOR OUTLIERS***"
   ]
  },
  {
   "cell_type": "code",
   "execution_count": 36,
   "id": "musical-coast",
   "metadata": {},
   "outputs": [],
   "source": [
    "q1 = 0.10\n",
    "q3 = 0.90\n",
    "for col in num_cols:\n",
    "    quartile1 = hitters[col].quantile(q1)\n",
    "    quartile3 = hitters[col].quantile(q3)\n",
    "    interquantile_range = quartile3 - quartile1\n",
    "    up_limit = quartile3 + 1.5 * interquantile_range\n",
    "    low_limit = quartile1 - 1.5 * interquantile_range\n",
    "    if hitters[(hitters[col] > up_limit) | (hitters[col] < low_limit)].any(axis=None):\n",
    "        hitters.loc[(hitters[col] < low_limit),col] = low_limit\n",
    "        hitters.loc[(hitters[col] > up_limit), col] = up_limit"
   ]
  },
  {
   "cell_type": "code",
   "execution_count": 37,
   "id": "usual-article",
   "metadata": {},
   "outputs": [
    {
     "data": {
      "text/plain": [
       "(295, 20)"
      ]
     },
     "execution_count": 37,
     "metadata": {},
     "output_type": "execute_result"
    }
   ],
   "source": [
    "# remove outliers for Salary and keep NaN values\n",
    "salary_up = int(hitters[\"Salary\"].quantile(q3))\n",
    "hitters = hitters[(hitters[\"Salary\"] < salary_up) | (hitters[\"Salary\"].isnull())]\n",
    "# data shape after removing outliers in Salary\n",
    "hitters.shape"
   ]
  },
  {
   "cell_type": "code",
   "execution_count": 38,
   "id": "coastal-proxy",
   "metadata": {},
   "outputs": [],
   "source": [
    "# label encoding of categorical features (League, Division, NewLeague) with two class \n",
    "binary_cols = [col for col in hitters.columns if hitters[col].dtype not in [int, float] and hitters[col].nunique() == 2]\n",
    "for col in binary_cols:\n",
    "    labelencoder = LabelEncoder()\n",
    "    hitters[col] = labelencoder.fit_transform(hitters[col])"
   ]
  },
  {
   "cell_type": "code",
   "execution_count": 39,
   "id": "korean-minnesota",
   "metadata": {},
   "outputs": [],
   "source": [
    "hitters_drop = hitters.dropna(how='any')"
   ]
  },
  {
   "cell_type": "code",
   "execution_count": 40,
   "id": "explicit-bishop",
   "metadata": {},
   "outputs": [
    {
     "data": {
      "image/png": "[encoded data removed]",
      "text/plain": [
       "<Figure size 432x288 with 2 Axes>"
      ]
     },
     "metadata": {
      "needs_background": "light"
     },
     "output_type": "display_data"
    }
   ],
   "source": [
    "plt.scatter(hitters_drop['Years'],hitters_drop['Hits'],c=hitters_drop['Salary'])\n",
    "plt.ylabel('Hits')\n",
    "plt.xlabel('Years')\n",
    "plt.colorbar()\n",
    "plt.axvline(x=4.5,color='red')\n",
    "plt.show()"
   ]
  },
  {
   "cell_type": "code",
   "execution_count": 41,
   "id": "quality-bridal",
   "metadata": {},
   "outputs": [],
   "source": [
    "clf = DecisionTreeRegressor(max_depth = 4)\n",
    "X=hitters_drop[num_cols]\n",
    "X = X[['Years','Hits','RBI','Walks','PutOuts']]\n",
    "y=hitters_drop['Salary']\n",
    "model = clf.fit(X, y)\n",
    "X_names = list(X.columns)\n",
    "y_name = ['Salary']"
   ]
  },
  {
   "cell_type": "code",
   "execution_count": 42,
   "id": "greenhouse-maximum",
   "metadata": {},
   "outputs": [],
   "source": [
    "from sklearn.tree import plot_tree"
   ]
  },
  {
   "cell_type": "code",
   "execution_count": 43,
   "id": "normal-confidentiality",
   "metadata": {},
   "outputs": [
    {
     "data": {
      "image/png": "[encoded data removed]",
      "text/plain": [
       "<Figure size 1200x1200 with 1 Axes>"
      ]
     },
     "metadata": {
      "needs_background": "light"
     },
     "output_type": "display_data"
    }
   ],
   "source": [
    "fig, axes = plt.subplots(nrows = 1,ncols = 1,figsize = (4,4), dpi=300)\n",
    "viz=plot_tree(clf, \n",
    "          feature_names = X_names, \n",
    "          class_names = y_name, \n",
    "          filled = True, \n",
    "          rounded = True)"
   ]
  },
  {
   "cell_type": "code",
   "execution_count": 44,
   "id": "cognitive-permission",
   "metadata": {},
   "outputs": [
    {
     "data": {
      "image/png": "[encoded data removed]",
      "text/plain": [
       "<Figure size 1200x1200 with 1 Axes>"
      ]
     },
     "metadata": {
      "needs_background": "light"
     },
     "output_type": "display_data"
    }
   ],
   "source": [
    "clf = DecisionTreeRegressor(max_depth = 2)\n",
    "X=hitters_drop[num_cols]\n",
    "X = X[['Years','Hits','RBI','Walks','PutOuts']]\n",
    "y=hitters_drop['Salary']\n",
    "model = clf.fit(X, y)\n",
    "X_names = list(X.columns)\n",
    "y_name = ['Salary']\n",
    "fig, axes = plt.subplots(nrows = 1,ncols = 1,figsize = (4,4), dpi=300)\n",
    "viz=plot_tree(clf, \n",
    "          feature_names = X_names, \n",
    "          class_names = y_name, \n",
    "          filled = True, \n",
    "          rounded = True)"
   ]
  },
  {
   "cell_type": "code",
   "execution_count": 45,
   "id": "surprising-absolute",
   "metadata": {},
   "outputs": [
    {
     "data": {
      "image/png": "[encoded data removed]",
      "text/plain": [
       "<Figure size 432x288 with 1 Axes>"
      ]
     },
     "metadata": {},
     "output_type": "display_data"
    }
   ],
   "source": [
    "MSE_train_list, MSE_test_list, k_list = [], [], []\n",
    "from sklearn.model_selection import train_test_split\n",
    "X=hitters_drop[num_cols]\n",
    "y=hitters_drop['Salary']\n",
    "X_train, X_test, y_train, y_test = train_test_split(X, y, test_size=0.33, random_state=42)\n",
    "for k in range(1,20):\n",
    "    clf = DecisionTreeRegressor(max_depth = k)\n",
    "    \n",
    "    model = clf.fit(X_train, y_train)\n",
    "    MSE_train = mean_squared_error(y_train,model.predict(X_train))\n",
    "    MSE_test = mean_squared_error(y_test,model.predict(X_test))\n",
    "    k_list.append(k)\n",
    "    MSE_train_list.append(MSE_train)\n",
    "    MSE_test_list.append(MSE_test)\n",
    "plt.figure(facecolor='white')\n",
    "plt.plot(k_list,MSE_train_list,label='MSE-train')\n",
    "plt.plot(k_list,MSE_test_list,label='MSE-test')\n",
    "plt.xlabel('T depth')\n",
    "plt.ylabel('MSE')\n",
    "plt.legend()\n",
    "plt.show()"
   ]
  },
  {
   "cell_type": "code",
   "execution_count": 46,
   "id": "characteristic-madonna",
   "metadata": {},
   "outputs": [],
   "source": [
    "\n",
    "clf.fit(X_train, y_train)\n",
    "\n",
    "parameters={\"splitter\":[\"best\",\"random\"],\n",
    "            \"max_depth\" : [1,3,5,7,9,11,12]}\n",
    "clf.set_params(random_state=108)\n",
    "tuning_model=GridSearchCV(clf,param_grid=parameters,scoring='neg_mean_squared_error',cv=3,verbose=3)"
   ]
  },
  {
   "cell_type": "code",
   "execution_count": 47,
   "id": "solid-david",
   "metadata": {},
   "outputs": [
    {
     "name": "stdout",
     "output_type": "stream",
     "text": [
      "Fitting 3 folds for each of 14 candidates, totalling 42 fits\n",
      "[CV 1/3] END .....................max_depth=1, splitter=best; total time=   0.0s\n",
      "[CV 2/3] END .....................max_depth=1, splitter=best; total time=   0.0s\n",
      "[CV 3/3] END .....................max_depth=1, splitter=best; total time=   0.0s\n",
      "[CV 1/3] END ...................max_depth=1, splitter=random; total time=   0.0s\n",
      "[CV 2/3] END ...................max_depth=1, splitter=random; total time=   0.0s\n",
      "[CV 3/3] END ...................max_depth=1, splitter=random; total time=   0.0s\n",
      "[CV 1/3] END .....................max_depth=3, splitter=best; total time=   0.0s\n",
      "[CV 2/3] END .....................max_depth=3, splitter=best; total time=   0.0s\n",
      "[CV 3/3] END .....................max_depth=3, splitter=best; total time=   0.0s\n",
      "[CV 1/3] END ...................max_depth=3, splitter=random; total time=   0.0s\n",
      "[CV 2/3] END ...................max_depth=3, splitter=random; total time=   0.0s\n",
      "[CV 3/3] END ...................max_depth=3, splitter=random; total time=   0.0s\n",
      "[CV 1/3] END .....................max_depth=5, splitter=best; total time=   0.0s\n",
      "[CV 2/3] END .....................max_depth=5, splitter=best; total time=   0.0s\n",
      "[CV 3/3] END .....................max_depth=5, splitter=best; total time=   0.0s\n",
      "[CV 1/3] END ...................max_depth=5, splitter=random; total time=   0.0s\n",
      "[CV 2/3] END ...................max_depth=5, splitter=random; total time=   0.0s\n",
      "[CV 3/3] END ...................max_depth=5, splitter=random; total time=   0.0s\n",
      "[CV 1/3] END .....................max_depth=7, splitter=best; total time=   0.0s\n",
      "[CV 2/3] END .....................max_depth=7, splitter=best; total time=   0.0s\n",
      "[CV 3/3] END .....................max_depth=7, splitter=best; total time=   0.0s\n",
      "[CV 1/3] END ...................max_depth=7, splitter=random; total time=   0.0s\n",
      "[CV 2/3] END ...................max_depth=7, splitter=random; total time=   0.0s\n",
      "[CV 3/3] END ...................max_depth=7, splitter=random; total time=   0.0s\n",
      "[CV 1/3] END .....................max_depth=9, splitter=best; total time=   0.0s\n",
      "[CV 2/3] END .....................max_depth=9, splitter=best; total time=   0.0s\n",
      "[CV 3/3] END .....................max_depth=9, splitter=best; total time=   0.0s\n",
      "[CV 1/3] END ...................max_depth=9, splitter=random; total time=   0.0s\n",
      "[CV 2/3] END ...................max_depth=9, splitter=random; total time=   0.0s\n",
      "[CV 3/3] END ...................max_depth=9, splitter=random; total time=   0.0s\n",
      "[CV 1/3] END ....................max_depth=11, splitter=best; total time=   0.0s\n",
      "[CV 2/3] END ....................max_depth=11, splitter=best; total time=   0.0s\n",
      "[CV 3/3] END ....................max_depth=11, splitter=best; total time=   0.0s\n",
      "[CV 1/3] END ..................max_depth=11, splitter=random; total time=   0.0s\n",
      "[CV 2/3] END ..................max_depth=11, splitter=random; total time=   0.0s\n",
      "[CV 3/3] END ..................max_depth=11, splitter=random; total time=   0.0s\n",
      "[CV 1/3] END ....................max_depth=12, splitter=best; total time=   0.0s\n",
      "[CV 2/3] END ....................max_depth=12, splitter=best; total time=   0.0s\n",
      "[CV 3/3] END ....................max_depth=12, splitter=best; total time=   0.0s\n",
      "[CV 1/3] END ..................max_depth=12, splitter=random; total time=   0.0s\n",
      "[CV 2/3] END ..................max_depth=12, splitter=random; total time=   0.0s\n",
      "[CV 3/3] END ..................max_depth=12, splitter=random; total time=   0.0s\n"
     ]
    },
    {
     "data": {
      "text/plain": [
       "GridSearchCV(cv=3,\n",
       "             estimator=DecisionTreeRegressor(max_depth=19, random_state=108),\n",
       "             param_grid={'max_depth': [1, 3, 5, 7, 9, 11, 12],\n",
       "                         'splitter': ['best', 'random']},\n",
       "             scoring='neg_mean_squared_error', verbose=3)"
      ]
     },
     "execution_count": 47,
     "metadata": {},
     "output_type": "execute_result"
    }
   ],
   "source": [
    "tuning_model.fit(X_train,y_train)"
   ]
  },
  {
   "cell_type": "code",
   "execution_count": 48,
   "id": "protected-history",
   "metadata": {},
   "outputs": [
    {
     "name": "stdout",
     "output_type": "stream",
     "text": [
      "{'max_depth': 3, 'splitter': 'best'}\n",
      "-43491.44886921731\n"
     ]
    }
   ],
   "source": [
    "print(tuning_model.best_params_)\n",
    "print(tuning_model.best_score_)\n"
   ]
  },
  {
   "cell_type": "code",
   "execution_count": null,
   "id": "central-export",
   "metadata": {},
   "outputs": [],
   "source": []
  }
 ],
 "metadata": {
  "kernelspec": {
   "display_name": "Python 3",
   "language": "python",
   "name": "python3"
  },
  "language_info": {
   "codemirror_mode": {
    "name": "ipython",
    "version": 3
   },
   "file_extension": ".py",
   "mimetype": "text/x-python",
   "name": "python",
   "nbconvert_exporter": "python",
   "pygments_lexer": "ipython3",
   "version": "3.8.8"
  }
 },
 "nbformat": 4,
 "nbformat_minor": 5
}
