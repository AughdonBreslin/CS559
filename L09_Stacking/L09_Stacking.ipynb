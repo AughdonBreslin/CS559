{
 "cells": [
  {
   "cell_type": "markdown",
   "id": "italian-harrison",
   "metadata": {},
   "source": [
    "# <center> Lecture 08-09: Ensemble Methods </center>\n",
    "\n",
    "# <center> Lecture 08 - Bagging, Random Forest, and Boosting </center>\n",
    "\n",
    "We have a classification problem of identifying the wine class label based on its chemical analysis of wine grown in the same region. \n",
    "We are going to use emsemble methods (Bagging, RandomForest, Boosting techniques, and stacking technique) to improve the model. \n",
    "You can visit here - https://archive.ics.uci.edu/ml/datasets/wine - for the details on data. \n",
    "\n",
    "In this work, we will first looking emsemble methods discussed in Lecture 08 using:\n",
    "- Bagging and RandomForest\n",
    "- Boosting: AdaBoost, Gradient Boost, and XGBoost\n",
    "\n",
    "## 1. Load Data"
   ]
  },
  {
   "cell_type": "code",
   "execution_count": 1,
   "id": "afraid-canyon",
   "metadata": {},
   "outputs": [],
   "source": [
    "import pandas as pd"
   ]
  },
  {
   "cell_type": "code",
   "execution_count": 2,
   "id": "pretty-superior",
   "metadata": {},
   "outputs": [],
   "source": [
    "df_wine = pd.read_csv('https://archive.ics.uci.edu/ml/machine-learning-databases/wine/wine.data',header=None)\n",
    "df_wine.columns = ['Class label','Alcohol','Malic acid','Ash','Alcalinity of ash','Magnesium','Total phenols',\n",
    "                    'Flavanoids','Nonflavanoid phenols','Proanthocyanins','Color intensity','Hue','OD280/OD315 of diluted wines','Proline']"
   ]
  },
  {
   "cell_type": "code",
   "execution_count": 3,
   "id": "rational-boating",
   "metadata": {},
   "outputs": [],
   "source": [
    "y=df_wine['Class label']\n",
    "X=df_wine.drop('Class label',axis=1)"
   ]
  },
  {
   "cell_type": "code",
   "execution_count": 4,
   "id": "dutch-broad",
   "metadata": {},
   "outputs": [
    {
     "data": {
      "text/plain": [
       "2    71\n",
       "1    59\n",
       "3    48\n",
       "Name: Class label, dtype: int64"
      ]
     },
     "execution_count": 4,
     "metadata": {},
     "output_type": "execute_result"
    }
   ],
   "source": [
    "df_wine['Class label'].value_counts()"
   ]
  },
  {
   "cell_type": "code",
   "execution_count": 5,
   "id": "considered-transsexual",
   "metadata": {},
   "outputs": [
    {
     "data": {
      "text/plain": [
       "Class label                       int64\n",
       "Alcohol                         float64\n",
       "Malic acid                      float64\n",
       "Ash                             float64\n",
       "Alcalinity of ash               float64\n",
       "Magnesium                         int64\n",
       "Total phenols                   float64\n",
       "Flavanoids                      float64\n",
       "Nonflavanoid phenols            float64\n",
       "Proanthocyanins                 float64\n",
       "Color intensity                 float64\n",
       "Hue                             float64\n",
       "OD280/OD315 of diluted wines    float64\n",
       "Proline                           int64\n",
       "dtype: object"
      ]
     },
     "execution_count": 5,
     "metadata": {},
     "output_type": "execute_result"
    }
   ],
   "source": [
    "df_wine.dtypes"
   ]
  },
  {
   "cell_type": "code",
   "execution_count": 6,
   "id": "instructional-immunology",
   "metadata": {},
   "outputs": [
    {
     "data": {
      "text/plain": [
       "Class label                     0\n",
       "Alcohol                         0\n",
       "Malic acid                      0\n",
       "Ash                             0\n",
       "Alcalinity of ash               0\n",
       "Magnesium                       0\n",
       "Total phenols                   0\n",
       "Flavanoids                      0\n",
       "Nonflavanoid phenols            0\n",
       "Proanthocyanins                 0\n",
       "Color intensity                 0\n",
       "Hue                             0\n",
       "OD280/OD315 of diluted wines    0\n",
       "Proline                         0\n",
       "dtype: int64"
      ]
     },
     "execution_count": 6,
     "metadata": {},
     "output_type": "execute_result"
    }
   ],
   "source": [
    "df_wine.isnull().sum()"
   ]
  },
  {
   "cell_type": "code",
   "execution_count": 7,
   "id": "assisted-eugene",
   "metadata": {},
   "outputs": [],
   "source": [
    "import matplotlib.pyplot as plt"
   ]
  },
  {
   "cell_type": "code",
   "execution_count": 8,
   "id": "verified-universal",
   "metadata": {},
   "outputs": [
    {
     "data": {
      "text/plain": [
       "<Figure size 1440x1440 with 0 Axes>"
      ]
     },
     "metadata": {},
     "output_type": "display_data"
    },
    {
     "data": {
      "image/png": "[encoded data removed]",
      "text/plain": [
       "<Figure size 432x288 with 1 Axes>"
      ]
     },
     "metadata": {
      "needs_background": "light"
     },
     "output_type": "display_data"
    },
    {
     "data": {
      "image/png": "[encoded data removed]",
      "text/plain": [
       "<Figure size 432x288 with 1 Axes>"
      ]
     },
     "metadata": {
      "needs_background": "light"
     },
     "output_type": "display_data"
    },
    {
     "data": {
      "image/png": "[encoded data removed]",
      "text/plain": [
       "<Figure size 432x288 with 1 Axes>"
      ]
     },
     "metadata": {
      "needs_background": "light"
     },
     "output_type": "display_data"
    },
    {
     "data": {
      "image/png": "[encoded data removed]",
      "text/plain": [
       "<Figure size 432x288 with 1 Axes>"
      ]
     },
     "metadata": {
      "needs_background": "light"
     },
     "output_type": "display_data"
    },
    {
     "data": {
      "image/png": "[encoded data removed]",
      "text/plain": [
       "<Figure size 432x288 with 1 Axes>"
      ]
     },
     "metadata": {
      "needs_background": "light"
     },
     "output_type": "display_data"
    },
    {
     "data": {
      "image/png": "[encoded data removed]",
      "text/plain": [
       "<Figure size 432x288 with 1 Axes>"
      ]
     },
     "metadata": {
      "needs_background": "light"
     },
     "output_type": "display_data"
    },
    {
     "data": {
      "image/png": "[encoded data removed]",
      "text/plain": [
       "<Figure size 432x288 with 1 Axes>"
      ]
     },
     "metadata": {
      "needs_background": "light"
     },
     "output_type": "display_data"
    },
    {
     "data": {
      "image/png": "[encoded data removed]",
      "text/plain": [
       "<Figure size 432x288 with 1 Axes>"
      ]
     },
     "metadata": {
      "needs_background": "light"
     },
     "output_type": "display_data"
    },
    {
     "data": {
      "image/png": "[encoded data removed]",
      "text/plain": [
       "<Figure size 432x288 with 1 Axes>"
      ]
     },
     "metadata": {
      "needs_background": "light"
     },
     "output_type": "display_data"
    },
    {
     "data": {
      "image/png": "[encoded data removed]",
      "text/plain": [
       "<Figure size 432x288 with 1 Axes>"
      ]
     },
     "metadata": {
      "needs_background": "light"
     },
     "output_type": "display_data"
    },
    {
     "data": {
      "image/png": "[encoded data removed]",
      "text/plain": [
       "<Figure size 432x288 with 1 Axes>"
      ]
     },
     "metadata": {
      "needs_background": "light"
     },
     "output_type": "display_data"
    },
    {
     "data": {
      "image/png": "[encoded data removed]",
      "text/plain": [
       "<Figure size 432x288 with 1 Axes>"
      ]
     },
     "metadata": {
      "needs_background": "light"
     },
     "output_type": "display_data"
    },
    {
     "data": {
      "image/png": "[encoded data removed]",
      "text/plain": [
       "<Figure size 432x288 with 1 Axes>"
      ]
     },
     "metadata": {
      "needs_background": "light"
     },
     "output_type": "display_data"
    },
    {
     "data": {
      "image/png": "[encoded data removed]",
      "text/plain": [
       "<Figure size 432x288 with 1 Axes>"
      ]
     },
     "metadata": {
      "needs_background": "light"
     },
     "output_type": "display_data"
    }
   ],
   "source": [
    "fig=plt.figure(figsize=(20,20))\n",
    "features = list(df_wine.columns)\n",
    "for col in df_wine.columns: \n",
    "    try:      \n",
    "        df_wine[col] = pd.to_numeric(df_wine[col]) \n",
    "        df_wine.hist(column=col)\n",
    "    except ValueError:\n",
    "        print('This column can not be represented as a histogram')"
   ]
  },
  {
   "cell_type": "markdown",
   "id": "respective-punishment",
   "metadata": {},
   "source": [
    "Here, some features are skewed. The link below shows the details of handling in cases. \n",
    "https://beingdatum.com/handling-skewness-in-machine-learning/\n",
    "\n",
    "Note that I did not handle any skewness in this work. "
   ]
  },
  {
   "cell_type": "markdown",
   "id": "conventional-microphone",
   "metadata": {},
   "source": [
    "## 2. Modeling"
   ]
  },
  {
   "cell_type": "code",
   "execution_count": 9,
   "id": "bibliographic-degree",
   "metadata": {},
   "outputs": [],
   "source": [
    "from sklearn.preprocessing import LabelEncoder\n",
    "from sklearn.model_selection import train_test_split\n",
    "from sklearn.ensemble import BaggingClassifier,RandomForestClassifier\n",
    "from sklearn.ensemble import AdaBoostClassifier,GradientBoostingClassifier\n",
    "from xgboost import XGBClassifier\n",
    "from sklearn.tree import DecisionTreeClassifier\n",
    "from sklearn.metrics import accuracy_score"
   ]
  },
  {
   "cell_type": "markdown",
   "id": "jewish-begin",
   "metadata": {},
   "source": [
    "**Note**\n",
    "Jupyter notebook does not have XGBoost package installed and it needs to be installed. \n",
    "\n",
    "- For window: https://stackoverflow.com/questions/35510582/how-can-i-install-xgboost-package-in-python-on-windows\n",
    "- For mac:https://machinelearningmastery.com/install-xgboost-python-macos/\n",
    "\n",
    "- I made a Decisition Tree classifier to see the difference between DT and tree-based ensemable methods. \n",
    "- I did not consider overfit vs. underfit in this work. This should be handled in a real ML project. "
   ]
  },
  {
   "cell_type": "code",
   "execution_count": 10,
   "id": "caring-adjustment",
   "metadata": {},
   "outputs": [],
   "source": [
    "X = df_wine.drop('Class label',axis=1)\n",
    "y = df_wine['Class label']"
   ]
  },
  {
   "cell_type": "code",
   "execution_count": 11,
   "id": "welsh-police",
   "metadata": {},
   "outputs": [],
   "source": [
    "X_train, X_test, y_train, y_test = train_test_split(X, y, test_size=0.2,random_state=1,stratify=y)"
   ]
  },
  {
   "cell_type": "code",
   "execution_count": 12,
   "id": "ceramic-bhutan",
   "metadata": {},
   "outputs": [],
   "source": [
    "tree = DecisionTreeClassifier(criterion='entropy', random_state=1, max_depth=None)\n",
    "bag = BaggingClassifier(base_estimator=tree,n_estimators=500, bootstrap=True, bootstrap_features=True,\n",
    "                        random_state=1)\n",
    "RF = RandomForestClassifier(n_estimators=500,bootstrap=True,random_state=1,oob_score=True)\n",
    "ada = AdaBoostClassifier(base_estimator=tree, n_estimators=500, learning_rate=0.1,random_state=1)\n",
    "grad = GradientBoostingClassifier(n_estimators=500, learning_rate=0.1,random_state=1)\n",
    "xgb = XGBClassifier( learning_rate =0.1,n_estimators=1000,max_depth=None,min_child_weight=1,gamma=0,\n",
    " subsample=0.8,colsample_bytree=0.8,objective= 'binary:logistic',nthread=4,scale_pos_weight=1,seed=27)"
   ]
  },
  {
   "cell_type": "markdown",
   "id": "professional-antigua",
   "metadata": {},
   "source": [
    "Please visit the website for details on each model:\n",
    "\n",
    "For Classifications:\n",
    "- BaggingClassifier: https://scikit-learn.org/stable/modules/generated/sklearn.ensemble.BaggingClassifier.html\n",
    "- RandomForestClassifier: https://scikit-learn.org/stable/modules/generated/sklearn.ensemble.RandomForestClassifier.html\n",
    "- AdaBoostClassifier: https://scikit-learn.org/stable/modules/generated/sklearn.ensemble.AdaBoostClassifier.html\n",
    "- GradientBoostingClassifier: https://scikit-learn.org/stable/modules/generated/sklearn.ensemble.GradientBoostingClassifier.html\n",
    "- XGBClassifier: https://xgboost.readthedocs.io/en/latest/python/python_intro.html, https://www.analyticsvidhya.com/blog/2016/03/complete-guide-parameter-tuning-xgboost-with-codes-python/\n",
    "\n",
    "For regressions:\n",
    "- BaggingRegressor: https://scikit-learn.org/stable/modules/generated/sklearn.ensemble.BaggingRegressor.html\n",
    "- RandomForestRegressor: https://scikit-learn.org/stable/modules/generated/sklearn.ensemble.RandomForestRegressor.html\n",
    "- AdaBoostRegressor: https://scikit-learn.org/stable/modules/generated/sklearn.ensemble.AdaBoostRegressor.html\n",
    "- GradientBoostingRegressor: https://scikit-learn.org/stable/modules/generated/sklearn.ensemble.GradientBoostingRegressor.html\n",
    "\n",
    "For GridSearchCV:\n",
    "https://scikit-learn.org/stable/modules/grid_search.html\n",
    "- When we do GridSearchCV to tune the hyperparameters, the procedure is same for all models:\n",
    "    - provide the name of model\n",
    "    - make an array of choices for hyperparameters of the model want to tune\n",
    "    - give k value for cross validatation"
   ]
  },
  {
   "cell_type": "markdown",
   "id": "abandoned-chocolate",
   "metadata": {},
   "source": [
    "### Decision Tree"
   ]
  },
  {
   "cell_type": "code",
   "execution_count": 13,
   "id": "israeli-mixture",
   "metadata": {},
   "outputs": [
    {
     "name": "stdout",
     "output_type": "stream",
     "text": [
      "Decision tree train/test accuracies 1.000/0.889\n"
     ]
    }
   ],
   "source": [
    "tree = tree.fit(X_train,y_train)\n",
    "y_train_pred = tree.predict(X_train)\n",
    "y_test_pred = tree.predict(X_test)\n",
    "tree_train = accuracy_score(y_train, y_train_pred)\n",
    "tree_test = accuracy_score(y_test, y_test_pred)\n",
    "print('Decision tree train/test accuracies %.3f/%.3f' %(tree_train,tree_test))"
   ]
  },
  {
   "cell_type": "markdown",
   "id": "close-senior",
   "metadata": {},
   "source": [
    "### Bagging"
   ]
  },
  {
   "cell_type": "code",
   "execution_count": 14,
   "id": "explicit-terror",
   "metadata": {},
   "outputs": [
    {
     "name": "stdout",
     "output_type": "stream",
     "text": [
      "Decision bag train/test accuracies 1.000/1.000\n"
     ]
    }
   ],
   "source": [
    "bag = bag.fit(X_train,y_train)\n",
    "y_train_pred = bag.predict(X_train)\n",
    "y_test_pred = bag.predict(X_test)\n",
    "bag_train = accuracy_score(y_train, y_train_pred)\n",
    "bag_test = accuracy_score(y_test, y_test_pred)\n",
    "print('Decision bag train/test accuracies %.3f/%.3f' %(bag_train,bag_test))"
   ]
  },
  {
   "cell_type": "markdown",
   "id": "governing-style",
   "metadata": {},
   "source": [
    "### Random Forest:\n",
    "- The feature importance can be observed. \n",
    "- The out of bagging score can be estimated directly."
   ]
  },
  {
   "cell_type": "code",
   "execution_count": 15,
   "id": "threatened-retirement",
   "metadata": {},
   "outputs": [
    {
     "name": "stdout",
     "output_type": "stream",
     "text": [
      "Decision RF train/test accuracies 1.000/1.000\n"
     ]
    }
   ],
   "source": [
    "RF = RF.fit(X_train,y_train)\n",
    "y_train_pred = RF.predict(X_train)\n",
    "y_test_pred = RF.predict(X_test)\n",
    "RF_train = accuracy_score(y_train, y_train_pred)\n",
    "RF_test = accuracy_score(y_test, y_test_pred)\n",
    "print('Decision RF train/test accuracies %.3f/%.3f' %(RF_train,RF_test))"
   ]
  },
  {
   "cell_type": "code",
   "execution_count": 16,
   "id": "oriental-settlement",
   "metadata": {},
   "outputs": [
    {
     "name": "stdout",
     "output_type": "stream",
     "text": [
      "Alcohol = 0.14870143583928136\n",
      "Malic acid = 0.03143440428379223\n",
      "Ash = 0.00977699965115191\n",
      "Alcalinity of ash = 0.027575535071669936\n",
      "Magnesium = 0.02527649646647378\n",
      "Total phenols = 0.07143511657466386\n",
      "Flavanoids = 0.15304943463353518\n",
      "Nonflavanoid phenols = 0.011264600617479997\n",
      "Proanthocyanins = 0.020124375285300828\n",
      "Color intensity = 0.14746697774893944\n",
      "Hue = 0.07346175038430382\n",
      "OD280/OD315 of diluted wines = 0.11537071249534513\n",
      "Proline = 0.16506216094806264\n"
     ]
    }
   ],
   "source": [
    "for name, importance in zip(X, RF.feature_importances_):\n",
    "    print(name, \"=\", importance)"
   ]
  },
  {
   "cell_type": "code",
   "execution_count": 17,
   "id": "missing-creature",
   "metadata": {},
   "outputs": [
    {
     "data": {
      "image/png": "[encoded data removed]",
      "text/plain": [
       "<Figure size 432x288 with 1 Axes>"
      ]
     },
     "metadata": {
      "needs_background": "light"
     },
     "output_type": "display_data"
    }
   ],
   "source": [
    "import numpy as np\n",
    "import matplotlib.pyplot as plt\n",
    "features = list(X.columns)\n",
    "importances = RF.feature_importances_\n",
    "indices = np.argsort(importances)\n",
    "\n",
    "plt.title('Feature Importances')\n",
    "plt.barh(range(len(indices)), importances[indices], color='b', align='center')\n",
    "plt.yticks(range(len(indices)), [features[i] for i in indices])\n",
    "plt.xlabel('Relative Importance')\n",
    "plt.show()"
   ]
  },
  {
   "cell_type": "code",
   "execution_count": 18,
   "id": "celtic-scholar",
   "metadata": {},
   "outputs": [
    {
     "data": {
      "text/plain": [
       "0.9788732394366197"
      ]
     },
     "execution_count": 18,
     "metadata": {},
     "output_type": "execute_result"
    }
   ],
   "source": [
    "RF.oob_score_ #out of bag score"
   ]
  },
  {
   "cell_type": "markdown",
   "id": "decent-freight",
   "metadata": {},
   "source": [
    "### Bossting\n",
    "#### Ada Boost"
   ]
  },
  {
   "cell_type": "code",
   "execution_count": 19,
   "id": "delayed-massachusetts",
   "metadata": {},
   "outputs": [
    {
     "name": "stdout",
     "output_type": "stream",
     "text": [
      "Decision ada train/test accuracies 1.000/0.889\n"
     ]
    }
   ],
   "source": [
    "ada = ada.fit(X_train,y_train)\n",
    "y_train_pred = ada.predict(X_train)\n",
    "y_test_pred = ada.predict(X_test)\n",
    "ada_train = accuracy_score(y_train, y_train_pred)\n",
    "ada_test = accuracy_score(y_test, y_test_pred)\n",
    "print('Decision ada train/test accuracies %.3f/%.3f' %(ada_train,ada_test))"
   ]
  },
  {
   "cell_type": "markdown",
   "id": "driven-preservation",
   "metadata": {},
   "source": [
    "### Gradient Boost"
   ]
  },
  {
   "cell_type": "code",
   "execution_count": 20,
   "id": "hired-request",
   "metadata": {},
   "outputs": [
    {
     "name": "stdout",
     "output_type": "stream",
     "text": [
      "Decision grad train/test accuracies 1.000/0.972\n"
     ]
    }
   ],
   "source": [
    "grad = grad.fit(X_train,y_train)\n",
    "y_train_pred = grad.predict(X_train)\n",
    "y_test_pred = grad.predict(X_test)\n",
    "grad_train = accuracy_score(y_train, y_train_pred)\n",
    "grad_test = accuracy_score(y_test, y_test_pred)\n",
    "print('Decision grad train/test accuracies %.3f/%.3f' %(grad_train,grad_test))"
   ]
  },
  {
   "cell_type": "markdown",
   "id": "selected-embassy",
   "metadata": {},
   "source": [
    "### XGBoost"
   ]
  },
  {
   "cell_type": "code",
   "execution_count": 21,
   "id": "conservative-syntax",
   "metadata": {},
   "outputs": [
    {
     "name": "stderr",
     "output_type": "stream",
     "text": [
      "/Users/insukjang/opt/anaconda3/lib/python3.8/site-packages/xgboost/sklearn.py:1146: UserWarning: The use of label encoder in XGBClassifier is deprecated and will be removed in a future release. To remove this warning, do the following: 1) Pass option use_label_encoder=False when constructing XGBClassifier object; and 2) Encode your labels (y) as integers starting with 0, i.e. 0, 1, 2, ..., [num_class - 1].\n",
      "  warnings.warn(label_encoder_deprecation_msg, UserWarning)\n"
     ]
    },
    {
     "name": "stdout",
     "output_type": "stream",
     "text": [
      "[14:50:57] WARNING: /Users/travis/build/dmlc/xgboost/src/learner.cc:573: \n",
      "Parameters: { \"scale_pos_weight\" } might not be used.\n",
      "\n",
      "  This may not be accurate due to some parameters are only used in language bindings but\n",
      "  passed down to XGBoost core.  Or some parameters are not used but slip through this\n",
      "  verification. Please open an issue if you find above cases.\n",
      "\n",
      "\n",
      "[14:50:57] WARNING: /Users/travis/build/dmlc/xgboost/src/learner.cc:1095: Starting in XGBoost 1.3.0, the default evaluation metric used with the objective 'multi:softprob' was changed from 'merror' to 'mlogloss'. Explicitly set eval_metric if you'd like to restore the old behavior.\n",
      "Decision xgb train/test accuracies 1.000/1.000\n"
     ]
    }
   ],
   "source": [
    "xgb = xgb.fit(X_train,y_train)\n",
    "y_train_pred = xgb.predict(X_train)\n",
    "y_test_pred = xgb.predict(X_test)\n",
    "xgb_train = accuracy_score(y_train, y_train_pred)\n",
    "xgb_test = accuracy_score(y_test, y_test_pred)\n",
    "print('Decision xgb train/test accuracies %.3f/%.3f' %(xgb_train,xgb_test))"
   ]
  },
  {
   "cell_type": "markdown",
   "id": "israeli-browse",
   "metadata": {},
   "source": [
    "Make a visualization:\n",
    "- For the quick run, I made the problem as a binary classification problem using two features. "
   ]
  },
  {
   "cell_type": "code",
   "execution_count": 22,
   "id": "spoken-permission",
   "metadata": {},
   "outputs": [
    {
     "data": {
      "image/png": "[encoded data removed]",
      "text/plain": [
       "<Figure size 576x216 with 2 Axes>"
      ]
     },
     "metadata": {
      "needs_background": "light"
     },
     "output_type": "display_data"
    }
   ],
   "source": [
    "df_wine=df_wine[df_wine['Class label']!=1]\n",
    "y=df_wine['Class label'].values\n",
    "X=df_wine[['Alcohol','OD280/OD315 of diluted wines']].values\n",
    "le=LabelEncoder()\n",
    "y=le.fit_transform(y)\n",
    "\n",
    "X_train, X_test, y_train, y_test = train_test_split(X, y, test_size=0.2,random_state=1,stratify=y)\n",
    "x_min = X_train[:,0].min()-1\n",
    "x_max = X_train[:,0].max()+1\n",
    "y_min = X_train[:,1].min()-1\n",
    "y_max = X_train[:,1].max()+1\n",
    "xx, yy = np.meshgrid(np.arange(x_min,x_max, 0.1),np.arange(y_min,y_max,0.1))\n",
    "f, axarr = plt.subplots(nrows=1, ncols=2,sharex='col',sharey='row',figsize=(8,3))\n",
    "for idx, clf, tt in zip([0,1],[tree,RF],\n",
    "                       ['Decision Tree','Random Forest']):\n",
    "    clf.fit(X_train,y_train)\n",
    "    Z = clf.predict(np.c_[xx.ravel(),yy.ravel()])\n",
    "    Z = Z.reshape(xx.shape)\n",
    "    axarr[idx].contourf(xx,yy,Z,alpha=0.3)\n",
    "    axarr[idx].scatter(X_train[y_train==0,0],X_train[y_train==0,1],c='blue',marker='^')\n",
    "    axarr[idx].scatter(X_train[y_train==1,0],X_train[y_train==1,1],c='red',marker='o')\n",
    "    axarr[idx].set_title(tt)\n",
    "axarr[0].set_ylabel('Alcohol')\n",
    "plt.text(10.1,-0.8,s='OD280/OD315 of diluted wines',ha='center',va='center')\n",
    "plt.show()"
   ]
  },
  {
   "cell_type": "markdown",
   "id": "returning-short",
   "metadata": {},
   "source": [
    "# <center> Lecture 09 - Stacking </center>\n",
    "\n",
    "This file demonstrates the classification stacking ensemble method. The regression stacking can be in a similar manner but using regressors. \n",
    "\n",
    "The stacking using `sklearn` can be done as follow:\n",
    "1. Have a train data set.\n",
    "2. Train the base models. In this example, we use `Logistic regression`, `KNN`, `SVM`, and `DT`.\n",
    "3. Build a meta model via `StackingClassifier`. Use `StackingRegressor` instead for a regressor. "
   ]
  },
  {
   "cell_type": "code",
   "execution_count": 23,
   "id": "smoking-consultancy",
   "metadata": {},
   "outputs": [],
   "source": [
    "from numpy import mean\n",
    "from numpy import std\n",
    "from sklearn.datasets import make_classification\n",
    "from sklearn.model_selection import cross_val_score\n",
    "from sklearn.model_selection import RepeatedStratifiedKFold\n",
    "from sklearn.linear_model import LogisticRegression\n",
    "from sklearn.neighbors import KNeighborsClassifier\n",
    "from sklearn.tree import DecisionTreeClassifier\n",
    "from sklearn.svm import SVC\n",
    "from sklearn.ensemble import StackingClassifier\n",
    "from matplotlib import pyplot"
   ]
  },
  {
   "cell_type": "markdown",
   "id": "fresh-danger",
   "metadata": {},
   "source": [
    "## 1. Train data\n",
    "We create a binary classification data set (1000 by 20) using `make_classification`. \n"
   ]
  },
  {
   "cell_type": "code",
   "execution_count": 24,
   "id": "several-companion",
   "metadata": {},
   "outputs": [],
   "source": [
    "df_wine = pd.read_csv('https://archive.ics.uci.edu/ml/machine-learning-databases/wine/wine.data',header=None)\n",
    "df_wine.columns = ['Class label','Alcohol','Malic acid','Ash','Alcalinity of ash','Magnesium','Total phenols',\n",
    "                    'Flavanoids','Nonflavanoid phenols','Proanthocyanins','Color intensity','Hue','OD280/OD315 of diluted wines','Proline']"
   ]
  },
  {
   "cell_type": "code",
   "execution_count": 25,
   "id": "genetic-sierra",
   "metadata": {},
   "outputs": [],
   "source": [
    "y=df_wine['Class label']\n",
    "X=df_wine.drop('Class label',axis=1)\n",
    "X_train, X_test, y_train, y_test = train_test_split(X, y, test_size=0.2,random_state=1,stratify=y)"
   ]
  },
  {
   "cell_type": "markdown",
   "id": "veterinary-deposit",
   "metadata": {},
   "source": [
    "## 2. Base Models\n"
   ]
  },
  {
   "cell_type": "code",
   "execution_count": 26,
   "id": "everyday-programming",
   "metadata": {},
   "outputs": [],
   "source": [
    "def get_models():\n",
    "    models = dict()\n",
    "    models['lr'] = LogisticRegression()\n",
    "    models['knn'] = KNeighborsClassifier()\n",
    "    models['DT'] = DecisionTreeClassifier()\n",
    "    models['svm'] = SVC()\n",
    "    return models"
   ]
  },
  {
   "cell_type": "code",
   "execution_count": 27,
   "id": "addressed-converter",
   "metadata": {},
   "outputs": [],
   "source": [
    "def evaluate_model(model, X, y):\n",
    "    cv = RepeatedStratifiedKFold(n_splits=10, n_repeats=3, random_state=1)\n",
    "    scores = cross_val_score(model, X, y, scoring='accuracy', cv=cv, n_jobs=-1, error_score='raise')\n",
    "    return scores"
   ]
  },
  {
   "cell_type": "code",
   "execution_count": 28,
   "id": "legal-discussion",
   "metadata": {},
   "outputs": [],
   "source": [
    "models = get_models()"
   ]
  },
  {
   "cell_type": "code",
   "execution_count": 29,
   "id": "proper-shuttle",
   "metadata": {},
   "outputs": [
    {
     "name": "stdout",
     "output_type": "stream",
     "text": [
      ">lr 0.943 (0.070)\n",
      ">knn 0.666 (0.119)\n",
      ">DT 0.893 (0.084)\n",
      ">svm 0.717 (0.117)\n"
     ]
    }
   ],
   "source": [
    "results, names = list(), list()\n",
    "for name, model in models.items():\n",
    "    scores = evaluate_model(model, X_train, y_train)\n",
    "    results.append(scores)\n",
    "    names.append(name)\n",
    "    print('>%s %.3f (%.3f)' % (name, mean(scores), std(scores)))"
   ]
  },
  {
   "cell_type": "markdown",
   "id": "supreme-carbon",
   "metadata": {},
   "source": [
    "The train model with logistic regression is significantly better than other classifiers indicating that the data is a linear-data and therefore, it is not necessary to do staking. However, let's observe how stacking can improve the classification if we do not include the logistic regression. Any linear models can be used for level 1 mdoel. \n",
    "\n",
    "In level 1 model, I used logistic regression."
   ]
  },
  {
   "cell_type": "code",
   "execution_count": 30,
   "id": "quality-dating",
   "metadata": {},
   "outputs": [],
   "source": [
    "def get_stacking():\n",
    "    # define the base models\n",
    "    level0 = list()\n",
    "    #level0.append(('lr', LogisticRegression()))\n",
    "    level0.append(('knn', KNeighborsClassifier()))\n",
    "    level0.append(('DT', DecisionTreeClassifier()))\n",
    "    level0.append(('svm', SVC()))\n",
    "    # define meta learner model\n",
    "    level1 = LogisticRegression()\n",
    "    # define the stacking ensemble\n",
    "    model = StackingClassifier(estimators=level0, final_estimator=level1, cv=5)\n",
    "    return model"
   ]
  },
  {
   "cell_type": "code",
   "execution_count": 31,
   "id": "posted-victim",
   "metadata": {},
   "outputs": [],
   "source": [
    "def get_models():\n",
    "    models = dict()\n",
    "    #models['lr'] = LogisticRegression()\n",
    "    models['knn'] = KNeighborsClassifier()\n",
    "    models['DT'] = DecisionTreeClassifier()\n",
    "    models['svm'] = SVC()\n",
    "    models['stacking'] = get_stacking()\n",
    "    return models"
   ]
  },
  {
   "cell_type": "code",
   "execution_count": 32,
   "id": "smooth-superintendent",
   "metadata": {},
   "outputs": [],
   "source": [
    "models = get_models()"
   ]
  },
  {
   "cell_type": "code",
   "execution_count": 33,
   "id": "massive-ratio",
   "metadata": {},
   "outputs": [
    {
     "name": "stdout",
     "output_type": "stream",
     "text": [
      ">knn 0.710 (0.094)\n",
      ">DT 0.879 (0.090)\n",
      ">svm 0.687 (0.096)\n",
      ">stacking 0.890 (0.089)\n"
     ]
    }
   ],
   "source": [
    "results, names = list(), list()\n",
    "for name, model in models.items():\n",
    "    scores = evaluate_model(model, X, y)\n",
    "    results.append(scores)\n",
    "    names.append(name)\n",
    "    print('>%s %.3f (%.3f)' % (name, mean(scores), std(scores)))"
   ]
  },
  {
   "cell_type": "markdown",
   "id": "cloudy-ribbon",
   "metadata": {},
   "source": [
    "Note that the accuracy with stacking is better than KNN, DT, and SVM but still logistic regression resulted better. "
   ]
  },
  {
   "cell_type": "code",
   "execution_count": 34,
   "id": "worth-popularity",
   "metadata": {},
   "outputs": [
    {
     "data": {
      "image/png": "[encoded data removed]",
      "text/plain": [
       "<Figure size 432x288 with 1 Axes>"
      ]
     },
     "metadata": {},
     "output_type": "display_data"
    }
   ],
   "source": [
    "pyplot.figure(facecolor='white')\n",
    "pyplot.boxplot(results, labels=names, showmeans=True)\n",
    "\n",
    "pyplot.ylabel('Score')\n",
    "pyplot.title('Stacking Classifier and baset models')\n",
    "pyplot.show()"
   ]
  },
  {
   "cell_type": "markdown",
   "id": "established-korea",
   "metadata": {},
   "source": [
    "## 2. Prediction"
   ]
  },
  {
   "cell_type": "code",
   "execution_count": 35,
   "id": "organic-flower",
   "metadata": {},
   "outputs": [
    {
     "data": {
      "text/plain": [
       "StackingClassifier(cv=5,\n",
       "                   estimators=[('knn', KNeighborsClassifier()),\n",
       "                               ('DT', DecisionTreeClassifier()),\n",
       "                               ('svm', SVC())],\n",
       "                   final_estimator=LogisticRegression())"
      ]
     },
     "execution_count": 35,
     "metadata": {},
     "output_type": "execute_result"
    }
   ],
   "source": [
    "model = get_stacking()\n",
    "model.fit(X_test,y_test)"
   ]
  },
  {
   "cell_type": "code",
   "execution_count": 36,
   "id": "physical-madison",
   "metadata": {},
   "outputs": [
    {
     "name": "stdout",
     "output_type": "stream",
     "text": [
      "Accuracy 0.9444444444444444\n"
     ]
    }
   ],
   "source": [
    "from sklearn.metrics import accuracy_score\n",
    "y_pred = model.predict(X_test)\n",
    "print('Accuracy',accuracy_score(y_test,y_pred))"
   ]
  },
  {
   "cell_type": "code",
   "execution_count": 38,
   "id": "crazy-being",
   "metadata": {},
   "outputs": [
    {
     "name": "stdout",
     "output_type": "stream",
     "text": [
      "Accuracy 0.971830985915493\n",
      "Accuracy 0.8888888888888888\n"
     ]
    },
    {
     "name": "stderr",
     "output_type": "stream",
     "text": [
      "/Users/insukjang/opt/anaconda3/lib/python3.8/site-packages/sklearn/linear_model/_logistic.py:763: ConvergenceWarning: lbfgs failed to converge (status=1):\n",
      "STOP: TOTAL NO. of ITERATIONS REACHED LIMIT.\n",
      "\n",
      "Increase the number of iterations (max_iter) or scale the data as shown in:\n",
      "    https://scikit-learn.org/stable/modules/preprocessing.html\n",
      "Please also refer to the documentation for alternative solver options:\n",
      "    https://scikit-learn.org/stable/modules/linear_model.html#logistic-regression\n",
      "  n_iter_i = _check_optimize_result(\n"
     ]
    }
   ],
   "source": [
    "LR = LogisticRegression()\n",
    "LR.fit(X_train,y_train)\n",
    "print('Accuracy',accuracy_score(y_train,LR.predict(X_train)))\n",
    "print('Accuracy',accuracy_score(y_test,LR.predict(X_test)))"
   ]
  },
  {
   "cell_type": "code",
   "execution_count": 39,
   "id": "sticky-convenience",
   "metadata": {},
   "outputs": [
    {
     "name": "stdout",
     "output_type": "stream",
     "text": [
      "Accuracy 0.7323943661971831\n",
      "Accuracy 0.6111111111111112\n"
     ]
    }
   ],
   "source": [
    "svc = SVC()\n",
    "svc.fit(X_train,y_train)\n",
    "print('Accuracy',accuracy_score(y_train,svc.predict(X_train)))\n",
    "print('Accuracy',accuracy_score(y_test,svc.predict(X_test)))"
   ]
  },
  {
   "cell_type": "markdown",
   "id": "auburn-convenience",
   "metadata": {},
   "source": []
  }
 ],
 "metadata": {
  "kernelspec": {
   "display_name": "Python 3",
   "language": "python",
   "name": "python3"
  },
  "language_info": {
   "codemirror_mode": {
    "name": "ipython",
    "version": 3
   },
   "file_extension": ".py",
   "mimetype": "text/x-python",
   "name": "python",
   "nbconvert_exporter": "python",
   "pygments_lexer": "ipython3",
   "version": "3.8.8"
  }
 },
 "nbformat": 4,
 "nbformat_minor": 5
}
